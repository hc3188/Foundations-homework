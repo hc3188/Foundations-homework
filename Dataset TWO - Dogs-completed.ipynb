{
 "cells": [
  {
   "cell_type": "markdown",
   "metadata": {},
   "source": [
    "# Homework 6, Part Two: A dataset about dogs.\n",
    "\n",
    "Data from [a FOIL request to New York City](https://www.muckrock.com/foi/new-york-city-17/pet-licensing-data-for-new-york-city-23826/)"
   ]
  },
  {
   "cell_type": "markdown",
   "metadata": {},
   "source": [
    "## Do your importing and your setup"
   ]
  },
  {
   "cell_type": "code",
   "execution_count": 29,
   "metadata": {},
   "outputs": [],
   "source": [
    "import pandas as pd\n",
    "import numpy as np "
   ]
  },
  {
   "cell_type": "markdown",
   "metadata": {},
   "source": [
    "## Read in the file `NYC_Dog_Licenses_Current_as_of_4-28-2016.xlsx` and look at the first five rows"
   ]
  },
  {
   "cell_type": "code",
   "execution_count": 30,
   "metadata": {},
   "outputs": [],
   "source": [
    "df = pd.read_excel('NYC_Dog_Licenses_Current_as_of_4-28-2016.xlsx', na_values= ['unknown','Unknown', 'UNKNOWN'])"
   ]
  },
  {
   "cell_type": "markdown",
   "metadata": {},
   "source": [
    "## How many rows do you have in the data? What are the column types?\n",
    "\n",
    "If there are more than 30,000 rows in your dataset, go back and only read in the first 30,000."
   ]
  },
  {
   "cell_type": "code",
   "execution_count": 31,
   "metadata": {},
   "outputs": [
    {
     "data": {
      "text/html": [
       "<div>\n",
       "<style scoped>\n",
       "    .dataframe tbody tr th:only-of-type {\n",
       "        vertical-align: middle;\n",
       "    }\n",
       "\n",
       "    .dataframe tbody tr th {\n",
       "        vertical-align: top;\n",
       "    }\n",
       "\n",
       "    .dataframe thead th {\n",
       "        text-align: right;\n",
       "    }\n",
       "</style>\n",
       "<table border=\"1\" class=\"dataframe\">\n",
       "  <thead>\n",
       "    <tr style=\"text-align: right;\">\n",
       "      <th></th>\n",
       "      <th>Owner Zip Code</th>\n",
       "      <th>Animal Name</th>\n",
       "      <th>Animal Gender</th>\n",
       "      <th>Primary Breed</th>\n",
       "      <th>Secondary Breed</th>\n",
       "      <th>Animal Dominant Color</th>\n",
       "      <th>Animal Secondary Color</th>\n",
       "      <th>Animal Third Color</th>\n",
       "      <th>Animal Birth</th>\n",
       "      <th>Spayed or Neut</th>\n",
       "      <th>Guard or Trained</th>\n",
       "      <th>Vaccinated</th>\n",
       "      <th>Application Date</th>\n",
       "      <th>License Issued Date</th>\n",
       "      <th>License Expired Date</th>\n",
       "    </tr>\n",
       "  </thead>\n",
       "  <tbody>\n",
       "    <tr>\n",
       "      <th>0</th>\n",
       "      <td>10024</td>\n",
       "      <td>BLUE MACK</td>\n",
       "      <td>M</td>\n",
       "      <td>NaN</td>\n",
       "      <td>AIREDALE TERR</td>\n",
       "      <td>BROWN</td>\n",
       "      <td>BLACK</td>\n",
       "      <td>NaN</td>\n",
       "      <td>2007-11-01</td>\n",
       "      <td>Yes</td>\n",
       "      <td>No</td>\n",
       "      <td>Yes</td>\n",
       "      <td>2012-09-19 16:01:19.647</td>\n",
       "      <td>2015-09-19</td>\n",
       "      <td>2016-09-19</td>\n",
       "    </tr>\n",
       "    <tr>\n",
       "      <th>1</th>\n",
       "      <td>10461</td>\n",
       "      <td>Indie Zephir</td>\n",
       "      <td>M</td>\n",
       "      <td>Rottweiler</td>\n",
       "      <td>NaN</td>\n",
       "      <td>BLACK</td>\n",
       "      <td>TAN</td>\n",
       "      <td>NaN</td>\n",
       "      <td>2013-04-01</td>\n",
       "      <td>No</td>\n",
       "      <td>No</td>\n",
       "      <td>Yes</td>\n",
       "      <td>2013-09-20 11:41:36.647</td>\n",
       "      <td>2014-09-20</td>\n",
       "      <td>2018-09-20</td>\n",
       "    </tr>\n",
       "    <tr>\n",
       "      <th>2</th>\n",
       "      <td>10013</td>\n",
       "      <td>Bilal</td>\n",
       "      <td>M</td>\n",
       "      <td>Australian Cattledog</td>\n",
       "      <td>NaN</td>\n",
       "      <td>Rust</td>\n",
       "      <td>NaN</td>\n",
       "      <td>NaN</td>\n",
       "      <td>2014-09-01</td>\n",
       "      <td>Yes</td>\n",
       "      <td>NaN</td>\n",
       "      <td>No</td>\n",
       "      <td>2014-09-12 13:13:36.713</td>\n",
       "      <td>2014-09-12</td>\n",
       "      <td>2019-09-12</td>\n",
       "    </tr>\n",
       "    <tr>\n",
       "      <th>3</th>\n",
       "      <td>10025</td>\n",
       "      <td>Buddy</td>\n",
       "      <td>M</td>\n",
       "      <td>NaN</td>\n",
       "      <td>Cockapoo</td>\n",
       "      <td>BLOND</td>\n",
       "      <td>WHITE</td>\n",
       "      <td>NaN</td>\n",
       "      <td>2008-04-01</td>\n",
       "      <td>Yes</td>\n",
       "      <td>No</td>\n",
       "      <td>Yes</td>\n",
       "      <td>2014-09-12 15:26:51.417</td>\n",
       "      <td>2014-09-12</td>\n",
       "      <td>2017-10-20</td>\n",
       "    </tr>\n",
       "    <tr>\n",
       "      <th>4</th>\n",
       "      <td>10013</td>\n",
       "      <td>Ali</td>\n",
       "      <td>M</td>\n",
       "      <td>Basenji</td>\n",
       "      <td>NaN</td>\n",
       "      <td>Black</td>\n",
       "      <td>NaN</td>\n",
       "      <td>NaN</td>\n",
       "      <td>2014-01-01</td>\n",
       "      <td>No</td>\n",
       "      <td>NaN</td>\n",
       "      <td>No</td>\n",
       "      <td>2014-09-12 15:43:17.707</td>\n",
       "      <td>2014-09-12</td>\n",
       "      <td>2019-09-12</td>\n",
       "    </tr>\n",
       "    <tr>\n",
       "      <th>...</th>\n",
       "      <td>...</td>\n",
       "      <td>...</td>\n",
       "      <td>...</td>\n",
       "      <td>...</td>\n",
       "      <td>...</td>\n",
       "      <td>...</td>\n",
       "      <td>...</td>\n",
       "      <td>...</td>\n",
       "      <td>...</td>\n",
       "      <td>...</td>\n",
       "      <td>...</td>\n",
       "      <td>...</td>\n",
       "      <td>...</td>\n",
       "      <td>...</td>\n",
       "      <td>...</td>\n",
       "    </tr>\n",
       "    <tr>\n",
       "      <th>29995</th>\n",
       "      <td>11372</td>\n",
       "      <td>Bella</td>\n",
       "      <td>F</td>\n",
       "      <td>NaN</td>\n",
       "      <td>Goldendoodle</td>\n",
       "      <td>CREAM</td>\n",
       "      <td>WHITE</td>\n",
       "      <td>TAN</td>\n",
       "      <td>2010-07-01</td>\n",
       "      <td>Yes</td>\n",
       "      <td>No</td>\n",
       "      <td>Yes</td>\n",
       "      <td>2015-08-22 19:00:39.303</td>\n",
       "      <td>2015-08-22</td>\n",
       "      <td>2016-09-27</td>\n",
       "    </tr>\n",
       "    <tr>\n",
       "      <th>29996</th>\n",
       "      <td>11417</td>\n",
       "      <td>Sadie</td>\n",
       "      <td>F</td>\n",
       "      <td>Schnauzer, Miniature</td>\n",
       "      <td>NaN</td>\n",
       "      <td>BLACK</td>\n",
       "      <td>BROWN</td>\n",
       "      <td>NaN</td>\n",
       "      <td>2010-05-01</td>\n",
       "      <td>Yes</td>\n",
       "      <td>No</td>\n",
       "      <td>Yes</td>\n",
       "      <td>2015-08-22 19:03:08.003</td>\n",
       "      <td>2015-08-22</td>\n",
       "      <td>2016-09-28</td>\n",
       "    </tr>\n",
       "    <tr>\n",
       "      <th>29997</th>\n",
       "      <td>11228</td>\n",
       "      <td>NaN</td>\n",
       "      <td>M</td>\n",
       "      <td>Pomeranian</td>\n",
       "      <td>NaN</td>\n",
       "      <td>Tan</td>\n",
       "      <td>White</td>\n",
       "      <td>NaN</td>\n",
       "      <td>2014-03-01</td>\n",
       "      <td>Yes</td>\n",
       "      <td>NaN</td>\n",
       "      <td>Yes</td>\n",
       "      <td>2015-08-22 19:04:56.720</td>\n",
       "      <td>2015-08-22</td>\n",
       "      <td>2016-08-22</td>\n",
       "    </tr>\n",
       "    <tr>\n",
       "      <th>29998</th>\n",
       "      <td>11217</td>\n",
       "      <td>daisy</td>\n",
       "      <td>F</td>\n",
       "      <td>NaN</td>\n",
       "      <td>NaN</td>\n",
       "      <td>GRAY</td>\n",
       "      <td>WHITE</td>\n",
       "      <td>BLACK</td>\n",
       "      <td>2009-01-01</td>\n",
       "      <td>Yes</td>\n",
       "      <td>No</td>\n",
       "      <td>Yes</td>\n",
       "      <td>2015-08-22 19:14:30.177</td>\n",
       "      <td>2015-08-22</td>\n",
       "      <td>2016-08-05</td>\n",
       "    </tr>\n",
       "    <tr>\n",
       "      <th>29999</th>\n",
       "      <td>10038</td>\n",
       "      <td>Squeeze</td>\n",
       "      <td>M</td>\n",
       "      <td>Shih Tzu</td>\n",
       "      <td>NaN</td>\n",
       "      <td>TAN</td>\n",
       "      <td>WHITE</td>\n",
       "      <td>NaN</td>\n",
       "      <td>2012-03-01</td>\n",
       "      <td>Yes</td>\n",
       "      <td>No</td>\n",
       "      <td>Yes</td>\n",
       "      <td>2015-08-22 19:20:53.700</td>\n",
       "      <td>2015-08-22</td>\n",
       "      <td>2016-07-23</td>\n",
       "    </tr>\n",
       "  </tbody>\n",
       "</table>\n",
       "<p>30000 rows × 15 columns</p>\n",
       "</div>"
      ],
      "text/plain": [
       "       Owner Zip Code   Animal Name Animal Gender         Primary Breed  \\\n",
       "0               10024     BLUE MACK             M                   NaN   \n",
       "1               10461  Indie Zephir             M            Rottweiler   \n",
       "2               10013         Bilal             M  Australian Cattledog   \n",
       "3               10025         Buddy             M                   NaN   \n",
       "4               10013           Ali             M               Basenji   \n",
       "...               ...           ...           ...                   ...   \n",
       "29995           11372         Bella             F                   NaN   \n",
       "29996           11417         Sadie             F  Schnauzer, Miniature   \n",
       "29997           11228           NaN             M            Pomeranian   \n",
       "29998           11217         daisy             F                   NaN   \n",
       "29999           10038       Squeeze             M              Shih Tzu   \n",
       "\n",
       "      Secondary Breed Animal Dominant Color Animal Secondary Color  \\\n",
       "0       AIREDALE TERR                 BROWN                  BLACK   \n",
       "1                 NaN                 BLACK                    TAN   \n",
       "2                 NaN                  Rust                    NaN   \n",
       "3            Cockapoo                 BLOND                  WHITE   \n",
       "4                 NaN                 Black                    NaN   \n",
       "...               ...                   ...                    ...   \n",
       "29995    Goldendoodle                 CREAM                  WHITE   \n",
       "29996             NaN                 BLACK                  BROWN   \n",
       "29997             NaN                   Tan                  White   \n",
       "29998             NaN                  GRAY                  WHITE   \n",
       "29999             NaN                   TAN                  WHITE   \n",
       "\n",
       "      Animal Third Color Animal Birth Spayed or Neut Guard or Trained  \\\n",
       "0                    NaN   2007-11-01            Yes               No   \n",
       "1                    NaN   2013-04-01             No               No   \n",
       "2                    NaN   2014-09-01            Yes              NaN   \n",
       "3                    NaN   2008-04-01            Yes               No   \n",
       "4                    NaN   2014-01-01             No              NaN   \n",
       "...                  ...          ...            ...              ...   \n",
       "29995                TAN   2010-07-01            Yes               No   \n",
       "29996                NaN   2010-05-01            Yes               No   \n",
       "29997                NaN   2014-03-01            Yes              NaN   \n",
       "29998              BLACK   2009-01-01            Yes               No   \n",
       "29999                NaN   2012-03-01            Yes               No   \n",
       "\n",
       "      Vaccinated        Application Date License Issued Date  \\\n",
       "0            Yes 2012-09-19 16:01:19.647          2015-09-19   \n",
       "1            Yes 2013-09-20 11:41:36.647          2014-09-20   \n",
       "2             No 2014-09-12 13:13:36.713          2014-09-12   \n",
       "3            Yes 2014-09-12 15:26:51.417          2014-09-12   \n",
       "4             No 2014-09-12 15:43:17.707          2014-09-12   \n",
       "...          ...                     ...                 ...   \n",
       "29995        Yes 2015-08-22 19:00:39.303          2015-08-22   \n",
       "29996        Yes 2015-08-22 19:03:08.003          2015-08-22   \n",
       "29997        Yes 2015-08-22 19:04:56.720          2015-08-22   \n",
       "29998        Yes 2015-08-22 19:14:30.177          2015-08-22   \n",
       "29999        Yes 2015-08-22 19:20:53.700          2015-08-22   \n",
       "\n",
       "      License Expired Date  \n",
       "0               2016-09-19  \n",
       "1               2018-09-20  \n",
       "2               2019-09-12  \n",
       "3               2017-10-20  \n",
       "4               2019-09-12  \n",
       "...                    ...  \n",
       "29995           2016-09-27  \n",
       "29996           2016-09-28  \n",
       "29997           2016-08-22  \n",
       "29998           2016-08-05  \n",
       "29999           2016-07-23  \n",
       "\n",
       "[30000 rows x 15 columns]"
      ]
     },
     "execution_count": 31,
     "metadata": {},
     "output_type": "execute_result"
    }
   ],
   "source": [
    "df = df.head(30000)\n",
    "df"
   ]
  },
  {
   "cell_type": "markdown",
   "metadata": {},
   "source": [
    "## Describe the dataset in words. What is each row? List two column titles along with what each of those columns means.\n",
    "\n",
    "For example: “Each row is an animal in the zoo. `is_reptile` is whether the animal is a reptile or not”"
   ]
  },
  {
   "cell_type": "code",
   "execution_count": 32,
   "metadata": {},
   "outputs": [],
   "source": [
    "#Each row is a dog. OwnerZipCode is where the owner lives, aka\n",
    "#Where the dog lives. PrimaryBreed is the kind of dog it is."
   ]
  },
  {
   "cell_type": "markdown",
   "metadata": {},
   "source": [
    "# Your thoughts\n",
    "\n",
    "Think of four questions you could ask this dataset. **Don't ask them**, just write them down in the cell below. Feel free to use either Markdown or Python comments."
   ]
  },
  {
   "cell_type": "code",
   "execution_count": 33,
   "metadata": {},
   "outputs": [],
   "source": [
    "#I want to know what License Expired Date means. \n",
    "#I want to know what the most common dog name is \n",
    "#I want to know what the most common dog breed is\n",
    "#I want to know which borough has the most dogs"
   ]
  },
  {
   "cell_type": "markdown",
   "metadata": {},
   "source": [
    "# Looking at some dogs"
   ]
  },
  {
   "cell_type": "markdown",
   "metadata": {},
   "source": [
    "## What are the most popular (primary) breeds of dogs? Graph the top 10."
   ]
  },
  {
   "cell_type": "code",
   "execution_count": 34,
   "metadata": {},
   "outputs": [
    {
     "data": {
      "text/plain": [
       "Yorkshire Terrier                       1882\n",
       "Shih Tzu                                1760\n",
       "Chihuahua                               1535\n",
       "Maltese                                 1133\n",
       "Labrador Retriever                      1074\n",
       "American Pit Bull Terrier/Pit Bull       780\n",
       "Labrador Retriever Crossbreed            738\n",
       "American Pit Bull Mix / Pit Bull Mix     722\n",
       "Jack Russell Terrier                     553\n",
       "Beagle                                   546\n",
       "Name: Primary Breed, dtype: int64"
      ]
     },
     "execution_count": 34,
     "metadata": {},
     "output_type": "execute_result"
    }
   ],
   "source": [
    "df['Primary Breed'].value_counts().head(10)"
   ]
  },
  {
   "cell_type": "markdown",
   "metadata": {},
   "source": [
    "## \"Unknown\" is a terrible breed! Graph the top 10 breeds that are NOT Unknown"
   ]
  },
  {
   "cell_type": "code",
   "execution_count": 35,
   "metadata": {},
   "outputs": [
    {
     "data": {
      "text/plain": [
       "<AxesSubplot:>"
      ]
     },
     "execution_count": 35,
     "metadata": {},
     "output_type": "execute_result"
    },
    {
     "data": {
      "image/png": "[encoded data removed]",
      "text/plain": [
       "<Figure size 432x288 with 1 Axes>"
      ]
     },
     "metadata": {
      "needs_background": "light"
     },
     "output_type": "display_data"
    }
   ],
   "source": [
    "df['Primary Breed'].value_counts().head(10).sort_values(ascending = True).plot(kind= 'barh')"
   ]
  },
  {
   "cell_type": "markdown",
   "metadata": {},
   "source": [
    "## What are the most popular dog names?"
   ]
  },
  {
   "cell_type": "code",
   "execution_count": 36,
   "metadata": {},
   "outputs": [
    {
     "data": {
      "text/plain": [
       "Max        202\n",
       "Bella      193\n",
       "Charlie    172\n",
       "Lola       146\n",
       "Rocky      140\n",
       "Lucy       128\n",
       "Coco       114\n",
       "Buddy      113\n",
       "Lucky      106\n",
       "Daisy       90\n",
       "Name: Animal Name, dtype: int64"
      ]
     },
     "execution_count": 36,
     "metadata": {},
     "output_type": "execute_result"
    }
   ],
   "source": [
    "df['Animal Name'].value_counts().head(10)"
   ]
  },
  {
   "cell_type": "markdown",
   "metadata": {},
   "source": [
    "## Do any dogs have your name? How many dogs are named \"Max,\" and how many are named \"Maxwell\"?"
   ]
  },
  {
   "cell_type": "code",
   "execution_count": 37,
   "metadata": {},
   "outputs": [
    {
     "data": {
      "text/plain": [
       "Owner Zip Code            11\n",
       "Animal Name               11\n",
       "Animal Gender             11\n",
       "Primary Breed              9\n",
       "Secondary Breed            2\n",
       "Animal Dominant Color     11\n",
       "Animal Secondary Color     8\n",
       "Animal Third Color         4\n",
       "Animal Birth              11\n",
       "Spayed or Neut            11\n",
       "Guard or Trained           6\n",
       "Vaccinated                11\n",
       "Application Date          11\n",
       "License Issued Date       11\n",
       "License Expired Date      11\n",
       "dtype: int64"
      ]
     },
     "execution_count": 37,
     "metadata": {},
     "output_type": "execute_result"
    }
   ],
   "source": [
    "df[df['Animal Name'] == 'Maxwell'].count()"
   ]
  },
  {
   "cell_type": "code",
   "execution_count": 38,
   "metadata": {},
   "outputs": [
    {
     "data": {
      "text/plain": [
       "Owner Zip Code            1\n",
       "Animal Name               1\n",
       "Animal Gender             1\n",
       "Primary Breed             1\n",
       "Secondary Breed           0\n",
       "Animal Dominant Color     1\n",
       "Animal Secondary Color    0\n",
       "Animal Third Color        0\n",
       "Animal Birth              1\n",
       "Spayed or Neut            1\n",
       "Guard or Trained          1\n",
       "Vaccinated                1\n",
       "Application Date          1\n",
       "License Issued Date       1\n",
       "License Expired Date      1\n",
       "dtype: int64"
      ]
     },
     "execution_count": 38,
     "metadata": {},
     "output_type": "execute_result"
    }
   ],
   "source": [
    "df[df['Animal Name'] == 'Harrison'].count()"
   ]
  },
  {
   "cell_type": "markdown",
   "metadata": {},
   "source": [
    "## What percentage of dogs are guard dogs?\n",
    "\n",
    "Check out the documentation for [value counts](https://pandas.pydata.org/pandas-docs/stable/generated/pandas.Series.value_counts.html)."
   ]
  },
  {
   "cell_type": "code",
   "execution_count": 39,
   "metadata": {},
   "outputs": [
    {
     "data": {
      "text/plain": [
       "No     99.914254\n",
       "Yes     0.085746\n",
       "Name: Guard or Trained, dtype: float64"
      ]
     },
     "execution_count": 39,
     "metadata": {},
     "output_type": "execute_result"
    }
   ],
   "source": [
    "df['Guard or Trained'].value_counts(normalize = True)*100"
   ]
  },
  {
   "cell_type": "code",
   "execution_count": null,
   "metadata": {},
   "outputs": [],
   "source": []
  },
  {
   "cell_type": "markdown",
   "metadata": {},
   "source": [
    "## What are the actual numbers?"
   ]
  },
  {
   "cell_type": "code",
   "execution_count": 40,
   "metadata": {},
   "outputs": [
    {
     "data": {
      "text/plain": [
       "No     19809\n",
       "Yes       17\n",
       "Name: Guard or Trained, dtype: int64"
      ]
     },
     "execution_count": 40,
     "metadata": {},
     "output_type": "execute_result"
    }
   ],
   "source": [
    "df['Guard or Trained'].value_counts()"
   ]
  },
  {
   "cell_type": "markdown",
   "metadata": {},
   "source": [
    "## Wait... if you add that up, is it the same as your number of rows? Where are the other dogs???? How can we find them??????\n",
    "\n",
    "Use your `.head()` to think about it, then you'll do some magic with `.value_counts()`"
   ]
  },
  {
   "cell_type": "code",
   "execution_count": 41,
   "metadata": {},
   "outputs": [
    {
     "data": {
      "text/plain": [
       "False    19826\n",
       "True     10174\n",
       "Name: Guard or Trained, dtype: int64"
      ]
     },
     "execution_count": 41,
     "metadata": {},
     "output_type": "execute_result"
    }
   ],
   "source": [
    "df['Guard or Trained'].isna().value_counts()"
   ]
  },
  {
   "cell_type": "markdown",
   "metadata": {},
   "source": [
    "## Fill in all of those empty \"Guard or Trained\" columns with \"No\"\n",
    "\n",
    "Then check your result with another `.value_counts()`"
   ]
  },
  {
   "cell_type": "code",
   "execution_count": 42,
   "metadata": {},
   "outputs": [
    {
     "data": {
      "text/plain": [
       "No     29983\n",
       "Yes       17\n",
       "Name: Guard or Trained, dtype: int64"
      ]
     },
     "execution_count": 42,
     "metadata": {},
     "output_type": "execute_result"
    }
   ],
   "source": [
    "df['Guard or Trained'] = df['Guard or Trained'].replace({np.nan : 'No'})\n",
    "df['Guard or Trained'].value_counts()"
   ]
  },
  {
   "cell_type": "markdown",
   "metadata": {},
   "source": [
    "## What are the top dog breeds for guard dogs? "
   ]
  },
  {
   "cell_type": "code",
   "execution_count": 43,
   "metadata": {},
   "outputs": [
    {
     "data": {
      "text/plain": [
       "German Shepherd Dog           3\n",
       "Shih Tzu                      1\n",
       "German Shepherd Crossbreed    1\n",
       "Labrador Retriever            1\n",
       "Poodle, Standard              1\n",
       "Rottweiler                    1\n",
       "Yorkshire Terrier             1\n",
       "Schnauzer, Miniature          1\n",
       "Doberman Pinscher             1\n",
       "Golden Retriever              1\n",
       "Name: Primary Breed, dtype: int64"
      ]
     },
     "execution_count": 43,
     "metadata": {},
     "output_type": "execute_result"
    }
   ],
   "source": [
    "df.loc[(df['Guard or Trained'] == 'Yes'), 'Primary Breed'].value_counts()"
   ]
  },
  {
   "cell_type": "markdown",
   "metadata": {},
   "source": [
    "## Create a new column called \"year\" that is the dog's year of birth\n",
    "\n",
    "The `Animal Birth` column is a datetime, so you can get the year out of it with the code `df['Animal Birth'].apply(lambda birth: birth.year)`."
   ]
  },
  {
   "cell_type": "code",
   "execution_count": 44,
   "metadata": {},
   "outputs": [],
   "source": [
    "df['year'] = df['Animal Birth'].apply(lambda birth: birth.year)"
   ]
  },
  {
   "cell_type": "markdown",
   "metadata": {},
   "source": [
    "## Calculate a new column called “age” that shows approximately how old the dog is. How old are dogs on average?"
   ]
  },
  {
   "cell_type": "code",
   "execution_count": 45,
   "metadata": {},
   "outputs": [
    {
     "data": {
      "text/plain": [
       "10.712433333333333"
      ]
     },
     "execution_count": 45,
     "metadata": {},
     "output_type": "execute_result"
    }
   ],
   "source": [
    "df['age'] = 2020 - df['year']\n",
    "df['age'].mean()"
   ]
  },
  {
   "cell_type": "markdown",
   "metadata": {},
   "source": [
    "# Joining data together"
   ]
  },
  {
   "cell_type": "code",
   "execution_count": 46,
   "metadata": {},
   "outputs": [
    {
     "data": {
      "text/html": [
       "<div>\n",
       "<style scoped>\n",
       "    .dataframe tbody tr th:only-of-type {\n",
       "        vertical-align: middle;\n",
       "    }\n",
       "\n",
       "    .dataframe tbody tr th {\n",
       "        vertical-align: top;\n",
       "    }\n",
       "\n",
       "    .dataframe thead th {\n",
       "        text-align: right;\n",
       "    }\n",
       "</style>\n",
       "<table border=\"1\" class=\"dataframe\">\n",
       "  <thead>\n",
       "    <tr style=\"text-align: right;\">\n",
       "      <th></th>\n",
       "      <th>Owner Zip Code</th>\n",
       "      <th>Animal Name</th>\n",
       "      <th>Animal Gender</th>\n",
       "      <th>Primary Breed</th>\n",
       "      <th>Secondary Breed</th>\n",
       "      <th>Animal Dominant Color</th>\n",
       "      <th>Animal Secondary Color</th>\n",
       "      <th>Animal Third Color</th>\n",
       "      <th>Animal Birth</th>\n",
       "      <th>Spayed or Neut</th>\n",
       "      <th>Guard or Trained</th>\n",
       "      <th>Vaccinated</th>\n",
       "      <th>Application Date</th>\n",
       "      <th>License Issued Date</th>\n",
       "      <th>License Expired Date</th>\n",
       "      <th>year</th>\n",
       "      <th>age</th>\n",
       "      <th>neighborhood</th>\n",
       "      <th>zip</th>\n",
       "      <th>borough</th>\n",
       "    </tr>\n",
       "  </thead>\n",
       "  <tbody>\n",
       "    <tr>\n",
       "      <th>0</th>\n",
       "      <td>10024</td>\n",
       "      <td>BLUE MACK</td>\n",
       "      <td>M</td>\n",
       "      <td>NaN</td>\n",
       "      <td>AIREDALE TERR</td>\n",
       "      <td>BROWN</td>\n",
       "      <td>BLACK</td>\n",
       "      <td>NaN</td>\n",
       "      <td>2007-11-01</td>\n",
       "      <td>Yes</td>\n",
       "      <td>No</td>\n",
       "      <td>Yes</td>\n",
       "      <td>2012-09-19 16:01:19.647</td>\n",
       "      <td>2015-09-19</td>\n",
       "      <td>2016-09-19</td>\n",
       "      <td>2007</td>\n",
       "      <td>13</td>\n",
       "      <td>Upper West Side</td>\n",
       "      <td>10024</td>\n",
       "      <td>Manhattan</td>\n",
       "    </tr>\n",
       "    <tr>\n",
       "      <th>1</th>\n",
       "      <td>10024</td>\n",
       "      <td>Louie</td>\n",
       "      <td>M</td>\n",
       "      <td>NaN</td>\n",
       "      <td>Coonhound</td>\n",
       "      <td>Black</td>\n",
       "      <td>White</td>\n",
       "      <td>Brown</td>\n",
       "      <td>2008-05-01</td>\n",
       "      <td>Yes</td>\n",
       "      <td>No</td>\n",
       "      <td>Yes</td>\n",
       "      <td>2014-09-15 16:36:20.200</td>\n",
       "      <td>2014-09-15</td>\n",
       "      <td>2017-09-03</td>\n",
       "      <td>2008</td>\n",
       "      <td>12</td>\n",
       "      <td>Upper West Side</td>\n",
       "      <td>10024</td>\n",
       "      <td>Manhattan</td>\n",
       "    </tr>\n",
       "    <tr>\n",
       "      <th>2</th>\n",
       "      <td>10024</td>\n",
       "      <td>Tosha</td>\n",
       "      <td>F</td>\n",
       "      <td>Collie, Smooth Coat</td>\n",
       "      <td>NaN</td>\n",
       "      <td>BLUE MERLE</td>\n",
       "      <td>WHITE</td>\n",
       "      <td>TAN</td>\n",
       "      <td>2011-12-01</td>\n",
       "      <td>Yes</td>\n",
       "      <td>No</td>\n",
       "      <td>Yes</td>\n",
       "      <td>2014-09-16 10:22:07.867</td>\n",
       "      <td>2014-09-16</td>\n",
       "      <td>2017-10-11</td>\n",
       "      <td>2011</td>\n",
       "      <td>9</td>\n",
       "      <td>Upper West Side</td>\n",
       "      <td>10024</td>\n",
       "      <td>Manhattan</td>\n",
       "    </tr>\n",
       "    <tr>\n",
       "      <th>3</th>\n",
       "      <td>10024</td>\n",
       "      <td>Poppett</td>\n",
       "      <td>F</td>\n",
       "      <td>Dachshund, Long Haired Miniature</td>\n",
       "      <td>NaN</td>\n",
       "      <td>Black</td>\n",
       "      <td>Brown</td>\n",
       "      <td>Silver</td>\n",
       "      <td>2011-02-01</td>\n",
       "      <td>Yes</td>\n",
       "      <td>No</td>\n",
       "      <td>Yes</td>\n",
       "      <td>2014-09-18 16:25:57.323</td>\n",
       "      <td>2014-09-18</td>\n",
       "      <td>2019-09-18</td>\n",
       "      <td>2011</td>\n",
       "      <td>9</td>\n",
       "      <td>Upper West Side</td>\n",
       "      <td>10024</td>\n",
       "      <td>Manhattan</td>\n",
       "    </tr>\n",
       "    <tr>\n",
       "      <th>4</th>\n",
       "      <td>10024</td>\n",
       "      <td>Harlen</td>\n",
       "      <td>M</td>\n",
       "      <td>NaN</td>\n",
       "      <td>Plott Hound</td>\n",
       "      <td>BLACK</td>\n",
       "      <td>TAN</td>\n",
       "      <td>BROWN</td>\n",
       "      <td>2007-05-01</td>\n",
       "      <td>Yes</td>\n",
       "      <td>No</td>\n",
       "      <td>Yes</td>\n",
       "      <td>2014-09-25 17:11:20.713</td>\n",
       "      <td>2014-09-25</td>\n",
       "      <td>2016-08-20</td>\n",
       "      <td>2007</td>\n",
       "      <td>13</td>\n",
       "      <td>Upper West Side</td>\n",
       "      <td>10024</td>\n",
       "      <td>Manhattan</td>\n",
       "    </tr>\n",
       "    <tr>\n",
       "      <th>...</th>\n",
       "      <td>...</td>\n",
       "      <td>...</td>\n",
       "      <td>...</td>\n",
       "      <td>...</td>\n",
       "      <td>...</td>\n",
       "      <td>...</td>\n",
       "      <td>...</td>\n",
       "      <td>...</td>\n",
       "      <td>...</td>\n",
       "      <td>...</td>\n",
       "      <td>...</td>\n",
       "      <td>...</td>\n",
       "      <td>...</td>\n",
       "      <td>...</td>\n",
       "      <td>...</td>\n",
       "      <td>...</td>\n",
       "      <td>...</td>\n",
       "      <td>...</td>\n",
       "      <td>...</td>\n",
       "      <td>...</td>\n",
       "    </tr>\n",
       "    <tr>\n",
       "      <th>29568</th>\n",
       "      <td>11436</td>\n",
       "      <td>Jack</td>\n",
       "      <td>M</td>\n",
       "      <td>Jack Russell Terrier</td>\n",
       "      <td>NaN</td>\n",
       "      <td>WHITE</td>\n",
       "      <td>BLACK</td>\n",
       "      <td>BROWN</td>\n",
       "      <td>2010-01-01</td>\n",
       "      <td>Yes</td>\n",
       "      <td>No</td>\n",
       "      <td>Yes</td>\n",
       "      <td>2015-08-09 17:43:18.710</td>\n",
       "      <td>2015-08-09</td>\n",
       "      <td>2016-08-10</td>\n",
       "      <td>2010</td>\n",
       "      <td>10</td>\n",
       "      <td>Jamaica</td>\n",
       "      <td>11436</td>\n",
       "      <td>Queens</td>\n",
       "    </tr>\n",
       "    <tr>\n",
       "      <th>29569</th>\n",
       "      <td>11436</td>\n",
       "      <td>ROXY</td>\n",
       "      <td>F</td>\n",
       "      <td>NaN</td>\n",
       "      <td>\\HAR PEI X</td>\n",
       "      <td>BLACK</td>\n",
       "      <td>NaN</td>\n",
       "      <td>NaN</td>\n",
       "      <td>2003-01-01</td>\n",
       "      <td>Yes</td>\n",
       "      <td>No</td>\n",
       "      <td>Yes</td>\n",
       "      <td>2015-08-12 06:37:28.877</td>\n",
       "      <td>2015-08-12</td>\n",
       "      <td>2017-08-30</td>\n",
       "      <td>2003</td>\n",
       "      <td>17</td>\n",
       "      <td>Jamaica</td>\n",
       "      <td>11436</td>\n",
       "      <td>Queens</td>\n",
       "    </tr>\n",
       "    <tr>\n",
       "      <th>29570</th>\n",
       "      <td>11436</td>\n",
       "      <td>marco</td>\n",
       "      <td>M</td>\n",
       "      <td>Yorkshire Terrier</td>\n",
       "      <td>NaN</td>\n",
       "      <td>BROWN</td>\n",
       "      <td>GRAY</td>\n",
       "      <td>NaN</td>\n",
       "      <td>2009-01-01</td>\n",
       "      <td>No</td>\n",
       "      <td>No</td>\n",
       "      <td>Yes</td>\n",
       "      <td>2015-08-13 10:20:46.697</td>\n",
       "      <td>2015-08-13</td>\n",
       "      <td>2016-08-20</td>\n",
       "      <td>2009</td>\n",
       "      <td>11</td>\n",
       "      <td>Jamaica</td>\n",
       "      <td>11436</td>\n",
       "      <td>Queens</td>\n",
       "    </tr>\n",
       "    <tr>\n",
       "      <th>29571</th>\n",
       "      <td>11436</td>\n",
       "      <td>Maximilian</td>\n",
       "      <td>M</td>\n",
       "      <td>Shih Tzu</td>\n",
       "      <td>NaN</td>\n",
       "      <td>WHITE</td>\n",
       "      <td>TAN</td>\n",
       "      <td>NaN</td>\n",
       "      <td>2004-01-01</td>\n",
       "      <td>Yes</td>\n",
       "      <td>No</td>\n",
       "      <td>Yes</td>\n",
       "      <td>2015-08-19 11:49:32.743</td>\n",
       "      <td>2015-08-19</td>\n",
       "      <td>2016-08-30</td>\n",
       "      <td>2004</td>\n",
       "      <td>16</td>\n",
       "      <td>Jamaica</td>\n",
       "      <td>11436</td>\n",
       "      <td>Queens</td>\n",
       "    </tr>\n",
       "    <tr>\n",
       "      <th>29572</th>\n",
       "      <td>11005</td>\n",
       "      <td>Bichon</td>\n",
       "      <td>F</td>\n",
       "      <td>Bichon Frise</td>\n",
       "      <td>NaN</td>\n",
       "      <td>White</td>\n",
       "      <td>NaN</td>\n",
       "      <td>NaN</td>\n",
       "      <td>2015-05-01</td>\n",
       "      <td>No</td>\n",
       "      <td>No</td>\n",
       "      <td>No</td>\n",
       "      <td>2015-08-06 18:46:01.953</td>\n",
       "      <td>2015-08-06</td>\n",
       "      <td>2016-08-06</td>\n",
       "      <td>2015</td>\n",
       "      <td>5</td>\n",
       "      <td>Southeast Queens</td>\n",
       "      <td>11005</td>\n",
       "      <td>Queens</td>\n",
       "    </tr>\n",
       "  </tbody>\n",
       "</table>\n",
       "<p>29573 rows × 20 columns</p>\n",
       "</div>"
      ],
      "text/plain": [
       "       Owner Zip Code Animal Name Animal Gender  \\\n",
       "0               10024   BLUE MACK             M   \n",
       "1               10024       Louie             M   \n",
       "2               10024       Tosha             F   \n",
       "3               10024     Poppett             F   \n",
       "4               10024      Harlen             M   \n",
       "...               ...         ...           ...   \n",
       "29568           11436        Jack             M   \n",
       "29569           11436  ROXY                   F   \n",
       "29570           11436       marco             M   \n",
       "29571           11436  Maximilian             M   \n",
       "29572           11005      Bichon             F   \n",
       "\n",
       "                          Primary Breed  Secondary Breed  \\\n",
       "0                                   NaN    AIREDALE TERR   \n",
       "1                                   NaN        Coonhound   \n",
       "2                   Collie, Smooth Coat              NaN   \n",
       "3      Dachshund, Long Haired Miniature              NaN   \n",
       "4                                   NaN      Plott Hound   \n",
       "...                                 ...              ...   \n",
       "29568              Jack Russell Terrier              NaN   \n",
       "29569                               NaN  \\HAR PEI X        \n",
       "29570                 Yorkshire Terrier              NaN   \n",
       "29571                          Shih Tzu              NaN   \n",
       "29572                      Bichon Frise              NaN   \n",
       "\n",
       "      Animal Dominant Color Animal Secondary Color Animal Third Color  \\\n",
       "0                     BROWN                  BLACK                NaN   \n",
       "1                     Black                  White              Brown   \n",
       "2                BLUE MERLE                  WHITE                TAN   \n",
       "3                     Black                  Brown             Silver   \n",
       "4                     BLACK                    TAN              BROWN   \n",
       "...                     ...                    ...                ...   \n",
       "29568                 WHITE                  BLACK              BROWN   \n",
       "29569                 BLACK                    NaN                NaN   \n",
       "29570                 BROWN                   GRAY                NaN   \n",
       "29571                 WHITE                    TAN                NaN   \n",
       "29572                 White                    NaN                NaN   \n",
       "\n",
       "      Animal Birth Spayed or Neut Guard or Trained Vaccinated  \\\n",
       "0       2007-11-01            Yes               No        Yes   \n",
       "1       2008-05-01            Yes               No        Yes   \n",
       "2       2011-12-01            Yes               No        Yes   \n",
       "3       2011-02-01            Yes               No        Yes   \n",
       "4       2007-05-01            Yes               No        Yes   \n",
       "...            ...            ...              ...        ...   \n",
       "29568   2010-01-01            Yes               No        Yes   \n",
       "29569   2003-01-01            Yes               No        Yes   \n",
       "29570   2009-01-01             No               No        Yes   \n",
       "29571   2004-01-01            Yes               No        Yes   \n",
       "29572   2015-05-01             No               No         No   \n",
       "\n",
       "             Application Date License Issued Date License Expired Date  year  \\\n",
       "0     2012-09-19 16:01:19.647          2015-09-19           2016-09-19  2007   \n",
       "1     2014-09-15 16:36:20.200          2014-09-15           2017-09-03  2008   \n",
       "2     2014-09-16 10:22:07.867          2014-09-16           2017-10-11  2011   \n",
       "3     2014-09-18 16:25:57.323          2014-09-18           2019-09-18  2011   \n",
       "4     2014-09-25 17:11:20.713          2014-09-25           2016-08-20  2007   \n",
       "...                       ...                 ...                  ...   ...   \n",
       "29568 2015-08-09 17:43:18.710          2015-08-09           2016-08-10  2010   \n",
       "29569 2015-08-12 06:37:28.877          2015-08-12           2017-08-30  2003   \n",
       "29570 2015-08-13 10:20:46.697          2015-08-13           2016-08-20  2009   \n",
       "29571 2015-08-19 11:49:32.743          2015-08-19           2016-08-30  2004   \n",
       "29572 2015-08-06 18:46:01.953          2015-08-06           2016-08-06  2015   \n",
       "\n",
       "       age      neighborhood    zip    borough  \n",
       "0       13   Upper West Side  10024  Manhattan  \n",
       "1       12   Upper West Side  10024  Manhattan  \n",
       "2        9   Upper West Side  10024  Manhattan  \n",
       "3        9   Upper West Side  10024  Manhattan  \n",
       "4       13   Upper West Side  10024  Manhattan  \n",
       "...    ...               ...    ...        ...  \n",
       "29568   10           Jamaica  11436     Queens  \n",
       "29569   17           Jamaica  11436     Queens  \n",
       "29570   11           Jamaica  11436     Queens  \n",
       "29571   16           Jamaica  11436     Queens  \n",
       "29572    5  Southeast Queens  11005     Queens  \n",
       "\n",
       "[29573 rows x 20 columns]"
      ]
     },
     "execution_count": 46,
     "metadata": {},
     "output_type": "execute_result"
    }
   ],
   "source": [
    "df1 = pd.read_csv('zipcodes-neighborhoods.csv')\n",
    "df1\n",
    "\n",
    "df_merged = df.merge(df1, left_on ='Owner Zip Code', right_on = 'zip')\n",
    "\n",
    "df_merged"
   ]
  },
  {
   "cell_type": "markdown",
   "metadata": {},
   "source": [
    "## Which neighborhood does each dog live in?\n",
    "\n",
    "You also have a (terrible) list of NYC neighborhoods in `zipcodes-neighborhoods.csv`. Join these two datasets together, so we know what neighborhood each dog lives in. **Be sure to not read it in as `df`, or else you'll overwrite your dogs dataframe.**"
   ]
  },
  {
   "cell_type": "code",
   "execution_count": 47,
   "metadata": {},
   "outputs": [
    {
     "data": {
      "text/plain": [
       "Upper West Side                  2000\n",
       "Upper East Side                  1851\n",
       "Northwest Brooklyn               1716\n",
       "Chelsea and Clinton              1533\n",
       "South Shore                      1375\n",
       "Lower East Side                  1149\n",
       "West Queens                      1141\n",
       "Gramercy Park and Murray Hill    1002\n",
       "West Central Queens               984\n",
       "Southeast Bronx                   925\n",
       "Northwest Queens                  850\n",
       "Southern Brooklyn                 839\n",
       "Southwest Brooklyn                811\n",
       "North Queens                      766\n",
       "Inwood and Washington Heights     752\n",
       "Greenwich Village and Soho        740\n",
       "Central Brooklyn                  715\n",
       "Southwest Queens                  683\n",
       "Borough Park                      639\n",
       "Bushwick and Williamsburg         613\n",
       "Stapleton and St. George          562\n",
       "Greenpoint                        538\n",
       "Central Harlem                    534\n",
       "Canarsie and Flatlands            531\n",
       "Mid-Island                        486\n",
       "East Harlem                       482\n",
       "Flatbush                          457\n",
       "Lower Manhattan                   435\n",
       "Kingsbridge and Riverdale         395\n",
       "Jamaica                           383\n",
       "Northeast Queens                  371\n",
       "Southeast Queens                  365\n",
       "Bronx Park and Fordham            356\n",
       "Sunset Park                       316\n",
       "Central Queens                    308\n",
       "Port Richmond                     304\n",
       "Rockaways                         303\n",
       "East New York and New Lots        291\n",
       "Northeast Bronx                   279\n",
       "High Bridge and Morrisania        277\n",
       "Central Bronx                     261\n",
       "Hunts Point and Mott Haven        255\n",
       "Name: neighborhood, dtype: int64"
      ]
     },
     "execution_count": 47,
     "metadata": {},
     "output_type": "execute_result"
    }
   ],
   "source": [
    "df_merged['neighborhood'].value_counts()"
   ]
  },
  {
   "cell_type": "raw",
   "metadata": {},
   "source": [
    "# What is the most popular dog name in all parts of the Bronx? How about Brooklyn? The Upper East Side?"
   ]
  },
  {
   "cell_type": "code",
   "execution_count": 48,
   "metadata": {},
   "outputs": [
    {
     "data": {
      "text/plain": [
       "Rocky    15\n",
       "Name: Animal Name, dtype: int64"
      ]
     },
     "execution_count": 48,
     "metadata": {},
     "output_type": "execute_result"
    }
   ],
   "source": [
    "#df.loc[(df['Guard or Trained'] == 'Yes'), 'Primary Breed'].value_counts()\n",
    "\n",
    "df_merged.loc[(df_merged['neighborhood'].str.contains('Bronx')), 'Animal Name'].value_counts().head(1)"
   ]
  },
  {
   "cell_type": "code",
   "execution_count": 49,
   "metadata": {},
   "outputs": [
    {
     "data": {
      "text/plain": [
       "Max    28\n",
       "Name: Animal Name, dtype: int64"
      ]
     },
     "execution_count": 49,
     "metadata": {},
     "output_type": "execute_result"
    }
   ],
   "source": [
    "df_merged.loc[(df_merged['neighborhood'].str.contains('Brooklyn')), 'Animal Name'].value_counts().head(1)"
   ]
  },
  {
   "cell_type": "code",
   "execution_count": 50,
   "metadata": {},
   "outputs": [
    {
     "data": {
      "text/plain": [
       "Charlie    19\n",
       "Name: Animal Name, dtype: int64"
      ]
     },
     "execution_count": 50,
     "metadata": {},
     "output_type": "execute_result"
    }
   ],
   "source": [
    "df_merged.loc[(df_merged['neighborhood'].str.contains('Upper East Side')), 'Animal Name'].value_counts().head(1)"
   ]
  },
  {
   "cell_type": "markdown",
   "metadata": {},
   "source": [
    "## What is the most common dog breed in each of the neighborhoods of NYC?"
   ]
  },
  {
   "cell_type": "code",
   "execution_count": 57,
   "metadata": {},
   "outputs": [
    {
     "data": {
      "text/plain": [
       "0                 BLUE MACK\n",
       "1                     Louie\n",
       "2                     Tosha\n",
       "3                   Poppett\n",
       "4                    Harlen\n",
       "                ...        \n",
       "26609               Pebbles\n",
       "26610    nupy perez ramirez\n",
       "26611            PLATO     \n",
       "26612            Chocolate \n",
       "26613                 Bruno\n",
       "Name: Animal Name, Length: 420, dtype: object"
      ]
     },
     "execution_count": 57,
     "metadata": {},
     "output_type": "execute_result"
    }
   ],
   "source": [
    "df_merged.groupby('neighborhood')['Animal Name'].head(10)"
   ]
  },
  {
   "cell_type": "code",
   "execution_count": 52,
   "metadata": {},
   "outputs": [
    {
     "data": {
      "text/plain": [
       "0    Upper West Side\n",
       "1    Upper West Side\n",
       "2    Upper West Side\n",
       "3    Upper West Side\n",
       "4    Upper West Side\n",
       "5    Upper West Side\n",
       "6    Upper West Side\n",
       "7    Upper West Side\n",
       "8    Upper West Side\n",
       "9    Upper West Side\n",
       "Name: neighborhood, dtype: object"
      ]
     },
     "execution_count": 52,
     "metadata": {},
     "output_type": "execute_result"
    }
   ],
   "source": [
    "df_merged['neighborhood'].head(10)"
   ]
  },
  {
   "cell_type": "markdown",
   "metadata": {},
   "source": [
    "## What breed of dogs are the least likely to be spayed? Male or female?"
   ]
  },
  {
   "cell_type": "code",
   "execution_count": 53,
   "metadata": {},
   "outputs": [
    {
     "data": {
      "text/plain": [
       "Yorkshire Terrier                     531\n",
       "Shih Tzu                              401\n",
       "Chihuahua                             303\n",
       "Maltese                               300\n",
       "American Pit Bull Terrier/Pit Bull    173\n",
       "Pomeranian                            148\n",
       "German Shepherd Dog                   124\n",
       "Labrador Retriever                    113\n",
       "Golden Retriever                      110\n",
       "Cocker Spaniel                         96\n",
       "Name: Primary Breed, dtype: int64"
      ]
     },
     "execution_count": 53,
     "metadata": {},
     "output_type": "execute_result"
    }
   ],
   "source": [
    "#df.loc[(df['Guard or Trained'] == 'Yes'), 'Primary Breed'].value_counts()\n",
    "df_merged.loc[(df_merged['Spayed or Neut']=='No'), 'Primary Breed'].value_counts().head(10)"
   ]
  },
  {
   "cell_type": "code",
   "execution_count": 54,
   "metadata": {},
   "outputs": [
    {
     "data": {
      "text/plain": [
       "M    3343\n",
       "F    1930\n",
       "Name: Animal Gender, dtype: int64"
      ]
     },
     "execution_count": 54,
     "metadata": {},
     "output_type": "execute_result"
    }
   ],
   "source": [
    "df_merged.loc[(df_merged['Spayed or Neut']=='No'), 'Animal Gender'].value_counts().head(10)"
   ]
  },
  {
   "cell_type": "markdown",
   "metadata": {},
   "source": [
    "## Make a new column called monochrome that is True for any animal that only has black, white or grey as one of its colors. How many animals are monochrome?"
   ]
  },
  {
   "cell_type": "code",
   "execution_count": null,
   "metadata": {},
   "outputs": [],
   "source": []
  },
  {
   "cell_type": "markdown",
   "metadata": {},
   "source": [
    "## How many dogs are in each borough? Plot it in a graph."
   ]
  },
  {
   "cell_type": "code",
   "execution_count": 55,
   "metadata": {},
   "outputs": [
    {
     "data": {
      "text/plain": [
       "<AxesSubplot:>"
      ]
     },
     "execution_count": 55,
     "metadata": {},
     "output_type": "execute_result"
    },
    {
     "data": {
      "image/png": "[encoded data removed]",
      "text/plain": [
       "<Figure size 432x288 with 1 Axes>"
      ]
     },
     "metadata": {
      "needs_background": "light"
     },
     "output_type": "display_data"
    }
   ],
   "source": [
    "df_merged['borough'].value_counts().sort_values(ascending = True).plot(kind = 'barh')"
   ]
  },
  {
   "cell_type": "markdown",
   "metadata": {},
   "source": [
    "## Which borough has the highest number of dogs per-capita?\n",
    "\n",
    "You’ll need to merge in `population_boro.csv`"
   ]
  },
  {
   "cell_type": "code",
   "execution_count": null,
   "metadata": {},
   "outputs": [],
   "source": []
  },
  {
   "cell_type": "markdown",
   "metadata": {},
   "source": [
    "## Make a bar graph of the top 5 breeds in each borough.\n",
    "\n",
    "How do you groupby and then only take the top X number? You **really** should ask me, because it's kind of crazy."
   ]
  },
  {
   "cell_type": "code",
   "execution_count": null,
   "metadata": {},
   "outputs": [],
   "source": []
  },
  {
   "cell_type": "markdown",
   "metadata": {},
   "source": [
    "## What percentage of dogs are not guard dogs?"
   ]
  },
  {
   "cell_type": "code",
   "execution_count": 56,
   "metadata": {},
   "outputs": [
    {
     "data": {
      "text/plain": [
       "No     99.943333\n",
       "Yes     0.056667\n",
       "Name: Guard or Trained, dtype: float64"
      ]
     },
     "execution_count": 56,
     "metadata": {},
     "output_type": "execute_result"
    }
   ],
   "source": [
    "df['Guard or Trained'].value_counts(normalize = True)*100"
   ]
  },
  {
   "cell_type": "code",
   "execution_count": null,
   "metadata": {},
   "outputs": [],
   "source": []
  }
 ],
 "metadata": {
  "kernelspec": {
   "display_name": "Python 3",
   "language": "python",
   "name": "python3"
  },
  "language_info": {
   "codemirror_mode": {
    "name": "ipython",
    "version": 3
   },
   "file_extension": ".py",
   "mimetype": "text/x-python",
   "name": "python",
   "nbconvert_exporter": "python",
   "pygments_lexer": "ipython3",
   "version": "3.8.2"
  }
 },
 "nbformat": 4,
 "nbformat_minor": 2
}
