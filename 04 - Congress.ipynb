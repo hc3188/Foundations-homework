{
 "cells": [
  {
   "cell_type": "markdown",
   "metadata": {},
   "source": [
    "# Scraping one page per row\n",
    "\n",
    "Let's say we're interested in our members of Congress, because who isn't? Read in `congress.csv`."
   ]
  },
  {
   "cell_type": "code",
   "execution_count": 1,
   "metadata": {},
   "outputs": [],
   "source": [
    "import pandas as pd "
   ]
  },
  {
   "cell_type": "code",
   "execution_count": 2,
   "metadata": {},
   "outputs": [],
   "source": [
    "df = pd.read_csv('congress.csv')"
   ]
  },
  {
   "cell_type": "code",
   "execution_count": 3,
   "metadata": {},
   "outputs": [
    {
     "data": {
      "text/html": [
       "<div>\n",
       "<style scoped>\n",
       "    .dataframe tbody tr th:only-of-type {\n",
       "        vertical-align: middle;\n",
       "    }\n",
       "\n",
       "    .dataframe tbody tr th {\n",
       "        vertical-align: top;\n",
       "    }\n",
       "\n",
       "    .dataframe thead th {\n",
       "        text-align: right;\n",
       "    }\n",
       "</style>\n",
       "<table border=\"1\" class=\"dataframe\">\n",
       "  <thead>\n",
       "    <tr style=\"text-align: right;\">\n",
       "      <th></th>\n",
       "      <th>name</th>\n",
       "      <th>slug</th>\n",
       "    </tr>\n",
       "  </thead>\n",
       "  <tbody>\n",
       "    <tr>\n",
       "      <th>0</th>\n",
       "      <td>Senator Abdnor, James</td>\n",
       "      <td>james-abdnor/A000009</td>\n",
       "    </tr>\n",
       "    <tr>\n",
       "      <th>1</th>\n",
       "      <td>Representative Abercrombie, Neil</td>\n",
       "      <td>neil-abercrombie/A000014</td>\n",
       "    </tr>\n",
       "    <tr>\n",
       "      <th>2</th>\n",
       "      <td>Senator Abourezk, James</td>\n",
       "      <td>james-abourezk/A000017</td>\n",
       "    </tr>\n",
       "    <tr>\n",
       "      <th>3</th>\n",
       "      <td>Representative Abraham, Ralph Lee</td>\n",
       "      <td>ralph-abraham/A000374</td>\n",
       "    </tr>\n",
       "    <tr>\n",
       "      <th>4</th>\n",
       "      <td>Senator Abraham, Spencer</td>\n",
       "      <td>spencer-abraham/A000355</td>\n",
       "    </tr>\n",
       "    <tr>\n",
       "      <th>...</th>\n",
       "      <td>...</td>\n",
       "      <td>...</td>\n",
       "    </tr>\n",
       "    <tr>\n",
       "      <th>2343</th>\n",
       "      <td>Representative Zinke, Ryan K.</td>\n",
       "      <td>ryan-zinke/Z000018</td>\n",
       "    </tr>\n",
       "    <tr>\n",
       "      <th>2344</th>\n",
       "      <td>Representative Zion, Roger H.</td>\n",
       "      <td>roger-zion/Z000010</td>\n",
       "    </tr>\n",
       "    <tr>\n",
       "      <th>2345</th>\n",
       "      <td>Senator Zorinsky, Edward</td>\n",
       "      <td>edward-zorinsky/Z000013</td>\n",
       "    </tr>\n",
       "    <tr>\n",
       "      <th>2346</th>\n",
       "      <td>Representative Zschau, Edwin V. W.</td>\n",
       "      <td>edwin-zschau/Z000014</td>\n",
       "    </tr>\n",
       "    <tr>\n",
       "      <th>2347</th>\n",
       "      <td>Representative Zwach, John M.</td>\n",
       "      <td>john-zwach/Z000016</td>\n",
       "    </tr>\n",
       "  </tbody>\n",
       "</table>\n",
       "<p>2348 rows × 2 columns</p>\n",
       "</div>"
      ],
      "text/plain": [
       "                                    name                      slug\n",
       "0                  Senator Abdnor, James      james-abdnor/A000009\n",
       "1       Representative Abercrombie, Neil  neil-abercrombie/A000014\n",
       "2                Senator Abourezk, James    james-abourezk/A000017\n",
       "3      Representative Abraham, Ralph Lee     ralph-abraham/A000374\n",
       "4               Senator Abraham, Spencer   spencer-abraham/A000355\n",
       "...                                  ...                       ...\n",
       "2343       Representative Zinke, Ryan K.        ryan-zinke/Z000018\n",
       "2344       Representative Zion, Roger H.        roger-zion/Z000010\n",
       "2345            Senator Zorinsky, Edward   edward-zorinsky/Z000013\n",
       "2346  Representative Zschau, Edwin V. W.      edwin-zschau/Z000014\n",
       "2347       Representative Zwach, John M.        john-zwach/Z000016\n",
       "\n",
       "[2348 rows x 2 columns]"
      ]
     },
     "execution_count": 3,
     "metadata": {},
     "output_type": "execute_result"
    }
   ],
   "source": [
    "df"
   ]
  },
  {
   "cell_type": "code",
   "execution_count": 4,
   "metadata": {},
   "outputs": [],
   "source": [
    "from selenium import webdriver\n",
    "driver = webdriver.Chrome()"
   ]
  },
  {
   "cell_type": "code",
   "execution_count": 5,
   "metadata": {},
   "outputs": [],
   "source": [
    "driver.get(\"https://www.congress.gov/member/james-abdnor/A000009\")"
   ]
  },
  {
   "cell_type": "markdown",
   "metadata": {},
   "source": [
    "# Let's scrape one\n",
    "\n",
    "The `slug` is the part of the URL that's particular to that member of Congress. So `/james-abdnor/A000009` really means `https://www.congress.gov/member/james-abdnor/A000009`.\n",
    "\n",
    "Scrape his name, birthdaye, party, whether he's currently in congress, and his bill count (don't worry if the bill count is dirty, you can clean it up later)."
   ]
  },
  {
   "cell_type": "code",
   "execution_count": 6,
   "metadata": {},
   "outputs": [
    {
     "data": {
      "text/plain": [
       "'Senator James Abdnor (1923 - 2012)\\nIn Congress 1973 - 1987'"
      ]
     },
     "execution_count": 6,
     "metadata": {},
     "output_type": "execute_result"
    }
   ],
   "source": [
    "driver.find_element_by_tag_name('h1').text"
   ]
  },
  {
   "cell_type": "code",
   "execution_count": 7,
   "metadata": {},
   "outputs": [
    {
     "data": {
      "text/plain": [
       "'1-100 of 1,949'"
      ]
     },
     "execution_count": 7,
     "metadata": {},
     "output_type": "execute_result"
    }
   ],
   "source": [
    "driver.find_element_by_class_name('results-number').text"
   ]
  },
  {
   "cell_type": "markdown",
   "metadata": {},
   "source": [
    "# Build a function\n",
    "\n",
    "Write a function called `scrape_page` that makes a URL out of the the `slug`, like we're going to use `.apply`."
   ]
  },
  {
   "cell_type": "code",
   "execution_count": 8,
   "metadata": {},
   "outputs": [],
   "source": [
    "def scrape_page(end_link):\n",
    "    url = 'https://www.congress.gov/member/'+end_link\n",
    "    return (url)"
   ]
  },
  {
   "cell_type": "code",
   "execution_count": 9,
   "metadata": {},
   "outputs": [],
   "source": [
    "df['url'] = df['slug'].apply(scrape_page)"
   ]
  },
  {
   "cell_type": "code",
   "execution_count": 10,
   "metadata": {},
   "outputs": [
    {
     "data": {
      "text/html": [
       "<div>\n",
       "<style scoped>\n",
       "    .dataframe tbody tr th:only-of-type {\n",
       "        vertical-align: middle;\n",
       "    }\n",
       "\n",
       "    .dataframe tbody tr th {\n",
       "        vertical-align: top;\n",
       "    }\n",
       "\n",
       "    .dataframe thead th {\n",
       "        text-align: right;\n",
       "    }\n",
       "</style>\n",
       "<table border=\"1\" class=\"dataframe\">\n",
       "  <thead>\n",
       "    <tr style=\"text-align: right;\">\n",
       "      <th></th>\n",
       "      <th>name</th>\n",
       "      <th>slug</th>\n",
       "      <th>url</th>\n",
       "    </tr>\n",
       "  </thead>\n",
       "  <tbody>\n",
       "    <tr>\n",
       "      <th>0</th>\n",
       "      <td>Senator Abdnor, James</td>\n",
       "      <td>james-abdnor/A000009</td>\n",
       "      <td>https://www.congress.gov/member/james-abdnor/A...</td>\n",
       "    </tr>\n",
       "    <tr>\n",
       "      <th>1</th>\n",
       "      <td>Representative Abercrombie, Neil</td>\n",
       "      <td>neil-abercrombie/A000014</td>\n",
       "      <td>https://www.congress.gov/member/neil-abercromb...</td>\n",
       "    </tr>\n",
       "    <tr>\n",
       "      <th>2</th>\n",
       "      <td>Senator Abourezk, James</td>\n",
       "      <td>james-abourezk/A000017</td>\n",
       "      <td>https://www.congress.gov/member/james-abourezk...</td>\n",
       "    </tr>\n",
       "    <tr>\n",
       "      <th>3</th>\n",
       "      <td>Representative Abraham, Ralph Lee</td>\n",
       "      <td>ralph-abraham/A000374</td>\n",
       "      <td>https://www.congress.gov/member/ralph-abraham/...</td>\n",
       "    </tr>\n",
       "    <tr>\n",
       "      <th>4</th>\n",
       "      <td>Senator Abraham, Spencer</td>\n",
       "      <td>spencer-abraham/A000355</td>\n",
       "      <td>https://www.congress.gov/member/spencer-abraha...</td>\n",
       "    </tr>\n",
       "    <tr>\n",
       "      <th>...</th>\n",
       "      <td>...</td>\n",
       "      <td>...</td>\n",
       "      <td>...</td>\n",
       "    </tr>\n",
       "    <tr>\n",
       "      <th>2343</th>\n",
       "      <td>Representative Zinke, Ryan K.</td>\n",
       "      <td>ryan-zinke/Z000018</td>\n",
       "      <td>https://www.congress.gov/member/ryan-zinke/Z00...</td>\n",
       "    </tr>\n",
       "    <tr>\n",
       "      <th>2344</th>\n",
       "      <td>Representative Zion, Roger H.</td>\n",
       "      <td>roger-zion/Z000010</td>\n",
       "      <td>https://www.congress.gov/member/roger-zion/Z00...</td>\n",
       "    </tr>\n",
       "    <tr>\n",
       "      <th>2345</th>\n",
       "      <td>Senator Zorinsky, Edward</td>\n",
       "      <td>edward-zorinsky/Z000013</td>\n",
       "      <td>https://www.congress.gov/member/edward-zorinsk...</td>\n",
       "    </tr>\n",
       "    <tr>\n",
       "      <th>2346</th>\n",
       "      <td>Representative Zschau, Edwin V. W.</td>\n",
       "      <td>edwin-zschau/Z000014</td>\n",
       "      <td>https://www.congress.gov/member/edwin-zschau/Z...</td>\n",
       "    </tr>\n",
       "    <tr>\n",
       "      <th>2347</th>\n",
       "      <td>Representative Zwach, John M.</td>\n",
       "      <td>john-zwach/Z000016</td>\n",
       "      <td>https://www.congress.gov/member/john-zwach/Z00...</td>\n",
       "    </tr>\n",
       "  </tbody>\n",
       "</table>\n",
       "<p>2348 rows × 3 columns</p>\n",
       "</div>"
      ],
      "text/plain": [
       "                                    name                      slug  \\\n",
       "0                  Senator Abdnor, James      james-abdnor/A000009   \n",
       "1       Representative Abercrombie, Neil  neil-abercrombie/A000014   \n",
       "2                Senator Abourezk, James    james-abourezk/A000017   \n",
       "3      Representative Abraham, Ralph Lee     ralph-abraham/A000374   \n",
       "4               Senator Abraham, Spencer   spencer-abraham/A000355   \n",
       "...                                  ...                       ...   \n",
       "2343       Representative Zinke, Ryan K.        ryan-zinke/Z000018   \n",
       "2344       Representative Zion, Roger H.        roger-zion/Z000010   \n",
       "2345            Senator Zorinsky, Edward   edward-zorinsky/Z000013   \n",
       "2346  Representative Zschau, Edwin V. W.      edwin-zschau/Z000014   \n",
       "2347       Representative Zwach, John M.        john-zwach/Z000016   \n",
       "\n",
       "                                                    url  \n",
       "0     https://www.congress.gov/member/james-abdnor/A...  \n",
       "1     https://www.congress.gov/member/neil-abercromb...  \n",
       "2     https://www.congress.gov/member/james-abourezk...  \n",
       "3     https://www.congress.gov/member/ralph-abraham/...  \n",
       "4     https://www.congress.gov/member/spencer-abraha...  \n",
       "...                                                 ...  \n",
       "2343  https://www.congress.gov/member/ryan-zinke/Z00...  \n",
       "2344  https://www.congress.gov/member/roger-zion/Z00...  \n",
       "2345  https://www.congress.gov/member/edward-zorinsk...  \n",
       "2346  https://www.congress.gov/member/edwin-zschau/Z...  \n",
       "2347  https://www.congress.gov/member/john-zwach/Z00...  \n",
       "\n",
       "[2348 rows x 3 columns]"
      ]
     },
     "execution_count": 10,
     "metadata": {},
     "output_type": "execute_result"
    }
   ],
   "source": [
    "df"
   ]
  },
  {
   "cell_type": "markdown",
   "metadata": {},
   "source": [
    "# Do the scraping\n",
    "\n",
    "Rewrite `scrape_page` to actually scrape the URL. You can use your scraping code from up above. Start by testing with just one row (I put a sample call below) and then expand to your whole dataframe.\n",
    "\n",
    "Save the results as `scraped_df`.\n",
    "\n",
    "* **Hint:** Be sure to use `return`!\n",
    "* **Hint:** Make sure you return a `pd.Series`"
   ]
  },
  {
   "cell_type": "code",
   "execution_count": 11,
   "metadata": {},
   "outputs": [
    {
     "data": {
      "text/html": [
       "<div>\n",
       "<style scoped>\n",
       "    .dataframe tbody tr th:only-of-type {\n",
       "        vertical-align: middle;\n",
       "    }\n",
       "\n",
       "    .dataframe tbody tr th {\n",
       "        vertical-align: top;\n",
       "    }\n",
       "\n",
       "    .dataframe thead th {\n",
       "        text-align: right;\n",
       "    }\n",
       "</style>\n",
       "<table border=\"1\" class=\"dataframe\">\n",
       "  <thead>\n",
       "    <tr style=\"text-align: right;\">\n",
       "      <th></th>\n",
       "      <th>name</th>\n",
       "      <th>slug</th>\n",
       "      <th>url</th>\n",
       "    </tr>\n",
       "  </thead>\n",
       "  <tbody>\n",
       "    <tr>\n",
       "      <th>0</th>\n",
       "      <td>Senator Abdnor, James</td>\n",
       "      <td>james-abdnor/A000009</td>\n",
       "      <td>https://www.congress.gov/member/james-abdnor/A...</td>\n",
       "    </tr>\n",
       "    <tr>\n",
       "      <th>1</th>\n",
       "      <td>Representative Abercrombie, Neil</td>\n",
       "      <td>neil-abercrombie/A000014</td>\n",
       "      <td>https://www.congress.gov/member/neil-abercromb...</td>\n",
       "    </tr>\n",
       "    <tr>\n",
       "      <th>2</th>\n",
       "      <td>Senator Abourezk, James</td>\n",
       "      <td>james-abourezk/A000017</td>\n",
       "      <td>https://www.congress.gov/member/james-abourezk...</td>\n",
       "    </tr>\n",
       "    <tr>\n",
       "      <th>3</th>\n",
       "      <td>Representative Abraham, Ralph Lee</td>\n",
       "      <td>ralph-abraham/A000374</td>\n",
       "      <td>https://www.congress.gov/member/ralph-abraham/...</td>\n",
       "    </tr>\n",
       "    <tr>\n",
       "      <th>4</th>\n",
       "      <td>Senator Abraham, Spencer</td>\n",
       "      <td>spencer-abraham/A000355</td>\n",
       "      <td>https://www.congress.gov/member/spencer-abraha...</td>\n",
       "    </tr>\n",
       "    <tr>\n",
       "      <th>...</th>\n",
       "      <td>...</td>\n",
       "      <td>...</td>\n",
       "      <td>...</td>\n",
       "    </tr>\n",
       "    <tr>\n",
       "      <th>2343</th>\n",
       "      <td>Representative Zinke, Ryan K.</td>\n",
       "      <td>ryan-zinke/Z000018</td>\n",
       "      <td>https://www.congress.gov/member/ryan-zinke/Z00...</td>\n",
       "    </tr>\n",
       "    <tr>\n",
       "      <th>2344</th>\n",
       "      <td>Representative Zion, Roger H.</td>\n",
       "      <td>roger-zion/Z000010</td>\n",
       "      <td>https://www.congress.gov/member/roger-zion/Z00...</td>\n",
       "    </tr>\n",
       "    <tr>\n",
       "      <th>2345</th>\n",
       "      <td>Senator Zorinsky, Edward</td>\n",
       "      <td>edward-zorinsky/Z000013</td>\n",
       "      <td>https://www.congress.gov/member/edward-zorinsk...</td>\n",
       "    </tr>\n",
       "    <tr>\n",
       "      <th>2346</th>\n",
       "      <td>Representative Zschau, Edwin V. W.</td>\n",
       "      <td>edwin-zschau/Z000014</td>\n",
       "      <td>https://www.congress.gov/member/edwin-zschau/Z...</td>\n",
       "    </tr>\n",
       "    <tr>\n",
       "      <th>2347</th>\n",
       "      <td>Representative Zwach, John M.</td>\n",
       "      <td>john-zwach/Z000016</td>\n",
       "      <td>https://www.congress.gov/member/john-zwach/Z00...</td>\n",
       "    </tr>\n",
       "  </tbody>\n",
       "</table>\n",
       "<p>2348 rows × 3 columns</p>\n",
       "</div>"
      ],
      "text/plain": [
       "                                    name                      slug  \\\n",
       "0                  Senator Abdnor, James      james-abdnor/A000009   \n",
       "1       Representative Abercrombie, Neil  neil-abercrombie/A000014   \n",
       "2                Senator Abourezk, James    james-abourezk/A000017   \n",
       "3      Representative Abraham, Ralph Lee     ralph-abraham/A000374   \n",
       "4               Senator Abraham, Spencer   spencer-abraham/A000355   \n",
       "...                                  ...                       ...   \n",
       "2343       Representative Zinke, Ryan K.        ryan-zinke/Z000018   \n",
       "2344       Representative Zion, Roger H.        roger-zion/Z000010   \n",
       "2345            Senator Zorinsky, Edward   edward-zorinsky/Z000013   \n",
       "2346  Representative Zschau, Edwin V. W.      edwin-zschau/Z000014   \n",
       "2347       Representative Zwach, John M.        john-zwach/Z000016   \n",
       "\n",
       "                                                    url  \n",
       "0     https://www.congress.gov/member/james-abdnor/A...  \n",
       "1     https://www.congress.gov/member/neil-abercromb...  \n",
       "2     https://www.congress.gov/member/james-abourezk...  \n",
       "3     https://www.congress.gov/member/ralph-abraham/...  \n",
       "4     https://www.congress.gov/member/spencer-abraha...  \n",
       "...                                                 ...  \n",
       "2343  https://www.congress.gov/member/ryan-zinke/Z00...  \n",
       "2344  https://www.congress.gov/member/roger-zion/Z00...  \n",
       "2345  https://www.congress.gov/member/edward-zorinsk...  \n",
       "2346  https://www.congress.gov/member/edwin-zschau/Z...  \n",
       "2347  https://www.congress.gov/member/john-zwach/Z00...  \n",
       "\n",
       "[2348 rows x 3 columns]"
      ]
     },
     "execution_count": 11,
     "metadata": {},
     "output_type": "execute_result"
    }
   ],
   "source": [
    "#def scrape_page(end_link):\n",
    "    #url = 'https://www.congress.gov/'+end_link\n",
    "    #return (driver.get(url))\n",
    "df"
   ]
  },
  {
   "cell_type": "code",
   "execution_count": 12,
   "metadata": {},
   "outputs": [],
   "source": [
    "# Test with this\n",
    "def scrape_page(guy):\n",
    "    guy ='james-abdnor/A000009'\n",
    "    link = driver.get('https://www.congress.gov/member/'+guy)\n",
    "    name = driver.find_element_by_tag_name('h1').text\n",
    "    url = 'https://www.congress.gov/member/'+guy\n",
    "    return(name, url)"
   ]
  },
  {
   "cell_type": "code",
   "execution_count": 16,
   "metadata": {},
   "outputs": [],
   "source": [
    "df = df['name'][:5].apply(scrape_page)"
   ]
  },
  {
   "cell_type": "code",
   "execution_count": 17,
   "metadata": {},
   "outputs": [
    {
     "data": {
      "text/plain": [
       "0    (Senator James Abdnor (1923 - 2012)\\nIn Congre...\n",
       "1    (Senator James Abdnor (1923 - 2012)\\nIn Congre...\n",
       "2    (Senator James Abdnor (1923 - 2012)\\nIn Congre...\n",
       "3    (Senator James Abdnor (1923 - 2012)\\nIn Congre...\n",
       "4    (Senator James Abdnor (1923 - 2012)\\nIn Congre...\n",
       "Name: name, dtype: object"
      ]
     },
     "execution_count": 17,
     "metadata": {},
     "output_type": "execute_result"
    }
   ],
   "source": [
    "df"
   ]
  },
  {
   "cell_type": "markdown",
   "metadata": {},
   "source": [
    "## Join with your original dataframe\n",
    "\n",
    "Join your new data with your original data, adding the `_scraped` suffix on the new columns. You can use either `.join` or `.merge`, but be sure to read the docs to know the difference!"
   ]
  },
  {
   "cell_type": "code",
   "execution_count": null,
   "metadata": {},
   "outputs": [],
   "source": []
  },
  {
   "cell_type": "markdown",
   "metadata": {},
   "source": [
    "## Save it\n",
    "\n",
    "Save your combined results to `congress-plus-scraped.csv`."
   ]
  },
  {
   "cell_type": "code",
   "execution_count": null,
   "metadata": {},
   "outputs": [],
   "source": []
  },
  {
   "cell_type": "code",
   "execution_count": null,
   "metadata": {},
   "outputs": [],
   "source": []
  }
 ],
 "metadata": {
  "kernelspec": {
   "display_name": "Python 3",
   "language": "python",
   "name": "python3"
  },
  "language_info": {
   "codemirror_mode": {
    "name": "ipython",
    "version": 3
   },
   "file_extension": ".py",
   "mimetype": "text/x-python",
   "name": "python",
   "nbconvert_exporter": "python",
   "pygments_lexer": "ipython3",
   "version": "3.8.2"
  }
 },
 "nbformat": 4,
 "nbformat_minor": 2
}
