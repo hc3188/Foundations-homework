{
 "cells": [
  {
   "cell_type": "markdown",
   "metadata": {},
   "source": [
    "# Texas Licenses\n",
    "\n",
    "I originally got this dataset from the [License Files page](https://www.license.state.tx.us/licensesearch/licfile.asp) from the Texas Department of Licensing and Regulation, but they've changed around since then! I'm pretty sure it's [this dataset](https://www.opendatanetwork.com/dataset/data.texas.gov/7358-krk7), but we'll just use a local version instead of the most current."
   ]
  },
  {
   "cell_type": "markdown",
   "metadata": {},
   "source": [
    "# PART ONE: OPENING UP OUR DATASET"
   ]
  },
  {
   "cell_type": "markdown",
   "metadata": {},
   "source": [
    "## 0. Do your setup\n",
    "\n",
    "Import what you need to import, etc."
   ]
  },
  {
   "cell_type": "code",
   "execution_count": 1,
   "metadata": {},
   "outputs": [
    {
     "name": "stdout",
     "output_type": "stream",
     "text": [
      "Licenses.ipynb licfile.csv    violations.csv\r\n"
     ]
    },
    {
     "name": "stderr",
     "output_type": "stream",
     "text": [
      "/Users/harrisonconnery/.pyenv/versions/3.8.2/lib/python3.8/site-packages/IPython/core/interactiveshell.py:3145: DtypeWarning: Columns (1,15,16) have mixed types.Specify dtype option on import or set low_memory=False.\n",
      "  has_raised = await self.run_ast_nodes(code_ast.body, cell_name,\n"
     ]
    }
   ],
   "source": [
    "import pandas as pd \n",
    "!ls\n",
    "\n",
    "col_names = ['LICTYPE',\n",
    "'LICNUMBER',\n",
    "'BIZCOUNTY',\n",
    "'BIZNAME',\n",
    "'BIZLINE1',\n",
    "'BIZLINE2',\n",
    "'BIZCITYSTATE',\n",
    "'BIZTELEPHONE',\n",
    "'EXPIRATION',\n",
    "'OWNER',\n",
    "'MAILLINE1',\n",
    "'MAILLINE2',\n",
    "'MAILCITYSTATE',\n",
    "'MAILCOUNTYCODE',\n",
    "'MAILCOUNTY',\n",
    "'MAILZIP',\n",
    "'TELEPHONE',\n",
    "'LICSUBTYPE',\n",
    "'CEFLAG',]\n",
    "df = pd.read_csv('licfile.csv', names = col_names)"
   ]
  },
  {
   "cell_type": "markdown",
   "metadata": {},
   "source": [
    "## 1. Open the file\n",
    "\n",
    "We'll start with `licfile.csv`, which is a list of licenses."
   ]
  },
  {
   "cell_type": "code",
   "execution_count": 2,
   "metadata": {},
   "outputs": [
    {
     "data": {
      "text/html": [
       "<div>\n",
       "<style scoped>\n",
       "    .dataframe tbody tr th:only-of-type {\n",
       "        vertical-align: middle;\n",
       "    }\n",
       "\n",
       "    .dataframe tbody tr th {\n",
       "        vertical-align: top;\n",
       "    }\n",
       "\n",
       "    .dataframe thead th {\n",
       "        text-align: right;\n",
       "    }\n",
       "</style>\n",
       "<table border=\"1\" class=\"dataframe\">\n",
       "  <thead>\n",
       "    <tr style=\"text-align: right;\">\n",
       "      <th></th>\n",
       "      <th>LICTYPE</th>\n",
       "      <th>LICNUMBER</th>\n",
       "      <th>BIZCOUNTY</th>\n",
       "      <th>BIZNAME</th>\n",
       "      <th>BIZLINE1</th>\n",
       "      <th>BIZLINE2</th>\n",
       "      <th>BIZCITYSTATE</th>\n",
       "      <th>BIZTELEPHONE</th>\n",
       "      <th>EXPIRATION</th>\n",
       "      <th>OWNER</th>\n",
       "      <th>MAILLINE1</th>\n",
       "      <th>MAILLINE2</th>\n",
       "      <th>MAILCITYSTATE</th>\n",
       "      <th>MAILCOUNTYCODE</th>\n",
       "      <th>MAILCOUNTY</th>\n",
       "      <th>MAILZIP</th>\n",
       "      <th>TELEPHONE</th>\n",
       "      <th>LICSUBTYPE</th>\n",
       "      <th>CEFLAG</th>\n",
       "    </tr>\n",
       "  </thead>\n",
       "  <tbody>\n",
       "    <tr>\n",
       "      <th>0</th>\n",
       "      <td>Associate Auctioneer</td>\n",
       "      <td>7326</td>\n",
       "      <td>ANGELINA</td>\n",
       "      <td>RISINGER, JIM MARVIN</td>\n",
       "      <td>NaN</td>\n",
       "      <td>NaN</td>\n",
       "      <td>NaN</td>\n",
       "      <td>NaN</td>\n",
       "      <td>8102017</td>\n",
       "      <td>RISINGER, JIM MARVIN</td>\n",
       "      <td>7668 S US HWY 59</td>\n",
       "      <td>NaN</td>\n",
       "      <td>NACOGDOCHES TX 75964</td>\n",
       "      <td>347.0</td>\n",
       "      <td>NACOGDOCHES</td>\n",
       "      <td>75964</td>\n",
       "      <td>9363665745</td>\n",
       "      <td>NaN</td>\n",
       "      <td>N</td>\n",
       "    </tr>\n",
       "    <tr>\n",
       "      <th>1</th>\n",
       "      <td>Associate Auctioneer</td>\n",
       "      <td>7962</td>\n",
       "      <td>UPSHUR</td>\n",
       "      <td>WILLIAMS, JON ANDRE</td>\n",
       "      <td>NaN</td>\n",
       "      <td>NaN</td>\n",
       "      <td>NaN</td>\n",
       "      <td>NaN</td>\n",
       "      <td>12292017</td>\n",
       "      <td>WILLIAMS, JON ANDRE</td>\n",
       "      <td>228 FM 1252</td>\n",
       "      <td>NaN</td>\n",
       "      <td>KILGORE TX 75662</td>\n",
       "      <td>183.0</td>\n",
       "      <td>GREGG</td>\n",
       "      <td>75662</td>\n",
       "      <td>9039187899</td>\n",
       "      <td>NaN</td>\n",
       "      <td>N</td>\n",
       "    </tr>\n",
       "    <tr>\n",
       "      <th>2</th>\n",
       "      <td>Associate Auctioneer</td>\n",
       "      <td>8406</td>\n",
       "      <td>WILSON</td>\n",
       "      <td>GUEVARA, JUAN ANTONIO</td>\n",
       "      <td>NaN</td>\n",
       "      <td>NaN</td>\n",
       "      <td>NaN</td>\n",
       "      <td>NaN</td>\n",
       "      <td>9262017</td>\n",
       "      <td>GUEVARA, JUAN ANTONIO</td>\n",
       "      <td>6909 HWY 181</td>\n",
       "      <td>NaN</td>\n",
       "      <td>POTH TX 78147</td>\n",
       "      <td>493.0</td>\n",
       "      <td>WILSON</td>\n",
       "      <td>78147</td>\n",
       "      <td>NaN</td>\n",
       "      <td>NaN</td>\n",
       "      <td>N</td>\n",
       "    </tr>\n",
       "    <tr>\n",
       "      <th>3</th>\n",
       "      <td>Associate Auctioneer</td>\n",
       "      <td>10543</td>\n",
       "      <td>HARRIS</td>\n",
       "      <td>BOWERS, JAMES BRISCOE II</td>\n",
       "      <td>NaN</td>\n",
       "      <td>NaN</td>\n",
       "      <td>NaN</td>\n",
       "      <td>NaN</td>\n",
       "      <td>11042017</td>\n",
       "      <td>BOWERS, JAMES BRISCOE II</td>\n",
       "      <td>6767 NORTH FWY</td>\n",
       "      <td>NaN</td>\n",
       "      <td>HOUSTON TX 77076-2027</td>\n",
       "      <td>201.0</td>\n",
       "      <td>HARRIS</td>\n",
       "      <td>77076</td>\n",
       "      <td>7136445566</td>\n",
       "      <td>NaN</td>\n",
       "      <td>N</td>\n",
       "    </tr>\n",
       "    <tr>\n",
       "      <th>4</th>\n",
       "      <td>Associate Auctioneer</td>\n",
       "      <td>10642</td>\n",
       "      <td>BELL</td>\n",
       "      <td>DEMSKY, JOHN EDWARD</td>\n",
       "      <td>NaN</td>\n",
       "      <td>NaN</td>\n",
       "      <td>NaN</td>\n",
       "      <td>NaN</td>\n",
       "      <td>2252018</td>\n",
       "      <td>DEMSKY, JOHN EDWARD</td>\n",
       "      <td>130 E CLARK ST</td>\n",
       "      <td>NaN</td>\n",
       "      <td>BARTLETT TX 76511</td>\n",
       "      <td>27.0</td>\n",
       "      <td>BELL</td>\n",
       "      <td>76511</td>\n",
       "      <td>2549852228</td>\n",
       "      <td>NaN</td>\n",
       "      <td>N</td>\n",
       "    </tr>\n",
       "    <tr>\n",
       "      <th>...</th>\n",
       "      <td>...</td>\n",
       "      <td>...</td>\n",
       "      <td>...</td>\n",
       "      <td>...</td>\n",
       "      <td>...</td>\n",
       "      <td>...</td>\n",
       "      <td>...</td>\n",
       "      <td>...</td>\n",
       "      <td>...</td>\n",
       "      <td>...</td>\n",
       "      <td>...</td>\n",
       "      <td>...</td>\n",
       "      <td>...</td>\n",
       "      <td>...</td>\n",
       "      <td>...</td>\n",
       "      <td>...</td>\n",
       "      <td>...</td>\n",
       "      <td>...</td>\n",
       "      <td>...</td>\n",
       "    </tr>\n",
       "    <tr>\n",
       "      <th>597811</th>\n",
       "      <td>Water Well Driller/Pump Installer</td>\n",
       "      <td>59930</td>\n",
       "      <td>TOM GREEN</td>\n",
       "      <td>ABEL, JUSTIN C</td>\n",
       "      <td>NaN</td>\n",
       "      <td>NaN</td>\n",
       "      <td>NaN</td>\n",
       "      <td>NaN</td>\n",
       "      <td>1232018</td>\n",
       "      <td>ABEL, JUSTIN C</td>\n",
       "      <td>6601 RM HIGHWAY 853</td>\n",
       "      <td>NaN</td>\n",
       "      <td>SAN ANGELO TX 76901-9716</td>\n",
       "      <td>451.0</td>\n",
       "      <td>TOM GREEN</td>\n",
       "      <td>76901</td>\n",
       "      <td>3.2595e+09</td>\n",
       "      <td>KP</td>\n",
       "      <td>N</td>\n",
       "    </tr>\n",
       "    <tr>\n",
       "      <th>597812</th>\n",
       "      <td>Water Well Driller/Pump Installer</td>\n",
       "      <td>59931</td>\n",
       "      <td>RUNNELS</td>\n",
       "      <td>GRAY, MATTHEW BRYAN</td>\n",
       "      <td>NaN</td>\n",
       "      <td>NaN</td>\n",
       "      <td>NaN</td>\n",
       "      <td>NaN</td>\n",
       "      <td>1232018</td>\n",
       "      <td>GRAY, MATTHEW BRYAN</td>\n",
       "      <td>401 VICTOR ST</td>\n",
       "      <td>NaN</td>\n",
       "      <td>ROWENA TX 76875-2608</td>\n",
       "      <td>399.0</td>\n",
       "      <td>RUNNELS</td>\n",
       "      <td>76875</td>\n",
       "      <td>3.25442e+09</td>\n",
       "      <td>KLPW</td>\n",
       "      <td>N</td>\n",
       "    </tr>\n",
       "    <tr>\n",
       "      <th>597813</th>\n",
       "      <td>Water Well Driller/Pump Installer</td>\n",
       "      <td>59934</td>\n",
       "      <td>LAVACA</td>\n",
       "      <td>MAYER, DAVID W</td>\n",
       "      <td>NaN</td>\n",
       "      <td>NaN</td>\n",
       "      <td>NaN</td>\n",
       "      <td>NaN</td>\n",
       "      <td>1272018</td>\n",
       "      <td>MAYER, DAVID W</td>\n",
       "      <td>966 FM 318 E</td>\n",
       "      <td>NaN</td>\n",
       "      <td>YOAKUM TX 77995-6786</td>\n",
       "      <td>285.0</td>\n",
       "      <td>LAVACA</td>\n",
       "      <td>77995</td>\n",
       "      <td>3.61293e+09</td>\n",
       "      <td>P</td>\n",
       "      <td>N</td>\n",
       "    </tr>\n",
       "    <tr>\n",
       "      <th>597814</th>\n",
       "      <td>Water Well Driller/Pump Installer</td>\n",
       "      <td>59936</td>\n",
       "      <td>HOCKLEY</td>\n",
       "      <td>FRIESEN, FRANCISCO FEHR</td>\n",
       "      <td>NaN</td>\n",
       "      <td>NaN</td>\n",
       "      <td>NaN</td>\n",
       "      <td>NaN</td>\n",
       "      <td>2132018</td>\n",
       "      <td>FRIESEN, FRANCISCO FEHR</td>\n",
       "      <td>3686 JAMAICA RD</td>\n",
       "      <td>NaN</td>\n",
       "      <td>LEVELLAND TX 79336-9124</td>\n",
       "      <td>219.0</td>\n",
       "      <td>HOCKLEY</td>\n",
       "      <td>79336</td>\n",
       "      <td>8.06598e+09</td>\n",
       "      <td>W</td>\n",
       "      <td>N</td>\n",
       "    </tr>\n",
       "    <tr>\n",
       "      <th>597815</th>\n",
       "      <td>Water Well Driller/Pump Installer</td>\n",
       "      <td>59941</td>\n",
       "      <td>WILSON</td>\n",
       "      <td>BAUER, DAVID A</td>\n",
       "      <td>NaN</td>\n",
       "      <td>NaN</td>\n",
       "      <td>NaN</td>\n",
       "      <td>NaN</td>\n",
       "      <td>2162018</td>\n",
       "      <td>BAUER, DAVID A</td>\n",
       "      <td>2590 HEINEN RD</td>\n",
       "      <td>NaN</td>\n",
       "      <td>FLORESVILLE TX 78114-6076</td>\n",
       "      <td>493.0</td>\n",
       "      <td>WILSON</td>\n",
       "      <td>78114</td>\n",
       "      <td>8.30392e+09</td>\n",
       "      <td>W</td>\n",
       "      <td>N</td>\n",
       "    </tr>\n",
       "  </tbody>\n",
       "</table>\n",
       "<p>597816 rows × 19 columns</p>\n",
       "</div>"
      ],
      "text/plain": [
       "                                  LICTYPE LICNUMBER  BIZCOUNTY  \\\n",
       "0                    Associate Auctioneer      7326   ANGELINA   \n",
       "1                    Associate Auctioneer      7962     UPSHUR   \n",
       "2                    Associate Auctioneer      8406     WILSON   \n",
       "3                    Associate Auctioneer     10543     HARRIS   \n",
       "4                    Associate Auctioneer     10642       BELL   \n",
       "...                                   ...       ...        ...   \n",
       "597811  Water Well Driller/Pump Installer     59930  TOM GREEN   \n",
       "597812  Water Well Driller/Pump Installer     59931    RUNNELS   \n",
       "597813  Water Well Driller/Pump Installer     59934     LAVACA   \n",
       "597814  Water Well Driller/Pump Installer     59936    HOCKLEY   \n",
       "597815  Water Well Driller/Pump Installer     59941     WILSON   \n",
       "\n",
       "                         BIZNAME  BIZLINE1  BIZLINE2  BIZCITYSTATE  \\\n",
       "0           RISINGER, JIM MARVIN       NaN       NaN           NaN   \n",
       "1            WILLIAMS, JON ANDRE       NaN       NaN           NaN   \n",
       "2          GUEVARA, JUAN ANTONIO       NaN       NaN           NaN   \n",
       "3       BOWERS, JAMES BRISCOE II       NaN       NaN           NaN   \n",
       "4            DEMSKY, JOHN EDWARD       NaN       NaN           NaN   \n",
       "...                          ...       ...       ...           ...   \n",
       "597811            ABEL, JUSTIN C       NaN       NaN           NaN   \n",
       "597812       GRAY, MATTHEW BRYAN       NaN       NaN           NaN   \n",
       "597813            MAYER, DAVID W       NaN       NaN           NaN   \n",
       "597814   FRIESEN, FRANCISCO FEHR       NaN       NaN           NaN   \n",
       "597815            BAUER, DAVID A       NaN       NaN           NaN   \n",
       "\n",
       "        BIZTELEPHONE  EXPIRATION                     OWNER  \\\n",
       "0                NaN     8102017      RISINGER, JIM MARVIN   \n",
       "1                NaN    12292017       WILLIAMS, JON ANDRE   \n",
       "2                NaN     9262017     GUEVARA, JUAN ANTONIO   \n",
       "3                NaN    11042017  BOWERS, JAMES BRISCOE II   \n",
       "4                NaN     2252018       DEMSKY, JOHN EDWARD   \n",
       "...              ...         ...                       ...   \n",
       "597811           NaN     1232018            ABEL, JUSTIN C   \n",
       "597812           NaN     1232018       GRAY, MATTHEW BRYAN   \n",
       "597813           NaN     1272018            MAYER, DAVID W   \n",
       "597814           NaN     2132018   FRIESEN, FRANCISCO FEHR   \n",
       "597815           NaN     2162018            BAUER, DAVID A   \n",
       "\n",
       "                  MAILLINE1 MAILLINE2              MAILCITYSTATE  \\\n",
       "0          7668 S US HWY 59       NaN       NACOGDOCHES TX 75964   \n",
       "1               228 FM 1252       NaN           KILGORE TX 75662   \n",
       "2              6909 HWY 181       NaN              POTH TX 78147   \n",
       "3            6767 NORTH FWY       NaN      HOUSTON TX 77076-2027   \n",
       "4            130 E CLARK ST       NaN          BARTLETT TX 76511   \n",
       "...                     ...       ...                        ...   \n",
       "597811  6601 RM HIGHWAY 853       NaN   SAN ANGELO TX 76901-9716   \n",
       "597812        401 VICTOR ST       NaN       ROWENA TX 76875-2608   \n",
       "597813         966 FM 318 E       NaN       YOAKUM TX 77995-6786   \n",
       "597814      3686 JAMAICA RD       NaN    LEVELLAND TX 79336-9124   \n",
       "597815       2590 HEINEN RD       NaN  FLORESVILLE TX 78114-6076   \n",
       "\n",
       "        MAILCOUNTYCODE   MAILCOUNTY MAILZIP    TELEPHONE LICSUBTYPE CEFLAG  \n",
       "0                347.0  NACOGDOCHES   75964   9363665745        NaN      N  \n",
       "1                183.0        GREGG   75662   9039187899        NaN      N  \n",
       "2                493.0       WILSON   78147          NaN        NaN      N  \n",
       "3                201.0       HARRIS   77076   7136445566        NaN      N  \n",
       "4                 27.0         BELL   76511   2549852228        NaN      N  \n",
       "...                ...          ...     ...          ...        ...    ...  \n",
       "597811           451.0    TOM GREEN   76901   3.2595e+09         KP      N  \n",
       "597812           399.0      RUNNELS   76875  3.25442e+09       KLPW      N  \n",
       "597813           285.0       LAVACA   77995  3.61293e+09          P      N  \n",
       "597814           219.0      HOCKLEY   79336  8.06598e+09          W      N  \n",
       "597815           493.0       WILSON   78114  8.30392e+09          W      N  \n",
       "\n",
       "[597816 rows x 19 columns]"
      ]
     },
     "execution_count": 2,
     "metadata": {},
     "output_type": "execute_result"
    }
   ],
   "source": [
    "df"
   ]
  },
  {
   "cell_type": "markdown",
   "metadata": {},
   "source": [
    "## 2. That looks terrible, let's add column names.\n",
    "\n",
    "It apparently doesn't have headers! **Read the file in again, but setting your own column names**. Their [current data dictionary might not perfectly match](https://www.opendatanetwork.com/dataset/data.texas.gov/7358-krk7), but you can use it to understand what the columns are. For the dataset we're using, the order goes like this:\n",
    "\n",
    "* LICTYPE\n",
    "* LICNUMBER\n",
    "* BIZCOUNTY\n",
    "* BIZNAME\n",
    "* BIZLINE1\n",
    "* BIZLINE2\n",
    "* BIZCITYSTATE\n",
    "* BIZTELEPHONE\n",
    "* EXPIRATION\n",
    "* OWNER\n",
    "* MAILLINE1\n",
    "* MAILLINE2\n",
    "* MAILCITYSTATE\n",
    "* MAILCOUNTYCODE\n",
    "* MAILCOUNTY\n",
    "* MAILZIP\n",
    "* TELEPHONE\n",
    "* LICSUBTYPE\n",
    "* CEFLAG\n",
    "\n",
    "**Note:** You can rename the columns to things that make sense - \"expiration\" is a little more manageable than \"LICENSE EXPIRATION DATE (MMDDCCYY)\". I've named my License Type column LICTYPE, so if you haven't you'll have to change the rest of my sample code to match."
   ]
  },
  {
   "cell_type": "code",
   "execution_count": null,
   "metadata": {},
   "outputs": [],
   "source": []
  },
  {
   "cell_type": "markdown",
   "metadata": {},
   "source": [
    "# 3. Force string columns to be strings\n",
    "\n",
    "The county code and expiration dates are being read in as numbers, which is going to cause some trouble later on. You can force a column to be a certain type (most usually strings) when reading it in with the following code:\n",
    "\n",
    "    df = pd.read_csv(\"your-filename.csv\", dtype={\"colname1\": str, \"colname2\": str})\n",
    "\n",
    "You don't need to do it for every column, just the ones you want to force!\n",
    "\n",
    "**Re-import the file, forcing the expiration date, license number, mailing address county code, mailing zip code and telephone to all be strings.**"
   ]
  },
  {
   "cell_type": "code",
   "execution_count": 3,
   "metadata": {},
   "outputs": [],
   "source": [
    "col_names = ['LICTYPE',\n",
    "'LICNUMBER',\n",
    "'BIZCOUNTY',\n",
    "'BIZNAME',\n",
    "'BIZLINE1',\n",
    "'BIZLINE2',\n",
    "'BIZCITYSTATE',\n",
    "'BIZTELEPHONE',\n",
    "'EXPIRATION',\n",
    "'OWNER',\n",
    "'MAILLINE1',\n",
    "'MAILLINE2',\n",
    "'MAILCITYSTATE',\n",
    "'MAILCOUNTYCODE',\n",
    "'MAILCOUNTY',\n",
    "'MAILZIP',\n",
    "'TELEPHONE',\n",
    "'LICSUBTYPE',\n",
    "'CEFLAG',]\n",
    "df = pd.read_csv('licfile.csv', names = col_names, dtype={'EXPIRATION': str, 'LICNUMBER': str, \n",
    "                                                          'MAILCOUNTYCODE': str,'MAILZIP':str, 'TELEPHONE': str})"
   ]
  },
  {
   "cell_type": "markdown",
   "metadata": {},
   "source": [
    "Check the data types of your columns to be sure! If you do it right they'll be `object` (not `str`, oddly)."
   ]
  },
  {
   "cell_type": "code",
   "execution_count": 4,
   "metadata": {},
   "outputs": [
    {
     "data": {
      "text/html": [
       "<div>\n",
       "<style scoped>\n",
       "    .dataframe tbody tr th:only-of-type {\n",
       "        vertical-align: middle;\n",
       "    }\n",
       "\n",
       "    .dataframe tbody tr th {\n",
       "        vertical-align: top;\n",
       "    }\n",
       "\n",
       "    .dataframe thead th {\n",
       "        text-align: right;\n",
       "    }\n",
       "</style>\n",
       "<table border=\"1\" class=\"dataframe\">\n",
       "  <thead>\n",
       "    <tr style=\"text-align: right;\">\n",
       "      <th></th>\n",
       "      <th>LICTYPE</th>\n",
       "      <th>LICNUMBER</th>\n",
       "      <th>BIZCOUNTY</th>\n",
       "      <th>BIZNAME</th>\n",
       "      <th>BIZLINE1</th>\n",
       "      <th>BIZLINE2</th>\n",
       "      <th>BIZCITYSTATE</th>\n",
       "      <th>BIZTELEPHONE</th>\n",
       "      <th>EXPIRATION</th>\n",
       "      <th>OWNER</th>\n",
       "      <th>MAILLINE1</th>\n",
       "      <th>MAILLINE2</th>\n",
       "      <th>MAILCITYSTATE</th>\n",
       "      <th>MAILCOUNTYCODE</th>\n",
       "      <th>MAILCOUNTY</th>\n",
       "      <th>MAILZIP</th>\n",
       "      <th>TELEPHONE</th>\n",
       "      <th>LICSUBTYPE</th>\n",
       "      <th>CEFLAG</th>\n",
       "    </tr>\n",
       "  </thead>\n",
       "  <tbody>\n",
       "    <tr>\n",
       "      <th>0</th>\n",
       "      <td>Associate Auctioneer</td>\n",
       "      <td>7326</td>\n",
       "      <td>ANGELINA</td>\n",
       "      <td>RISINGER, JIM MARVIN</td>\n",
       "      <td>NaN</td>\n",
       "      <td>NaN</td>\n",
       "      <td>NaN</td>\n",
       "      <td>NaN</td>\n",
       "      <td>08102017</td>\n",
       "      <td>RISINGER, JIM MARVIN</td>\n",
       "      <td>7668 S US HWY 59</td>\n",
       "      <td>NaN</td>\n",
       "      <td>NACOGDOCHES TX 75964</td>\n",
       "      <td>0347</td>\n",
       "      <td>NACOGDOCHES</td>\n",
       "      <td>75964</td>\n",
       "      <td>9363665745</td>\n",
       "      <td>NaN</td>\n",
       "      <td>N</td>\n",
       "    </tr>\n",
       "    <tr>\n",
       "      <th>1</th>\n",
       "      <td>Associate Auctioneer</td>\n",
       "      <td>7962</td>\n",
       "      <td>UPSHUR</td>\n",
       "      <td>WILLIAMS, JON ANDRE</td>\n",
       "      <td>NaN</td>\n",
       "      <td>NaN</td>\n",
       "      <td>NaN</td>\n",
       "      <td>NaN</td>\n",
       "      <td>12292017</td>\n",
       "      <td>WILLIAMS, JON ANDRE</td>\n",
       "      <td>228 FM 1252</td>\n",
       "      <td>NaN</td>\n",
       "      <td>KILGORE TX 75662</td>\n",
       "      <td>0183</td>\n",
       "      <td>GREGG</td>\n",
       "      <td>75662</td>\n",
       "      <td>9039187899</td>\n",
       "      <td>NaN</td>\n",
       "      <td>N</td>\n",
       "    </tr>\n",
       "    <tr>\n",
       "      <th>2</th>\n",
       "      <td>Associate Auctioneer</td>\n",
       "      <td>8406</td>\n",
       "      <td>WILSON</td>\n",
       "      <td>GUEVARA, JUAN ANTONIO</td>\n",
       "      <td>NaN</td>\n",
       "      <td>NaN</td>\n",
       "      <td>NaN</td>\n",
       "      <td>NaN</td>\n",
       "      <td>09262017</td>\n",
       "      <td>GUEVARA, JUAN ANTONIO</td>\n",
       "      <td>6909 HWY 181</td>\n",
       "      <td>NaN</td>\n",
       "      <td>POTH TX 78147</td>\n",
       "      <td>0493</td>\n",
       "      <td>WILSON</td>\n",
       "      <td>78147</td>\n",
       "      <td>NaN</td>\n",
       "      <td>NaN</td>\n",
       "      <td>N</td>\n",
       "    </tr>\n",
       "    <tr>\n",
       "      <th>3</th>\n",
       "      <td>Associate Auctioneer</td>\n",
       "      <td>10543</td>\n",
       "      <td>HARRIS</td>\n",
       "      <td>BOWERS, JAMES BRISCOE II</td>\n",
       "      <td>NaN</td>\n",
       "      <td>NaN</td>\n",
       "      <td>NaN</td>\n",
       "      <td>NaN</td>\n",
       "      <td>11042017</td>\n",
       "      <td>BOWERS, JAMES BRISCOE II</td>\n",
       "      <td>6767 NORTH FWY</td>\n",
       "      <td>NaN</td>\n",
       "      <td>HOUSTON TX 77076-2027</td>\n",
       "      <td>0201</td>\n",
       "      <td>HARRIS</td>\n",
       "      <td>77076</td>\n",
       "      <td>7136445566</td>\n",
       "      <td>NaN</td>\n",
       "      <td>N</td>\n",
       "    </tr>\n",
       "    <tr>\n",
       "      <th>4</th>\n",
       "      <td>Associate Auctioneer</td>\n",
       "      <td>10642</td>\n",
       "      <td>BELL</td>\n",
       "      <td>DEMSKY, JOHN EDWARD</td>\n",
       "      <td>NaN</td>\n",
       "      <td>NaN</td>\n",
       "      <td>NaN</td>\n",
       "      <td>NaN</td>\n",
       "      <td>02252018</td>\n",
       "      <td>DEMSKY, JOHN EDWARD</td>\n",
       "      <td>130 E CLARK ST</td>\n",
       "      <td>NaN</td>\n",
       "      <td>BARTLETT TX 76511</td>\n",
       "      <td>0027</td>\n",
       "      <td>BELL</td>\n",
       "      <td>76511</td>\n",
       "      <td>2549852228</td>\n",
       "      <td>NaN</td>\n",
       "      <td>N</td>\n",
       "    </tr>\n",
       "  </tbody>\n",
       "</table>\n",
       "</div>"
      ],
      "text/plain": [
       "                LICTYPE LICNUMBER BIZCOUNTY                   BIZNAME  \\\n",
       "0  Associate Auctioneer      7326  ANGELINA      RISINGER, JIM MARVIN   \n",
       "1  Associate Auctioneer      7962    UPSHUR       WILLIAMS, JON ANDRE   \n",
       "2  Associate Auctioneer      8406    WILSON     GUEVARA, JUAN ANTONIO   \n",
       "3  Associate Auctioneer     10543    HARRIS  BOWERS, JAMES BRISCOE II   \n",
       "4  Associate Auctioneer     10642      BELL       DEMSKY, JOHN EDWARD   \n",
       "\n",
       "   BIZLINE1  BIZLINE2  BIZCITYSTATE  BIZTELEPHONE EXPIRATION  \\\n",
       "0       NaN       NaN           NaN           NaN   08102017   \n",
       "1       NaN       NaN           NaN           NaN   12292017   \n",
       "2       NaN       NaN           NaN           NaN   09262017   \n",
       "3       NaN       NaN           NaN           NaN   11042017   \n",
       "4       NaN       NaN           NaN           NaN   02252018   \n",
       "\n",
       "                      OWNER         MAILLINE1 MAILLINE2  \\\n",
       "0      RISINGER, JIM MARVIN  7668 S US HWY 59       NaN   \n",
       "1       WILLIAMS, JON ANDRE       228 FM 1252       NaN   \n",
       "2     GUEVARA, JUAN ANTONIO      6909 HWY 181       NaN   \n",
       "3  BOWERS, JAMES BRISCOE II    6767 NORTH FWY       NaN   \n",
       "4       DEMSKY, JOHN EDWARD    130 E CLARK ST       NaN   \n",
       "\n",
       "           MAILCITYSTATE MAILCOUNTYCODE   MAILCOUNTY MAILZIP   TELEPHONE  \\\n",
       "0   NACOGDOCHES TX 75964           0347  NACOGDOCHES   75964  9363665745   \n",
       "1       KILGORE TX 75662           0183        GREGG   75662  9039187899   \n",
       "2          POTH TX 78147           0493       WILSON   78147         NaN   \n",
       "3  HOUSTON TX 77076-2027           0201       HARRIS   77076  7136445566   \n",
       "4      BARTLETT TX 76511           0027         BELL   76511  2549852228   \n",
       "\n",
       "  LICSUBTYPE CEFLAG  \n",
       "0        NaN      N  \n",
       "1        NaN      N  \n",
       "2        NaN      N  \n",
       "3        NaN      N  \n",
       "4        NaN      N  "
      ]
     },
     "execution_count": 4,
     "metadata": {},
     "output_type": "execute_result"
    }
   ],
   "source": [
    "df.head(5)"
   ]
  },
  {
   "cell_type": "markdown",
   "metadata": {},
   "source": [
    "## 4. Convert those expiration dates from MMDDYYYY to YYYY-MM-DD\n",
    "\n",
    "You can use list slicing with `.str` (we did `dt.per_name.str[:4]` for the home data stuff once), `pd.to_datetime`, or a hundred other methods."
   ]
  },
  {
   "cell_type": "code",
   "execution_count": 5,
   "metadata": {},
   "outputs": [],
   "source": [
    "df.head(5)\n",
    "df.EXPIRATION = pd.to_datetime(df.EXPIRATION, format = '%m%d%Y', errors = 'coerce')"
   ]
  },
  {
   "cell_type": "markdown",
   "metadata": {},
   "source": [
    "Check the first five expirations to make sure they look right."
   ]
  },
  {
   "cell_type": "code",
   "execution_count": 6,
   "metadata": {},
   "outputs": [
    {
     "data": {
      "text/html": [
       "<div>\n",
       "<style scoped>\n",
       "    .dataframe tbody tr th:only-of-type {\n",
       "        vertical-align: middle;\n",
       "    }\n",
       "\n",
       "    .dataframe tbody tr th {\n",
       "        vertical-align: top;\n",
       "    }\n",
       "\n",
       "    .dataframe thead th {\n",
       "        text-align: right;\n",
       "    }\n",
       "</style>\n",
       "<table border=\"1\" class=\"dataframe\">\n",
       "  <thead>\n",
       "    <tr style=\"text-align: right;\">\n",
       "      <th></th>\n",
       "      <th>LICTYPE</th>\n",
       "      <th>LICNUMBER</th>\n",
       "      <th>BIZCOUNTY</th>\n",
       "      <th>BIZNAME</th>\n",
       "      <th>BIZLINE1</th>\n",
       "      <th>BIZLINE2</th>\n",
       "      <th>BIZCITYSTATE</th>\n",
       "      <th>BIZTELEPHONE</th>\n",
       "      <th>EXPIRATION</th>\n",
       "      <th>OWNER</th>\n",
       "      <th>MAILLINE1</th>\n",
       "      <th>MAILLINE2</th>\n",
       "      <th>MAILCITYSTATE</th>\n",
       "      <th>MAILCOUNTYCODE</th>\n",
       "      <th>MAILCOUNTY</th>\n",
       "      <th>MAILZIP</th>\n",
       "      <th>TELEPHONE</th>\n",
       "      <th>LICSUBTYPE</th>\n",
       "      <th>CEFLAG</th>\n",
       "    </tr>\n",
       "  </thead>\n",
       "  <tbody>\n",
       "    <tr>\n",
       "      <th>0</th>\n",
       "      <td>Associate Auctioneer</td>\n",
       "      <td>7326</td>\n",
       "      <td>ANGELINA</td>\n",
       "      <td>RISINGER, JIM MARVIN</td>\n",
       "      <td>NaN</td>\n",
       "      <td>NaN</td>\n",
       "      <td>NaN</td>\n",
       "      <td>NaN</td>\n",
       "      <td>2017-08-10</td>\n",
       "      <td>RISINGER, JIM MARVIN</td>\n",
       "      <td>7668 S US HWY 59</td>\n",
       "      <td>NaN</td>\n",
       "      <td>NACOGDOCHES TX 75964</td>\n",
       "      <td>0347</td>\n",
       "      <td>NACOGDOCHES</td>\n",
       "      <td>75964</td>\n",
       "      <td>9363665745</td>\n",
       "      <td>NaN</td>\n",
       "      <td>N</td>\n",
       "    </tr>\n",
       "    <tr>\n",
       "      <th>1</th>\n",
       "      <td>Associate Auctioneer</td>\n",
       "      <td>7962</td>\n",
       "      <td>UPSHUR</td>\n",
       "      <td>WILLIAMS, JON ANDRE</td>\n",
       "      <td>NaN</td>\n",
       "      <td>NaN</td>\n",
       "      <td>NaN</td>\n",
       "      <td>NaN</td>\n",
       "      <td>2017-12-29</td>\n",
       "      <td>WILLIAMS, JON ANDRE</td>\n",
       "      <td>228 FM 1252</td>\n",
       "      <td>NaN</td>\n",
       "      <td>KILGORE TX 75662</td>\n",
       "      <td>0183</td>\n",
       "      <td>GREGG</td>\n",
       "      <td>75662</td>\n",
       "      <td>9039187899</td>\n",
       "      <td>NaN</td>\n",
       "      <td>N</td>\n",
       "    </tr>\n",
       "    <tr>\n",
       "      <th>2</th>\n",
       "      <td>Associate Auctioneer</td>\n",
       "      <td>8406</td>\n",
       "      <td>WILSON</td>\n",
       "      <td>GUEVARA, JUAN ANTONIO</td>\n",
       "      <td>NaN</td>\n",
       "      <td>NaN</td>\n",
       "      <td>NaN</td>\n",
       "      <td>NaN</td>\n",
       "      <td>2017-09-26</td>\n",
       "      <td>GUEVARA, JUAN ANTONIO</td>\n",
       "      <td>6909 HWY 181</td>\n",
       "      <td>NaN</td>\n",
       "      <td>POTH TX 78147</td>\n",
       "      <td>0493</td>\n",
       "      <td>WILSON</td>\n",
       "      <td>78147</td>\n",
       "      <td>NaN</td>\n",
       "      <td>NaN</td>\n",
       "      <td>N</td>\n",
       "    </tr>\n",
       "    <tr>\n",
       "      <th>3</th>\n",
       "      <td>Associate Auctioneer</td>\n",
       "      <td>10543</td>\n",
       "      <td>HARRIS</td>\n",
       "      <td>BOWERS, JAMES BRISCOE II</td>\n",
       "      <td>NaN</td>\n",
       "      <td>NaN</td>\n",
       "      <td>NaN</td>\n",
       "      <td>NaN</td>\n",
       "      <td>2017-11-04</td>\n",
       "      <td>BOWERS, JAMES BRISCOE II</td>\n",
       "      <td>6767 NORTH FWY</td>\n",
       "      <td>NaN</td>\n",
       "      <td>HOUSTON TX 77076-2027</td>\n",
       "      <td>0201</td>\n",
       "      <td>HARRIS</td>\n",
       "      <td>77076</td>\n",
       "      <td>7136445566</td>\n",
       "      <td>NaN</td>\n",
       "      <td>N</td>\n",
       "    </tr>\n",
       "    <tr>\n",
       "      <th>4</th>\n",
       "      <td>Associate Auctioneer</td>\n",
       "      <td>10642</td>\n",
       "      <td>BELL</td>\n",
       "      <td>DEMSKY, JOHN EDWARD</td>\n",
       "      <td>NaN</td>\n",
       "      <td>NaN</td>\n",
       "      <td>NaN</td>\n",
       "      <td>NaN</td>\n",
       "      <td>2018-02-25</td>\n",
       "      <td>DEMSKY, JOHN EDWARD</td>\n",
       "      <td>130 E CLARK ST</td>\n",
       "      <td>NaN</td>\n",
       "      <td>BARTLETT TX 76511</td>\n",
       "      <td>0027</td>\n",
       "      <td>BELL</td>\n",
       "      <td>76511</td>\n",
       "      <td>2549852228</td>\n",
       "      <td>NaN</td>\n",
       "      <td>N</td>\n",
       "    </tr>\n",
       "  </tbody>\n",
       "</table>\n",
       "</div>"
      ],
      "text/plain": [
       "                LICTYPE LICNUMBER BIZCOUNTY                   BIZNAME  \\\n",
       "0  Associate Auctioneer      7326  ANGELINA      RISINGER, JIM MARVIN   \n",
       "1  Associate Auctioneer      7962    UPSHUR       WILLIAMS, JON ANDRE   \n",
       "2  Associate Auctioneer      8406    WILSON     GUEVARA, JUAN ANTONIO   \n",
       "3  Associate Auctioneer     10543    HARRIS  BOWERS, JAMES BRISCOE II   \n",
       "4  Associate Auctioneer     10642      BELL       DEMSKY, JOHN EDWARD   \n",
       "\n",
       "   BIZLINE1  BIZLINE2  BIZCITYSTATE  BIZTELEPHONE EXPIRATION  \\\n",
       "0       NaN       NaN           NaN           NaN 2017-08-10   \n",
       "1       NaN       NaN           NaN           NaN 2017-12-29   \n",
       "2       NaN       NaN           NaN           NaN 2017-09-26   \n",
       "3       NaN       NaN           NaN           NaN 2017-11-04   \n",
       "4       NaN       NaN           NaN           NaN 2018-02-25   \n",
       "\n",
       "                      OWNER         MAILLINE1 MAILLINE2  \\\n",
       "0      RISINGER, JIM MARVIN  7668 S US HWY 59       NaN   \n",
       "1       WILLIAMS, JON ANDRE       228 FM 1252       NaN   \n",
       "2     GUEVARA, JUAN ANTONIO      6909 HWY 181       NaN   \n",
       "3  BOWERS, JAMES BRISCOE II    6767 NORTH FWY       NaN   \n",
       "4       DEMSKY, JOHN EDWARD    130 E CLARK ST       NaN   \n",
       "\n",
       "           MAILCITYSTATE MAILCOUNTYCODE   MAILCOUNTY MAILZIP   TELEPHONE  \\\n",
       "0   NACOGDOCHES TX 75964           0347  NACOGDOCHES   75964  9363665745   \n",
       "1       KILGORE TX 75662           0183        GREGG   75662  9039187899   \n",
       "2          POTH TX 78147           0493       WILSON   78147         NaN   \n",
       "3  HOUSTON TX 77076-2027           0201       HARRIS   77076  7136445566   \n",
       "4      BARTLETT TX 76511           0027         BELL   76511  2549852228   \n",
       "\n",
       "  LICSUBTYPE CEFLAG  \n",
       "0        NaN      N  \n",
       "1        NaN      N  \n",
       "2        NaN      N  \n",
       "3        NaN      N  \n",
       "4        NaN      N  "
      ]
     },
     "execution_count": 6,
     "metadata": {},
     "output_type": "execute_result"
    }
   ],
   "source": [
    "df.head(5)"
   ]
  },
  {
   "cell_type": "markdown",
   "metadata": {},
   "source": [
    "# PART TWO: LOOKING AT LICENSES"
   ]
  },
  {
   "cell_type": "markdown",
   "metadata": {},
   "source": [
    "## 5. What are the top 10 most common licenses?"
   ]
  },
  {
   "cell_type": "code",
   "execution_count": 7,
   "metadata": {},
   "outputs": [
    {
     "data": {
      "text/plain": [
       "Cosmetology Operator        151206\n",
       "Apprentice Electrician      110593\n",
       "Cosmetology Manicurist       49563\n",
       "Journeyman Electrician       38170\n",
       "A/C Technician               27959\n",
       "Cosmetology Esthetician      23613\n",
       "Cosmetology Beauty Salon     23577\n",
       "Master Electrician           16810\n",
       "A/C Contractor               16376\n",
       "Barber, Class A              16019\n",
       "Name: LICTYPE, dtype: int64"
      ]
     },
     "execution_count": 7,
     "metadata": {},
     "output_type": "execute_result"
    }
   ],
   "source": [
    "df.LICTYPE.value_counts().head(10)"
   ]
  },
  {
   "cell_type": "markdown",
   "metadata": {},
   "source": [
    "## 6. What are the top 10 least common?"
   ]
  },
  {
   "cell_type": "code",
   "execution_count": 8,
   "metadata": {},
   "outputs": [
    {
     "data": {
      "text/plain": [
       "Registered Accessibility Specialist CE Provider    8\n",
       "Mobile Cosmetology Esthetician Specialty Saloon    5\n",
       "Barber Hair Weaving Shop                           4\n",
       "Barber Hair Braiding Shop                          4\n",
       "Booting CE Provider                                3\n",
       "Cosmetology Wig Instructor                         2\n",
       "Mobile Cosmetology Esthetician/Manicure Saloon     2\n",
       "Mobile Cosmetology Manicure Specialty Saloon       2\n",
       "Licensed Court Interpreter CE Provider             2\n",
       "Legal Service Contract Admin                       1\n",
       "Name: LICTYPE, dtype: int64"
      ]
     },
     "execution_count": 8,
     "metadata": {},
     "output_type": "execute_result"
    }
   ],
   "source": [
    "df.LICTYPE.value_counts().tail(10)"
   ]
  },
  {
   "cell_type": "markdown",
   "metadata": {},
   "source": [
    "## 7. Try to select everyone who is any type of electrician.\n",
    "\n",
    "You're going to get an error about `\"cannot index with vector containing NA / NaN values\"`. Let's work our way in there."
   ]
  },
  {
   "cell_type": "code",
   "execution_count": 9,
   "metadata": {},
   "outputs": [],
   "source": [
    "# Yes I know I left this in here, it's a learning experience!\n",
    "#df[df['LICTYPE'].str.contains(\"Electrician\")]\n",
    "\n"
   ]
  },
  {
   "cell_type": "markdown",
   "metadata": {},
   "source": [
    "## 8. How many of the rows of LICTYPE are NaN?"
   ]
  },
  {
   "cell_type": "code",
   "execution_count": 10,
   "metadata": {},
   "outputs": [
    {
     "data": {
      "text/plain": [
       "False    590730\n",
       "True       7086\n",
       "Name: LICTYPE, dtype: int64"
      ]
     },
     "execution_count": 10,
     "metadata": {},
     "output_type": "execute_result"
    }
   ],
   "source": [
    "df['LICTYPE'].isna().value_counts()"
   ]
  },
  {
   "cell_type": "markdown",
   "metadata": {},
   "source": [
    "Over 7000 licenses don't have types! As a result, when we look for license types with electricians - aka do `df['LICTYPE'].str.contains(\"Electrician\")` - we get three results:\n",
    "\n",
    "* `True` means `LICTYPE` exists and contains `\"Electrician\"`\n",
    "* `False` means `LICTYPE` exists and does not contain `\"Electrician\"`\n",
    "* `NaN` means `LICTYPE` does not exist for that row"
   ]
  },
  {
   "cell_type": "markdown",
   "metadata": {},
   "source": [
    "## 9. Actually getting everyone who is an electrician"
   ]
  },
  {
   "cell_type": "code",
   "execution_count": 11,
   "metadata": {},
   "outputs": [
    {
     "data": {
      "text/plain": [
       "0         False\n",
       "353307    False\n",
       "353306    False\n",
       "353305    False\n",
       "353304    False\n",
       "          ...  \n",
       "492761      NaN\n",
       "492762      NaN\n",
       "492763      NaN\n",
       "492764      NaN\n",
       "492765      NaN\n",
       "Name: LICTYPE, Length: 597816, dtype: object"
      ]
     },
     "execution_count": 11,
     "metadata": {},
     "output_type": "execute_result"
    }
   ],
   "source": [
    "\n",
    "df['LICTYPE'].str.contains(\"Electrician\").sort_values()"
   ]
  },
  {
   "cell_type": "markdown",
   "metadata": {},
   "source": [
    "This doesn't work when trying to select electricians, though, as NaN is a no-go for a filter. We *could* filter out everywhere the LICTYPE is null, but we could also cheat a little and say \"replace all of the `NaN` values with `False` values.\"\n",
    "\n",
    "`.fillna(False)` will take every `NaN` and replace it with `False`. "
   ]
  },
  {
   "cell_type": "code",
   "execution_count": 12,
   "metadata": {},
   "outputs": [
    {
     "data": {
      "text/plain": [
       "False    425978\n",
       "True     171838\n",
       "Name: LICTYPE, dtype: int64"
      ]
     },
     "execution_count": 12,
     "metadata": {},
     "output_type": "execute_result"
    }
   ],
   "source": [
    "df['LICTYPE'].str.contains(\"Electrician\").fillna(False).value_counts()"
   ]
  },
  {
   "cell_type": "markdown",
   "metadata": {},
   "source": [
    "## 10. What's the most popular kind of electrician?"
   ]
  },
  {
   "cell_type": "code",
   "execution_count": 13,
   "metadata": {},
   "outputs": [
    {
     "data": {
      "text/plain": [
       "Apprentice Electrician                110593\n",
       "Journeyman Electrician                 38170\n",
       "Master Electrician                     16810\n",
       "Apprentice Sign Electrician             3994\n",
       "Maintenance Electrician                 1184\n",
       "Master Sign Electrician                  542\n",
       "Journeyman Sign Electrician              391\n",
       "Electrician CE Provider                  109\n",
       "Electrician Apprenticeship Program        45\n",
       "Name: LICTYPE, dtype: int64"
      ]
     },
     "execution_count": 13,
     "metadata": {},
     "output_type": "execute_result"
    }
   ],
   "source": [
    "df_electrician = df[df['LICTYPE'].str.contains(\"Electrician\").fillna(False)]\n",
    "df_electrician.LICTYPE.value_counts()"
   ]
  },
  {
   "cell_type": "markdown",
   "metadata": {},
   "source": [
    "## 11. Graph it, with the largest bar on top."
   ]
  },
  {
   "cell_type": "code",
   "execution_count": 14,
   "metadata": {},
   "outputs": [
    {
     "data": {
      "text/plain": [
       "<AxesSubplot:>"
      ]
     },
     "execution_count": 14,
     "metadata": {},
     "output_type": "execute_result"
    },
    {
     "data": {
      "image/png": "[encoded data removed]",
      "text/plain": [
       "<Figure size 432x288 with 1 Axes>"
      ]
     },
     "metadata": {
      "needs_background": "light"
     },
     "output_type": "display_data"
    }
   ],
   "source": [
    "df_electrician.LICTYPE.value_counts(ascending = True).plot(kind = 'barh')"
   ]
  },
  {
   "cell_type": "markdown",
   "metadata": {},
   "source": [
    "## 12. How many sign electricians are there?\n",
    "\n",
    "There are a few ways to do this one."
   ]
  },
  {
   "cell_type": "code",
   "execution_count": 15,
   "metadata": {},
   "outputs": [
    {
     "data": {
      "text/plain": [
       "False    166911\n",
       "True       4927\n",
       "Name: LICTYPE, dtype: int64"
      ]
     },
     "execution_count": 15,
     "metadata": {},
     "output_type": "execute_result"
    }
   ],
   "source": [
    "df_electrician.LICTYPE.str.contains('Sign').value_counts()"
   ]
  },
  {
   "cell_type": "markdown",
   "metadata": {},
   "source": [
    "# PART THREE: LOOKING AT LAST NAMES"
   ]
  },
  {
   "cell_type": "markdown",
   "metadata": {},
   "source": [
    "## 13. Extract every owner's last name\n",
    "\n",
    "You want everything before the comma. We've done this before (in a few different ways!).\n",
    "\n",
    "* **Hint:** If you get an error about missing or `NaN` data, you might use `.fillna('')` to replace every empty owner name with an empty string. This might not happen to you, though, depending on how you do it!\n",
    "\n",
    "* **Hint:** You probably want to do `expand=False` on your extraction to make sure it comes out as a series instead of a dataframe."
   ]
  },
  {
   "cell_type": "code",
   "execution_count": 16,
   "metadata": {},
   "outputs": [],
   "source": [
    "df['last_name']= df['OWNER'].str.split(',').str[0].fillna('')"
   ]
  },
  {
   "cell_type": "code",
   "execution_count": 17,
   "metadata": {},
   "outputs": [
    {
     "data": {
      "text/html": [
       "<div>\n",
       "<style scoped>\n",
       "    .dataframe tbody tr th:only-of-type {\n",
       "        vertical-align: middle;\n",
       "    }\n",
       "\n",
       "    .dataframe tbody tr th {\n",
       "        vertical-align: top;\n",
       "    }\n",
       "\n",
       "    .dataframe thead th {\n",
       "        text-align: right;\n",
       "    }\n",
       "</style>\n",
       "<table border=\"1\" class=\"dataframe\">\n",
       "  <thead>\n",
       "    <tr style=\"text-align: right;\">\n",
       "      <th></th>\n",
       "      <th>LICTYPE</th>\n",
       "      <th>LICNUMBER</th>\n",
       "      <th>BIZCOUNTY</th>\n",
       "      <th>BIZNAME</th>\n",
       "      <th>BIZLINE1</th>\n",
       "      <th>BIZLINE2</th>\n",
       "      <th>BIZCITYSTATE</th>\n",
       "      <th>BIZTELEPHONE</th>\n",
       "      <th>EXPIRATION</th>\n",
       "      <th>OWNER</th>\n",
       "      <th>MAILLINE1</th>\n",
       "      <th>MAILLINE2</th>\n",
       "      <th>MAILCITYSTATE</th>\n",
       "      <th>MAILCOUNTYCODE</th>\n",
       "      <th>MAILCOUNTY</th>\n",
       "      <th>MAILZIP</th>\n",
       "      <th>TELEPHONE</th>\n",
       "      <th>LICSUBTYPE</th>\n",
       "      <th>CEFLAG</th>\n",
       "      <th>last_name</th>\n",
       "    </tr>\n",
       "  </thead>\n",
       "  <tbody>\n",
       "    <tr>\n",
       "      <th>0</th>\n",
       "      <td>Associate Auctioneer</td>\n",
       "      <td>7326</td>\n",
       "      <td>ANGELINA</td>\n",
       "      <td>RISINGER, JIM MARVIN</td>\n",
       "      <td>NaN</td>\n",
       "      <td>NaN</td>\n",
       "      <td>NaN</td>\n",
       "      <td>NaN</td>\n",
       "      <td>2017-08-10</td>\n",
       "      <td>RISINGER, JIM MARVIN</td>\n",
       "      <td>7668 S US HWY 59</td>\n",
       "      <td>NaN</td>\n",
       "      <td>NACOGDOCHES TX 75964</td>\n",
       "      <td>0347</td>\n",
       "      <td>NACOGDOCHES</td>\n",
       "      <td>75964</td>\n",
       "      <td>9363665745</td>\n",
       "      <td>NaN</td>\n",
       "      <td>N</td>\n",
       "      <td>RISINGER</td>\n",
       "    </tr>\n",
       "    <tr>\n",
       "      <th>1</th>\n",
       "      <td>Associate Auctioneer</td>\n",
       "      <td>7962</td>\n",
       "      <td>UPSHUR</td>\n",
       "      <td>WILLIAMS, JON ANDRE</td>\n",
       "      <td>NaN</td>\n",
       "      <td>NaN</td>\n",
       "      <td>NaN</td>\n",
       "      <td>NaN</td>\n",
       "      <td>2017-12-29</td>\n",
       "      <td>WILLIAMS, JON ANDRE</td>\n",
       "      <td>228 FM 1252</td>\n",
       "      <td>NaN</td>\n",
       "      <td>KILGORE TX 75662</td>\n",
       "      <td>0183</td>\n",
       "      <td>GREGG</td>\n",
       "      <td>75662</td>\n",
       "      <td>9039187899</td>\n",
       "      <td>NaN</td>\n",
       "      <td>N</td>\n",
       "      <td>WILLIAMS</td>\n",
       "    </tr>\n",
       "    <tr>\n",
       "      <th>2</th>\n",
       "      <td>Associate Auctioneer</td>\n",
       "      <td>8406</td>\n",
       "      <td>WILSON</td>\n",
       "      <td>GUEVARA, JUAN ANTONIO</td>\n",
       "      <td>NaN</td>\n",
       "      <td>NaN</td>\n",
       "      <td>NaN</td>\n",
       "      <td>NaN</td>\n",
       "      <td>2017-09-26</td>\n",
       "      <td>GUEVARA, JUAN ANTONIO</td>\n",
       "      <td>6909 HWY 181</td>\n",
       "      <td>NaN</td>\n",
       "      <td>POTH TX 78147</td>\n",
       "      <td>0493</td>\n",
       "      <td>WILSON</td>\n",
       "      <td>78147</td>\n",
       "      <td>NaN</td>\n",
       "      <td>NaN</td>\n",
       "      <td>N</td>\n",
       "      <td>GUEVARA</td>\n",
       "    </tr>\n",
       "    <tr>\n",
       "      <th>3</th>\n",
       "      <td>Associate Auctioneer</td>\n",
       "      <td>10543</td>\n",
       "      <td>HARRIS</td>\n",
       "      <td>BOWERS, JAMES BRISCOE II</td>\n",
       "      <td>NaN</td>\n",
       "      <td>NaN</td>\n",
       "      <td>NaN</td>\n",
       "      <td>NaN</td>\n",
       "      <td>2017-11-04</td>\n",
       "      <td>BOWERS, JAMES BRISCOE II</td>\n",
       "      <td>6767 NORTH FWY</td>\n",
       "      <td>NaN</td>\n",
       "      <td>HOUSTON TX 77076-2027</td>\n",
       "      <td>0201</td>\n",
       "      <td>HARRIS</td>\n",
       "      <td>77076</td>\n",
       "      <td>7136445566</td>\n",
       "      <td>NaN</td>\n",
       "      <td>N</td>\n",
       "      <td>BOWERS</td>\n",
       "    </tr>\n",
       "    <tr>\n",
       "      <th>4</th>\n",
       "      <td>Associate Auctioneer</td>\n",
       "      <td>10642</td>\n",
       "      <td>BELL</td>\n",
       "      <td>DEMSKY, JOHN EDWARD</td>\n",
       "      <td>NaN</td>\n",
       "      <td>NaN</td>\n",
       "      <td>NaN</td>\n",
       "      <td>NaN</td>\n",
       "      <td>2018-02-25</td>\n",
       "      <td>DEMSKY, JOHN EDWARD</td>\n",
       "      <td>130 E CLARK ST</td>\n",
       "      <td>NaN</td>\n",
       "      <td>BARTLETT TX 76511</td>\n",
       "      <td>0027</td>\n",
       "      <td>BELL</td>\n",
       "      <td>76511</td>\n",
       "      <td>2549852228</td>\n",
       "      <td>NaN</td>\n",
       "      <td>N</td>\n",
       "      <td>DEMSKY</td>\n",
       "    </tr>\n",
       "    <tr>\n",
       "      <th>...</th>\n",
       "      <td>...</td>\n",
       "      <td>...</td>\n",
       "      <td>...</td>\n",
       "      <td>...</td>\n",
       "      <td>...</td>\n",
       "      <td>...</td>\n",
       "      <td>...</td>\n",
       "      <td>...</td>\n",
       "      <td>...</td>\n",
       "      <td>...</td>\n",
       "      <td>...</td>\n",
       "      <td>...</td>\n",
       "      <td>...</td>\n",
       "      <td>...</td>\n",
       "      <td>...</td>\n",
       "      <td>...</td>\n",
       "      <td>...</td>\n",
       "      <td>...</td>\n",
       "      <td>...</td>\n",
       "      <td>...</td>\n",
       "    </tr>\n",
       "    <tr>\n",
       "      <th>597811</th>\n",
       "      <td>Water Well Driller/Pump Installer</td>\n",
       "      <td>59930</td>\n",
       "      <td>TOM GREEN</td>\n",
       "      <td>ABEL, JUSTIN C</td>\n",
       "      <td>NaN</td>\n",
       "      <td>NaN</td>\n",
       "      <td>NaN</td>\n",
       "      <td>NaN</td>\n",
       "      <td>2018-01-23</td>\n",
       "      <td>ABEL, JUSTIN C</td>\n",
       "      <td>6601 RM HIGHWAY 853</td>\n",
       "      <td>NaN</td>\n",
       "      <td>SAN ANGELO TX 76901-9716</td>\n",
       "      <td>0451</td>\n",
       "      <td>TOM GREEN</td>\n",
       "      <td>76901</td>\n",
       "      <td>3259496607</td>\n",
       "      <td>KP</td>\n",
       "      <td>N</td>\n",
       "      <td>ABEL</td>\n",
       "    </tr>\n",
       "    <tr>\n",
       "      <th>597812</th>\n",
       "      <td>Water Well Driller/Pump Installer</td>\n",
       "      <td>59931</td>\n",
       "      <td>RUNNELS</td>\n",
       "      <td>GRAY, MATTHEW BRYAN</td>\n",
       "      <td>NaN</td>\n",
       "      <td>NaN</td>\n",
       "      <td>NaN</td>\n",
       "      <td>NaN</td>\n",
       "      <td>2018-01-23</td>\n",
       "      <td>GRAY, MATTHEW BRYAN</td>\n",
       "      <td>401 VICTOR ST</td>\n",
       "      <td>NaN</td>\n",
       "      <td>ROWENA TX 76875-2608</td>\n",
       "      <td>0399</td>\n",
       "      <td>RUNNELS</td>\n",
       "      <td>76875</td>\n",
       "      <td>3254422331</td>\n",
       "      <td>KLPW</td>\n",
       "      <td>N</td>\n",
       "      <td>GRAY</td>\n",
       "    </tr>\n",
       "    <tr>\n",
       "      <th>597813</th>\n",
       "      <td>Water Well Driller/Pump Installer</td>\n",
       "      <td>59934</td>\n",
       "      <td>LAVACA</td>\n",
       "      <td>MAYER, DAVID W</td>\n",
       "      <td>NaN</td>\n",
       "      <td>NaN</td>\n",
       "      <td>NaN</td>\n",
       "      <td>NaN</td>\n",
       "      <td>2018-01-27</td>\n",
       "      <td>MAYER, DAVID W</td>\n",
       "      <td>966 FM 318 E</td>\n",
       "      <td>NaN</td>\n",
       "      <td>YOAKUM TX 77995-6786</td>\n",
       "      <td>0285</td>\n",
       "      <td>LAVACA</td>\n",
       "      <td>77995</td>\n",
       "      <td>3612933168</td>\n",
       "      <td>P</td>\n",
       "      <td>N</td>\n",
       "      <td>MAYER</td>\n",
       "    </tr>\n",
       "    <tr>\n",
       "      <th>597814</th>\n",
       "      <td>Water Well Driller/Pump Installer</td>\n",
       "      <td>59936</td>\n",
       "      <td>HOCKLEY</td>\n",
       "      <td>FRIESEN, FRANCISCO FEHR</td>\n",
       "      <td>NaN</td>\n",
       "      <td>NaN</td>\n",
       "      <td>NaN</td>\n",
       "      <td>NaN</td>\n",
       "      <td>2018-02-13</td>\n",
       "      <td>FRIESEN, FRANCISCO FEHR</td>\n",
       "      <td>3686 JAMAICA RD</td>\n",
       "      <td>NaN</td>\n",
       "      <td>LEVELLAND TX 79336-9124</td>\n",
       "      <td>0219</td>\n",
       "      <td>HOCKLEY</td>\n",
       "      <td>79336</td>\n",
       "      <td>8065980508</td>\n",
       "      <td>W</td>\n",
       "      <td>N</td>\n",
       "      <td>FRIESEN</td>\n",
       "    </tr>\n",
       "    <tr>\n",
       "      <th>597815</th>\n",
       "      <td>Water Well Driller/Pump Installer</td>\n",
       "      <td>59941</td>\n",
       "      <td>WILSON</td>\n",
       "      <td>BAUER, DAVID A</td>\n",
       "      <td>NaN</td>\n",
       "      <td>NaN</td>\n",
       "      <td>NaN</td>\n",
       "      <td>NaN</td>\n",
       "      <td>2018-02-16</td>\n",
       "      <td>BAUER, DAVID A</td>\n",
       "      <td>2590 HEINEN RD</td>\n",
       "      <td>NaN</td>\n",
       "      <td>FLORESVILLE TX 78114-6076</td>\n",
       "      <td>0493</td>\n",
       "      <td>WILSON</td>\n",
       "      <td>78114</td>\n",
       "      <td>8303917338</td>\n",
       "      <td>W</td>\n",
       "      <td>N</td>\n",
       "      <td>BAUER</td>\n",
       "    </tr>\n",
       "  </tbody>\n",
       "</table>\n",
       "<p>597816 rows × 20 columns</p>\n",
       "</div>"
      ],
      "text/plain": [
       "                                  LICTYPE LICNUMBER  BIZCOUNTY  \\\n",
       "0                    Associate Auctioneer      7326   ANGELINA   \n",
       "1                    Associate Auctioneer      7962     UPSHUR   \n",
       "2                    Associate Auctioneer      8406     WILSON   \n",
       "3                    Associate Auctioneer     10543     HARRIS   \n",
       "4                    Associate Auctioneer     10642       BELL   \n",
       "...                                   ...       ...        ...   \n",
       "597811  Water Well Driller/Pump Installer     59930  TOM GREEN   \n",
       "597812  Water Well Driller/Pump Installer     59931    RUNNELS   \n",
       "597813  Water Well Driller/Pump Installer     59934     LAVACA   \n",
       "597814  Water Well Driller/Pump Installer     59936    HOCKLEY   \n",
       "597815  Water Well Driller/Pump Installer     59941     WILSON   \n",
       "\n",
       "                         BIZNAME  BIZLINE1  BIZLINE2  BIZCITYSTATE  \\\n",
       "0           RISINGER, JIM MARVIN       NaN       NaN           NaN   \n",
       "1            WILLIAMS, JON ANDRE       NaN       NaN           NaN   \n",
       "2          GUEVARA, JUAN ANTONIO       NaN       NaN           NaN   \n",
       "3       BOWERS, JAMES BRISCOE II       NaN       NaN           NaN   \n",
       "4            DEMSKY, JOHN EDWARD       NaN       NaN           NaN   \n",
       "...                          ...       ...       ...           ...   \n",
       "597811            ABEL, JUSTIN C       NaN       NaN           NaN   \n",
       "597812       GRAY, MATTHEW BRYAN       NaN       NaN           NaN   \n",
       "597813            MAYER, DAVID W       NaN       NaN           NaN   \n",
       "597814   FRIESEN, FRANCISCO FEHR       NaN       NaN           NaN   \n",
       "597815            BAUER, DAVID A       NaN       NaN           NaN   \n",
       "\n",
       "        BIZTELEPHONE EXPIRATION                     OWNER  \\\n",
       "0                NaN 2017-08-10      RISINGER, JIM MARVIN   \n",
       "1                NaN 2017-12-29       WILLIAMS, JON ANDRE   \n",
       "2                NaN 2017-09-26     GUEVARA, JUAN ANTONIO   \n",
       "3                NaN 2017-11-04  BOWERS, JAMES BRISCOE II   \n",
       "4                NaN 2018-02-25       DEMSKY, JOHN EDWARD   \n",
       "...              ...        ...                       ...   \n",
       "597811           NaN 2018-01-23            ABEL, JUSTIN C   \n",
       "597812           NaN 2018-01-23       GRAY, MATTHEW BRYAN   \n",
       "597813           NaN 2018-01-27            MAYER, DAVID W   \n",
       "597814           NaN 2018-02-13   FRIESEN, FRANCISCO FEHR   \n",
       "597815           NaN 2018-02-16            BAUER, DAVID A   \n",
       "\n",
       "                  MAILLINE1 MAILLINE2              MAILCITYSTATE  \\\n",
       "0          7668 S US HWY 59       NaN       NACOGDOCHES TX 75964   \n",
       "1               228 FM 1252       NaN           KILGORE TX 75662   \n",
       "2              6909 HWY 181       NaN              POTH TX 78147   \n",
       "3            6767 NORTH FWY       NaN      HOUSTON TX 77076-2027   \n",
       "4            130 E CLARK ST       NaN          BARTLETT TX 76511   \n",
       "...                     ...       ...                        ...   \n",
       "597811  6601 RM HIGHWAY 853       NaN   SAN ANGELO TX 76901-9716   \n",
       "597812        401 VICTOR ST       NaN       ROWENA TX 76875-2608   \n",
       "597813         966 FM 318 E       NaN       YOAKUM TX 77995-6786   \n",
       "597814      3686 JAMAICA RD       NaN    LEVELLAND TX 79336-9124   \n",
       "597815       2590 HEINEN RD       NaN  FLORESVILLE TX 78114-6076   \n",
       "\n",
       "       MAILCOUNTYCODE   MAILCOUNTY MAILZIP   TELEPHONE LICSUBTYPE CEFLAG  \\\n",
       "0                0347  NACOGDOCHES   75964  9363665745        NaN      N   \n",
       "1                0183        GREGG   75662  9039187899        NaN      N   \n",
       "2                0493       WILSON   78147         NaN        NaN      N   \n",
       "3                0201       HARRIS   77076  7136445566        NaN      N   \n",
       "4                0027         BELL   76511  2549852228        NaN      N   \n",
       "...               ...          ...     ...         ...        ...    ...   \n",
       "597811           0451    TOM GREEN   76901  3259496607         KP      N   \n",
       "597812           0399      RUNNELS   76875  3254422331       KLPW      N   \n",
       "597813           0285       LAVACA   77995  3612933168          P      N   \n",
       "597814           0219      HOCKLEY   79336  8065980508          W      N   \n",
       "597815           0493       WILSON   78114  8303917338          W      N   \n",
       "\n",
       "       last_name  \n",
       "0       RISINGER  \n",
       "1       WILLIAMS  \n",
       "2        GUEVARA  \n",
       "3         BOWERS  \n",
       "4         DEMSKY  \n",
       "...          ...  \n",
       "597811      ABEL  \n",
       "597812      GRAY  \n",
       "597813     MAYER  \n",
       "597814   FRIESEN  \n",
       "597815     BAUER  \n",
       "\n",
       "[597816 rows x 20 columns]"
      ]
     },
     "execution_count": 17,
     "metadata": {},
     "output_type": "execute_result"
    }
   ],
   "source": [
    "df"
   ]
  },
  {
   "cell_type": "markdown",
   "metadata": {},
   "source": [
    "## 14. Save the last name into a new column\n",
    "\n",
    "Then check to make sure it exists, and you successfully saved it into the dataframe."
   ]
  },
  {
   "cell_type": "code",
   "execution_count": null,
   "metadata": {},
   "outputs": [],
   "source": []
  },
  {
   "cell_type": "code",
   "execution_count": 18,
   "metadata": {},
   "outputs": [
    {
     "data": {
      "text/plain": [
       "LICTYPE                   object\n",
       "LICNUMBER                 object\n",
       "BIZCOUNTY                 object\n",
       "BIZNAME                   object\n",
       "BIZLINE1                 float64\n",
       "BIZLINE2                 float64\n",
       "BIZCITYSTATE             float64\n",
       "BIZTELEPHONE             float64\n",
       "EXPIRATION        datetime64[ns]\n",
       "OWNER                     object\n",
       "MAILLINE1                 object\n",
       "MAILLINE2                 object\n",
       "MAILCITYSTATE             object\n",
       "MAILCOUNTYCODE            object\n",
       "MAILCOUNTY                object\n",
       "MAILZIP                   object\n",
       "TELEPHONE                 object\n",
       "LICSUBTYPE                object\n",
       "CEFLAG                    object\n",
       "last_name                 object\n",
       "dtype: object"
      ]
     },
     "execution_count": 18,
     "metadata": {},
     "output_type": "execute_result"
    }
   ],
   "source": [
    "df.dtypes"
   ]
  },
  {
   "cell_type": "markdown",
   "metadata": {},
   "source": [
    "# 15. What are the ten most popular last names?"
   ]
  },
  {
   "cell_type": "code",
   "execution_count": 19,
   "metadata": {},
   "outputs": [
    {
     "data": {
      "text/plain": [
       "NGUYEN       22286\n",
       "TRAN          8137\n",
       "LE            5606\n",
       "GARCIA        5574\n",
       "MARTINEZ      4701\n",
       "RODRIGUEZ     4626\n",
       "HERNANDEZ     4390\n",
       "PHAM          3997\n",
       "GONZALEZ      3634\n",
       "SMITH         3208\n",
       "Name: last_name, dtype: int64"
      ]
     },
     "execution_count": 19,
     "metadata": {},
     "output_type": "execute_result"
    }
   ],
   "source": [
    "df.last_name.value_counts().head(10)"
   ]
  },
  {
   "cell_type": "markdown",
   "metadata": {},
   "source": [
    "## 16. What are the most popular licenses for people with the last name Nguyen? Tran? Le?\n",
    "\n",
    "Those are the top 3 last names in Vietnam."
   ]
  },
  {
   "cell_type": "code",
   "execution_count": 20,
   "metadata": {},
   "outputs": [
    {
     "data": {
      "text/plain": [
       "Cosmetology Manicurist             12922\n",
       "Cosmetology Operator                4065\n",
       "Cosmetology Esthetician             2900\n",
       "Cosmetologist                       1883\n",
       "Apprentice Electrician               197\n",
       "A/C Technician                       172\n",
       "Journeyman Electrician                55\n",
       "Cosmetology Operator Instructor       49\n",
       "Cos Mini Salon                        36\n",
       "Barber Manicurist                     25\n",
       "Name: LICTYPE, dtype: int64"
      ]
     },
     "execution_count": 20,
     "metadata": {},
     "output_type": "execute_result"
    }
   ],
   "source": [
    "df[df.last_name.str.contains('NGUYEN')].LICTYPE.value_counts().head(10)"
   ]
  },
  {
   "cell_type": "code",
   "execution_count": 21,
   "metadata": {},
   "outputs": [
    {
     "data": {
      "text/plain": [
       "Cosmetology Manicurist      4756\n",
       "Cosmetology Operator        1604\n",
       "Cosmetology Esthetician     1056\n",
       "Cosmetologist                727\n",
       "Apprentice Electrician       199\n",
       "A/C Technician                93\n",
       "Cosmetology Beauty Salon      69\n",
       "Cos Mini Salon                48\n",
       "A/C Contractor                47\n",
       "Journeyman Electrician        43\n",
       "Name: LICTYPE, dtype: int64"
      ]
     },
     "execution_count": 21,
     "metadata": {},
     "output_type": "execute_result"
    }
   ],
   "source": [
    "df[df.last_name.str.contains('TRAN')].LICTYPE.value_counts().head(10)"
   ]
  },
  {
   "cell_type": "code",
   "execution_count": 22,
   "metadata": {},
   "outputs": [
    {
     "data": {
      "text/plain": [
       "Cosmetology Operator                346\n",
       "Apprentice Electrician              150\n",
       "Journeyman Electrician               76\n",
       "A/C Contractor                       63\n",
       "Cos Mini Salon                       56\n",
       "Cosmetology Manicurist               56\n",
       "Barber, Class A                      52\n",
       "A/C Technician                       49\n",
       "Cosmetology Esthetician              48\n",
       "Legal Service Contract Sales Rep     48\n",
       "Name: LICTYPE, dtype: int64"
      ]
     },
     "execution_count": 22,
     "metadata": {},
     "output_type": "execute_result"
    }
   ],
   "source": [
    "df[df.last_name.str.contains('LEE')].LICTYPE.value_counts().head(10)"
   ]
  },
  {
   "cell_type": "markdown",
   "metadata": {},
   "source": [
    "The background of this [is interesting](https://www.npr.org/2019/05/19/724452398/how-vietnamese-americans-took-over-the-nails-business-a-documentary) and [tragic](https://www.nytimes.com/2015/05/10/nyregion/at-nail-salons-in-nyc-manicurists-are-underpaid-and-unprotected.html)."
   ]
  },
  {
   "cell_type": "markdown",
   "metadata": {},
   "source": [
    "## 17. Now do all of that in one line - most popular licenses for Nguyen, Tran and Le - without using `&`"
   ]
  },
  {
   "cell_type": "code",
   "execution_count": 23,
   "metadata": {},
   "outputs": [
    {
     "data": {
      "text/plain": [
       "LICTYPE                          LICTYPE                        \n",
       "Cosmetology Manicurist           Cosmetology Manicurist             20808\n",
       "Cosmetology Operator             Cosmetology Operator                6467\n",
       "Cosmetology Esthetician          Cosmetology Esthetician             4643\n",
       "Cosmetologist                    Cosmetologist                       3085\n",
       "Apprentice Electrician           Apprentice Electrician               327\n",
       "A/C Technician                   A/C Technician                       281\n",
       "Journeyman Electrician           Journeyman Electrician                91\n",
       "Cosmetology Operator Instructor  Cosmetology Operator Instructor       70\n",
       "Barber Manicurist                Barber Manicurist                     37\n",
       "Barber, Class A                  Barber, Class A                       36\n",
       "Name: LICTYPE, dtype: int64"
      ]
     },
     "execution_count": 23,
     "metadata": {},
     "output_type": "execute_result"
    }
   ],
   "source": [
    "df[df.last_name.isin(['NGUYEN', 'TRAN', \"LE\"])].groupby('LICTYPE').LICTYPE.value_counts().sort_values(ascending = False).head(10)\n",
    "\n",
    "\n",
    "\n"
   ]
  },
  {
   "cell_type": "markdown",
   "metadata": {},
   "source": [
    "## 19. Most popular license for anyone with a last name that ENDS in `-ko`\n",
    "\n",
    "The answer is not `.str.contains('ko')`, but it isn't necessarily too different.\n",
    "\n",
    "* One way involves a `.str.` method that check if a string ends with something,\n",
    "* the other way involves a regular expression that has a \"end of the string\" marker (similar to how we've used `^` for the start of a string before)\n",
    "\n",
    "If you're thinking about the latter, I might take a look at [this page](http://www.rexegg.com/regex-quickstart.html) under \"Anchors and Boundaries\". "
   ]
  },
  {
   "cell_type": "code",
   "execution_count": 24,
   "metadata": {},
   "outputs": [
    {
     "data": {
      "text/plain": [
       "LICTYPE                           LICTYPE                         \n",
       "Cosmetology Operator              Cosmetology Operator                67\n",
       "Apprentice Electrician            Apprentice Electrician              23\n",
       "Journeyman Electrician            Journeyman Electrician              16\n",
       "A/C Technician                    A/C Technician                      11\n",
       "Legal Service Contract Sales Rep  Legal Service Contract Sales Rep    11\n",
       "Cosmetology Esthetician           Cosmetology Esthetician              9\n",
       "Master Electrician                Master Electrician                   7\n",
       "Cosmetology Hair Braider          Cosmetology Hair Braider             7\n",
       "Cos Mini Salon                    Cos Mini Salon                       5\n",
       "Cosmetology Manicurist            Cosmetology Manicurist               4\n",
       "Name: LICTYPE, dtype: int64"
      ]
     },
     "execution_count": 24,
     "metadata": {},
     "output_type": "execute_result"
    }
   ],
   "source": [
    "df[df.last_name.str.endswith('KO')].groupby('LICTYPE').LICTYPE.value_counts().sort_values(ascending = False).head(10)\n"
   ]
  },
  {
   "cell_type": "markdown",
   "metadata": {},
   "source": [
    "## 20. Get that as a percentage"
   ]
  },
  {
   "cell_type": "code",
   "execution_count": 25,
   "metadata": {},
   "outputs": [
    {
     "data": {
      "text/plain": [
       "LICTYPE                           LICTYPE                         \n",
       "Cosmetology Operator              Cosmetology Operator                0.67\n",
       "Apprentice Electrician            Apprentice Electrician              0.23\n",
       "Journeyman Electrician            Journeyman Electrician              0.16\n",
       "A/C Technician                    A/C Technician                      0.11\n",
       "Legal Service Contract Sales Rep  Legal Service Contract Sales Rep    0.11\n",
       "Cosmetology Esthetician           Cosmetology Esthetician             0.09\n",
       "Master Electrician                Master Electrician                  0.07\n",
       "Cosmetology Hair Braider          Cosmetology Hair Braider            0.07\n",
       "Cos Mini Salon                    Cos Mini Salon                      0.05\n",
       "Cosmetology Manicurist            Cosmetology Manicurist              0.04\n",
       "Name: LICTYPE, dtype: float64"
      ]
     },
     "execution_count": 25,
     "metadata": {},
     "output_type": "execute_result"
    }
   ],
   "source": [
    "df[df.last_name.str.endswith('KO')].groupby('LICTYPE').LICTYPE.value_counts().sort_values(ascending = False).head(10)/100\n"
   ]
  },
  {
   "cell_type": "markdown",
   "metadata": {},
   "source": [
    "# PART FOUR: LOOKING AT FIRST NAMES"
   ]
  },
  {
   "cell_type": "markdown",
   "metadata": {},
   "source": [
    "## 21. Extract the owner's first name\n",
    "\n",
    "First, a little example of how regular expressions work with pandas."
   ]
  },
  {
   "cell_type": "code",
   "execution_count": 26,
   "metadata": {},
   "outputs": [
    {
     "data": {
      "text/html": [
       "<div>\n",
       "<style scoped>\n",
       "    .dataframe tbody tr th:only-of-type {\n",
       "        vertical-align: middle;\n",
       "    }\n",
       "\n",
       "    .dataframe tbody tr th {\n",
       "        vertical-align: top;\n",
       "    }\n",
       "\n",
       "    .dataframe thead th {\n",
       "        text-align: right;\n",
       "    }\n",
       "</style>\n",
       "<table border=\"1\" class=\"dataframe\">\n",
       "  <thead>\n",
       "    <tr style=\"text-align: right;\">\n",
       "      <th></th>\n",
       "      <th>name</th>\n",
       "      <th>sentence</th>\n",
       "    </tr>\n",
       "  </thead>\n",
       "  <tbody>\n",
       "    <tr>\n",
       "      <th>0</th>\n",
       "      <td>Mary</td>\n",
       "      <td>I am 90 years old</td>\n",
       "    </tr>\n",
       "    <tr>\n",
       "      <th>1</th>\n",
       "      <td>Jack</td>\n",
       "      <td>I am 4 years old</td>\n",
       "    </tr>\n",
       "    <tr>\n",
       "      <th>2</th>\n",
       "      <td>Anne</td>\n",
       "      <td>I am 27 years old</td>\n",
       "    </tr>\n",
       "    <tr>\n",
       "      <th>3</th>\n",
       "      <td>Joel</td>\n",
       "      <td>I am 13 years old</td>\n",
       "    </tr>\n",
       "  </tbody>\n",
       "</table>\n",
       "</div>"
      ],
      "text/plain": [
       "   name           sentence\n",
       "0  Mary  I am 90 years old\n",
       "1  Jack   I am 4 years old\n",
       "2  Anne  I am 27 years old\n",
       "3  Joel  I am 13 years old"
      ]
     },
     "execution_count": 26,
     "metadata": {},
     "output_type": "execute_result"
    }
   ],
   "source": [
    "# Build a dataframe\n",
    "sample_df = pd.DataFrame([\n",
    "    { 'name': 'Mary', 'sentence': \"I am 90 years old\" },\n",
    "    { 'name': 'Jack', 'sentence': \"I am 4 years old\" },\n",
    "    { 'name': 'Anne', 'sentence': \"I am 27 years old\" },\n",
    "    { 'name': 'Joel', 'sentence': \"I am 13 years old\" },\n",
    "])\n",
    "# Look at the dataframe\n",
    "sample_df"
   ]
  },
  {
   "cell_type": "code",
   "execution_count": 27,
   "metadata": {},
   "outputs": [
    {
     "data": {
      "text/plain": [
       "0    90\n",
       "1     4\n",
       "2    27\n",
       "3    13\n",
       "Name: sentence, dtype: object"
      ]
     },
     "execution_count": 27,
     "metadata": {},
     "output_type": "execute_result"
    }
   ],
   "source": [
    "# Given the sentence, \"I am X years old\", extract digits from the middle using ()\n",
    "# Anything you put in () will be saved as an output.\n",
    "# If you do expand=True it makes you a dataframe, but we don't want that.\n",
    "sample_df['sentence'].str.extract(\"I am (\\d+) years old\", expand=False)"
   ]
  },
  {
   "cell_type": "code",
   "execution_count": 28,
   "metadata": {},
   "outputs": [
    {
     "data": {
      "text/html": [
       "<div>\n",
       "<style scoped>\n",
       "    .dataframe tbody tr th:only-of-type {\n",
       "        vertical-align: middle;\n",
       "    }\n",
       "\n",
       "    .dataframe tbody tr th {\n",
       "        vertical-align: top;\n",
       "    }\n",
       "\n",
       "    .dataframe thead th {\n",
       "        text-align: right;\n",
       "    }\n",
       "</style>\n",
       "<table border=\"1\" class=\"dataframe\">\n",
       "  <thead>\n",
       "    <tr style=\"text-align: right;\">\n",
       "      <th></th>\n",
       "      <th>name</th>\n",
       "      <th>sentence</th>\n",
       "      <th>age</th>\n",
       "    </tr>\n",
       "  </thead>\n",
       "  <tbody>\n",
       "    <tr>\n",
       "      <th>0</th>\n",
       "      <td>Mary</td>\n",
       "      <td>I am 90 years old</td>\n",
       "      <td>90</td>\n",
       "    </tr>\n",
       "    <tr>\n",
       "      <th>1</th>\n",
       "      <td>Jack</td>\n",
       "      <td>I am 4 years old</td>\n",
       "      <td>4</td>\n",
       "    </tr>\n",
       "    <tr>\n",
       "      <th>2</th>\n",
       "      <td>Anne</td>\n",
       "      <td>I am 27 years old</td>\n",
       "      <td>27</td>\n",
       "    </tr>\n",
       "    <tr>\n",
       "      <th>3</th>\n",
       "      <td>Joel</td>\n",
       "      <td>I am 13 years old</td>\n",
       "      <td>13</td>\n",
       "    </tr>\n",
       "  </tbody>\n",
       "</table>\n",
       "</div>"
      ],
      "text/plain": [
       "   name           sentence age\n",
       "0  Mary  I am 90 years old  90\n",
       "1  Jack   I am 4 years old   4\n",
       "2  Anne  I am 27 years old  27\n",
       "3  Joel  I am 13 years old  13"
      ]
     },
     "execution_count": 28,
     "metadata": {},
     "output_type": "execute_result"
    }
   ],
   "source": [
    "# Save it into a new column\n",
    "sample_df['age'] = sample_df['sentence'].str.extract(\"I am (\\d+) years old\", expand=False)\n",
    "sample_df.head()"
   ]
  },
  {
   "cell_type": "markdown",
   "metadata": {},
   "source": [
    "**Now let's think about how we're going to extract the first names.** Begin by looking at a few full names."
   ]
  },
  {
   "cell_type": "code",
   "execution_count": 29,
   "metadata": {},
   "outputs": [
    {
     "data": {
      "text/plain": [
       "0        RISINGER, JIM MARVIN\n",
       "1         WILLIAMS, JON ANDRE\n",
       "2       GUEVARA, JUAN ANTONIO\n",
       "3    BOWERS, JAMES BRISCOE II\n",
       "4         DEMSKY, JOHN EDWARD\n",
       "5           THOMPSON, RANDY D\n",
       "6          TUCKER, MONTE EARL\n",
       "7        COOPER, THOMAS JAMES\n",
       "8     BLANKENSHIP, KERRY NEIL\n",
       "9      DAWES, NICHOLAS MORGAN\n",
       "Name: OWNER, dtype: object"
      ]
     },
     "execution_count": 29,
     "metadata": {},
     "output_type": "execute_result"
    }
   ],
   "source": [
    "df['OWNER'].head(10)"
   ]
  },
  {
   "cell_type": "markdown",
   "metadata": {},
   "source": [
    "What can you use to find the first name? It helps to say \"this is to the left and this is to the right, and I'm going to take anything in the middle.\"\n",
    "\n",
    "Once you figure out how to extract it, you can do a `.head(10)` to just look at the first few."
   ]
  },
  {
   "cell_type": "code",
   "execution_count": 30,
   "metadata": {},
   "outputs": [
    {
     "data": {
      "text/plain": [
       "0               JIM\n",
       "1               JON\n",
       "2              JUAN\n",
       "3             JAMES\n",
       "4              JOHN\n",
       "            ...    \n",
       "597811       JUSTIN\n",
       "597812      MATTHEW\n",
       "597813        DAVID\n",
       "597814    FRANCISCO\n",
       "597815        DAVID\n",
       "Name: OWNER, Length: 597816, dtype: object"
      ]
     },
     "execution_count": 30,
     "metadata": {},
     "output_type": "execute_result"
    }
   ],
   "source": [
    "df['OWNER'].str.extract('\\W\\s(\\w+)', expand =False)"
   ]
  },
  {
   "cell_type": "markdown",
   "metadata": {},
   "source": [
    "## 22. Saving the owner's first name\n",
    "\n",
    "Save the name to a new column, `FIRSTNAME`."
   ]
  },
  {
   "cell_type": "code",
   "execution_count": 31,
   "metadata": {},
   "outputs": [],
   "source": [
    "df['first_name'] = df['OWNER'].str.extract('\\W\\s(\\w+)', expand =False).fillna('none')"
   ]
  },
  {
   "cell_type": "markdown",
   "metadata": {},
   "source": [
    "# 23. Examine everyone without a first name\n",
    "\n",
    "I purposefully didn't do a nicer regex in order to have some screwed-up results. **How many people are there without an entry in the first name column?**\n",
    "\n",
    "Your numbers might be different than mine."
   ]
  },
  {
   "cell_type": "code",
   "execution_count": 32,
   "metadata": {},
   "outputs": [
    {
     "data": {
      "text/plain": [
       "False    597816\n",
       "Name: first_name, dtype: int64"
      ]
     },
     "execution_count": 32,
     "metadata": {},
     "output_type": "execute_result"
    }
   ],
   "source": [
    "df.first_name.isna().value_counts()"
   ]
  },
  {
   "cell_type": "markdown",
   "metadata": {},
   "source": [
    "What do their names look like?"
   ]
  },
  {
   "cell_type": "code",
   "execution_count": 33,
   "metadata": {},
   "outputs": [
    {
     "data": {
      "text/html": [
       "<div>\n",
       "<style scoped>\n",
       "    .dataframe tbody tr th:only-of-type {\n",
       "        vertical-align: middle;\n",
       "    }\n",
       "\n",
       "    .dataframe tbody tr th {\n",
       "        vertical-align: top;\n",
       "    }\n",
       "\n",
       "    .dataframe thead th {\n",
       "        text-align: right;\n",
       "    }\n",
       "</style>\n",
       "<table border=\"1\" class=\"dataframe\">\n",
       "  <thead>\n",
       "    <tr style=\"text-align: right;\">\n",
       "      <th></th>\n",
       "      <th>LICTYPE</th>\n",
       "      <th>LICNUMBER</th>\n",
       "      <th>BIZCOUNTY</th>\n",
       "      <th>BIZNAME</th>\n",
       "      <th>BIZLINE1</th>\n",
       "      <th>BIZLINE2</th>\n",
       "      <th>BIZCITYSTATE</th>\n",
       "      <th>BIZTELEPHONE</th>\n",
       "      <th>EXPIRATION</th>\n",
       "      <th>OWNER</th>\n",
       "      <th>...</th>\n",
       "      <th>MAILLINE2</th>\n",
       "      <th>MAILCITYSTATE</th>\n",
       "      <th>MAILCOUNTYCODE</th>\n",
       "      <th>MAILCOUNTY</th>\n",
       "      <th>MAILZIP</th>\n",
       "      <th>TELEPHONE</th>\n",
       "      <th>LICSUBTYPE</th>\n",
       "      <th>CEFLAG</th>\n",
       "      <th>last_name</th>\n",
       "      <th>first_name</th>\n",
       "    </tr>\n",
       "  </thead>\n",
       "  <tbody>\n",
       "  </tbody>\n",
       "</table>\n",
       "<p>0 rows × 21 columns</p>\n",
       "</div>"
      ],
      "text/plain": [
       "Empty DataFrame\n",
       "Columns: [LICTYPE, LICNUMBER, BIZCOUNTY, BIZNAME, BIZLINE1, BIZLINE2, BIZCITYSTATE, BIZTELEPHONE, EXPIRATION, OWNER, MAILLINE1, MAILLINE2, MAILCITYSTATE, MAILCOUNTYCODE, MAILCOUNTY, MAILZIP, TELEPHONE, LICSUBTYPE, CEFLAG, last_name, first_name]\n",
       "Index: []\n",
       "\n",
       "[0 rows x 21 columns]"
      ]
     },
     "execution_count": 33,
     "metadata": {},
     "output_type": "execute_result"
    }
   ],
   "source": [
    "df[df.first_name.isna()]"
   ]
  },
  {
   "cell_type": "markdown",
   "metadata": {},
   "source": [
    "## 24. If it's a problem, you can fix it (if you'd like!)\n",
    "\n",
    "Maybe you have another regular expression that works better with JUST these people? It really depends on how you've put together your previous regex!\n",
    "\n",
    "If you'd like to use a separate regex for this group, you can use code like this:\n",
    "\n",
    "`df.loc[df.FIRSTNAME.isnull(), 'FIRSTNAME'] = .....`\n",
    "\n",
    "That will only set the `FIRSTNAME` for people where `FIRSTNAME` is null."
   ]
  },
  {
   "cell_type": "code",
   "execution_count": null,
   "metadata": {},
   "outputs": [],
   "source": [
    "\n"
   ]
  },
  {
   "cell_type": "markdown",
   "metadata": {},
   "source": [
    "How many empty first names do we have now?"
   ]
  },
  {
   "cell_type": "code",
   "execution_count": null,
   "metadata": {},
   "outputs": [],
   "source": []
  },
  {
   "cell_type": "markdown",
   "metadata": {},
   "source": [
    "My code before only worked for people with middle names, but now it got people without middle names, too. Looking much better!"
   ]
  },
  {
   "cell_type": "markdown",
   "metadata": {},
   "source": [
    "## 25. Most popular first names?"
   ]
  },
  {
   "cell_type": "code",
   "execution_count": 34,
   "metadata": {},
   "outputs": [
    {
     "data": {
      "text/plain": [
       "none           69098\n",
       "JOSE            7759\n",
       "MICHAEL         5885\n",
       "DAVID           5376\n",
       "MARIA           5276\n",
       "JAMES           4944\n",
       "JUAN            4564\n",
       "ROBERT          4389\n",
       "JOHN            4368\n",
       "CHRISTOPHER     3138\n",
       "Name: first_name, dtype: int64"
      ]
     },
     "execution_count": 34,
     "metadata": {},
     "output_type": "execute_result"
    }
   ],
   "source": [
    "df.first_name.value_counts().head(10)"
   ]
  },
  {
   "cell_type": "markdown",
   "metadata": {},
   "source": [
    "## 26. Most popular first names for a Cosmetology Operator, Cosmetology Esthetician, Cosmetologist, and anything that seems similar?\n",
    "\n",
    "If you get an error about \"cannot index vector containing NA / NaN values\" remember `.fillna(False)` or `na=False` - if a row doesn't have a license, it doesn't give a `True`/`False`, so we force all of the empty rows to be `False`."
   ]
  },
  {
   "cell_type": "code",
   "execution_count": 35,
   "metadata": {},
   "outputs": [
    {
     "data": {
      "text/plain": [
       "first_name  first_name\n",
       "none        none          28954\n",
       "MARIA       MARIA          4767\n",
       "THUY        THUY           2151\n",
       "PHUONG      PHUONG         2022\n",
       "SPA         SPA            1982\n",
       "JENNIFER    JENNIFER       1899\n",
       "KIM         KIM            1830\n",
       "JESSICA     JESSICA        1631\n",
       "THANH       THANH          1503\n",
       "MARY        MARY           1385\n",
       "Name: first_name, dtype: int64"
      ]
     },
     "execution_count": 35,
     "metadata": {},
     "output_type": "execute_result"
    }
   ],
   "source": [
    "#df[df.last_name.str.endswith('KO')].groupby('LICTYPE').LICTYPE.value_counts().sort_values(ascending = False).head(10)\n",
    "\n",
    "df[df.LICTYPE.str.contains('Cosmet', na=False)].groupby('first_name').first_name.value_counts().sort_values(ascending = False).head(10)"
   ]
  },
  {
   "cell_type": "markdown",
   "metadata": {},
   "source": [
    "## 27. Most popular first names for anything involving electricity?"
   ]
  },
  {
   "cell_type": "code",
   "execution_count": 36,
   "metadata": {},
   "outputs": [
    {
     "data": {
      "text/plain": [
       "first_name   first_name \n",
       "none         none           9173\n",
       "JOSE         JOSE           5716\n",
       "MICHAEL      MICHAEL        3547\n",
       "JUAN         JUAN           3332\n",
       "DAVID        DAVID          3314\n",
       "JAMES        JAMES          2971\n",
       "JOHN         JOHN           2542\n",
       "ROBERT       ROBERT         2527\n",
       "DANIEL       DANIEL         2007\n",
       "CHRISTOPHER  CHRISTOPHER    1972\n",
       "Name: first_name, dtype: int64"
      ]
     },
     "execution_count": 36,
     "metadata": {},
     "output_type": "execute_result"
    }
   ],
   "source": [
    "df[df.LICTYPE.str.contains('Electric', na=False)].groupby('first_name').first_name.value_counts().sort_values(ascending = False).head(10)\n",
    "\n",
    "\n"
   ]
  },
  {
   "cell_type": "markdown",
   "metadata": {},
   "source": [
    "## 28. Can we be any more obnoxious in this assignment?\n",
    "\n",
    "A terrible thing that data analysts are often guilty of is using names to make assumptions about people. Beyond stereotypes involving last names, first names are often used to predict someone's race, ethnic background, or gender.\n",
    "\n",
    "And if that isn't bad enough: if we were looking for Python libraries to do this sort of analysis, we'd come across [sex machine](https://github.com/ferhatelmas/sexmachine/). Once upon a time there was Ruby package named sex machine and everyone was like \"come on are you six years old? is this how we do things?\" and the guy was like \"you're completely right I'm renaming it to [gender detector](https://github.com/bmuller/gender_detector)\" and the world was Nice and Good again.\n",
    "\n",
    "How'd it happen? [On Github, in a pull request!](https://github.com/bmuller/gender_detector/pull/14) Neat, right?\n",
    "\n",
    "But yeah: apparently Python didn't get the message.\n",
    "\n",
    "The sexmachine package doesn't work on Python 3 because it's from 300 BC, so we're going to use a Python 3 fork with the less problematic name [gender guesser](https://pypi.python.org/pypi/gender-guesser/).\n",
    "\n",
    "#### Use `pip` or `pip3` to install gender-guesser."
   ]
  },
  {
   "cell_type": "code",
   "execution_count": 37,
   "metadata": {},
   "outputs": [
    {
     "name": "stdout",
     "output_type": "stream",
     "text": [
      "Requirement already satisfied: gender-guesser in /Users/harrisonconnery/.pyenv/versions/3.8.2/lib/python3.8/site-packages (0.4.0)\n",
      "\u001b[33mWARNING: You are using pip version 19.2.3, however version 20.2.4 is available.\n",
      "You should consider upgrading via the 'pip install --upgrade pip' command.\u001b[0m\n"
     ]
    }
   ],
   "source": [
    "!pip install gender-guesser"
   ]
  },
  {
   "cell_type": "markdown",
   "metadata": {},
   "source": [
    "#### Run this code to test to see that it works"
   ]
  },
  {
   "cell_type": "code",
   "execution_count": 38,
   "metadata": {},
   "outputs": [
    {
     "data": {
      "text/plain": [
       "'male'"
      ]
     },
     "execution_count": 38,
     "metadata": {},
     "output_type": "execute_result"
    }
   ],
   "source": [
    "import gender_guesser.detector as gender\n",
    "\n",
    "detector = gender.Detector(case_sensitive=False)\n",
    "detector.get_gender('David')"
   ]
  },
  {
   "cell_type": "code",
   "execution_count": 39,
   "metadata": {},
   "outputs": [
    {
     "data": {
      "text/plain": [
       "'male'"
      ]
     },
     "execution_count": 39,
     "metadata": {},
     "output_type": "execute_result"
    }
   ],
   "source": [
    "detector.get_gender('Jose')"
   ]
  },
  {
   "cell_type": "code",
   "execution_count": 40,
   "metadata": {},
   "outputs": [
    {
     "data": {
      "text/plain": [
       "'female'"
      ]
     },
     "execution_count": 40,
     "metadata": {},
     "output_type": "execute_result"
    }
   ],
   "source": [
    "detector.get_gender('Maria')"
   ]
  },
  {
   "cell_type": "markdown",
   "metadata": {},
   "source": [
    "#### Use it on a dataframe\n",
    "\n",
    "To use something fancy like that on a dataframe, you use `.apply`. Check it out: "
   ]
  },
  {
   "cell_type": "code",
   "execution_count": 41,
   "metadata": {},
   "outputs": [
    {
     "data": {
      "text/plain": [
       "0         male\n",
       "1         male\n",
       "2         male\n",
       "3         male\n",
       "4         male\n",
       "          ... \n",
       "597811    male\n",
       "597812    male\n",
       "597813    male\n",
       "597814    male\n",
       "597815    male\n",
       "Name: first_name, Length: 597816, dtype: object"
      ]
     },
     "execution_count": 41,
     "metadata": {},
     "output_type": "execute_result"
    }
   ],
   "source": [
    "df['first_name'].fillna('').apply(lambda name: detector.get_gender(name))"
   ]
  },
  {
   "cell_type": "markdown",
   "metadata": {},
   "source": [
    "## 29. Calculate the gender of everyone's first name and save it to a column\n",
    "\n",
    "Confirm by see how many people of each gender we have"
   ]
  },
  {
   "cell_type": "code",
   "execution_count": 42,
   "metadata": {},
   "outputs": [],
   "source": [
    "df['gender'] = df['first_name'].fillna('').apply(lambda name: detector.get_gender(name))"
   ]
  },
  {
   "cell_type": "code",
   "execution_count": 43,
   "metadata": {},
   "outputs": [
    {
     "data": {
      "text/html": [
       "<div>\n",
       "<style scoped>\n",
       "    .dataframe tbody tr th:only-of-type {\n",
       "        vertical-align: middle;\n",
       "    }\n",
       "\n",
       "    .dataframe tbody tr th {\n",
       "        vertical-align: top;\n",
       "    }\n",
       "\n",
       "    .dataframe thead th {\n",
       "        text-align: right;\n",
       "    }\n",
       "</style>\n",
       "<table border=\"1\" class=\"dataframe\">\n",
       "  <thead>\n",
       "    <tr style=\"text-align: right;\">\n",
       "      <th></th>\n",
       "      <th>LICTYPE</th>\n",
       "      <th>LICNUMBER</th>\n",
       "      <th>BIZCOUNTY</th>\n",
       "      <th>BIZNAME</th>\n",
       "      <th>BIZLINE1</th>\n",
       "      <th>BIZLINE2</th>\n",
       "      <th>BIZCITYSTATE</th>\n",
       "      <th>BIZTELEPHONE</th>\n",
       "      <th>EXPIRATION</th>\n",
       "      <th>OWNER</th>\n",
       "      <th>...</th>\n",
       "      <th>MAILCITYSTATE</th>\n",
       "      <th>MAILCOUNTYCODE</th>\n",
       "      <th>MAILCOUNTY</th>\n",
       "      <th>MAILZIP</th>\n",
       "      <th>TELEPHONE</th>\n",
       "      <th>LICSUBTYPE</th>\n",
       "      <th>CEFLAG</th>\n",
       "      <th>last_name</th>\n",
       "      <th>first_name</th>\n",
       "      <th>gender</th>\n",
       "    </tr>\n",
       "  </thead>\n",
       "  <tbody>\n",
       "    <tr>\n",
       "      <th>0</th>\n",
       "      <td>Associate Auctioneer</td>\n",
       "      <td>7326</td>\n",
       "      <td>ANGELINA</td>\n",
       "      <td>RISINGER, JIM MARVIN</td>\n",
       "      <td>NaN</td>\n",
       "      <td>NaN</td>\n",
       "      <td>NaN</td>\n",
       "      <td>NaN</td>\n",
       "      <td>2017-08-10</td>\n",
       "      <td>RISINGER, JIM MARVIN</td>\n",
       "      <td>...</td>\n",
       "      <td>NACOGDOCHES TX 75964</td>\n",
       "      <td>0347</td>\n",
       "      <td>NACOGDOCHES</td>\n",
       "      <td>75964</td>\n",
       "      <td>9363665745</td>\n",
       "      <td>NaN</td>\n",
       "      <td>N</td>\n",
       "      <td>RISINGER</td>\n",
       "      <td>JIM</td>\n",
       "      <td>male</td>\n",
       "    </tr>\n",
       "    <tr>\n",
       "      <th>1</th>\n",
       "      <td>Associate Auctioneer</td>\n",
       "      <td>7962</td>\n",
       "      <td>UPSHUR</td>\n",
       "      <td>WILLIAMS, JON ANDRE</td>\n",
       "      <td>NaN</td>\n",
       "      <td>NaN</td>\n",
       "      <td>NaN</td>\n",
       "      <td>NaN</td>\n",
       "      <td>2017-12-29</td>\n",
       "      <td>WILLIAMS, JON ANDRE</td>\n",
       "      <td>...</td>\n",
       "      <td>KILGORE TX 75662</td>\n",
       "      <td>0183</td>\n",
       "      <td>GREGG</td>\n",
       "      <td>75662</td>\n",
       "      <td>9039187899</td>\n",
       "      <td>NaN</td>\n",
       "      <td>N</td>\n",
       "      <td>WILLIAMS</td>\n",
       "      <td>JON</td>\n",
       "      <td>male</td>\n",
       "    </tr>\n",
       "    <tr>\n",
       "      <th>2</th>\n",
       "      <td>Associate Auctioneer</td>\n",
       "      <td>8406</td>\n",
       "      <td>WILSON</td>\n",
       "      <td>GUEVARA, JUAN ANTONIO</td>\n",
       "      <td>NaN</td>\n",
       "      <td>NaN</td>\n",
       "      <td>NaN</td>\n",
       "      <td>NaN</td>\n",
       "      <td>2017-09-26</td>\n",
       "      <td>GUEVARA, JUAN ANTONIO</td>\n",
       "      <td>...</td>\n",
       "      <td>POTH TX 78147</td>\n",
       "      <td>0493</td>\n",
       "      <td>WILSON</td>\n",
       "      <td>78147</td>\n",
       "      <td>NaN</td>\n",
       "      <td>NaN</td>\n",
       "      <td>N</td>\n",
       "      <td>GUEVARA</td>\n",
       "      <td>JUAN</td>\n",
       "      <td>male</td>\n",
       "    </tr>\n",
       "    <tr>\n",
       "      <th>3</th>\n",
       "      <td>Associate Auctioneer</td>\n",
       "      <td>10543</td>\n",
       "      <td>HARRIS</td>\n",
       "      <td>BOWERS, JAMES BRISCOE II</td>\n",
       "      <td>NaN</td>\n",
       "      <td>NaN</td>\n",
       "      <td>NaN</td>\n",
       "      <td>NaN</td>\n",
       "      <td>2017-11-04</td>\n",
       "      <td>BOWERS, JAMES BRISCOE II</td>\n",
       "      <td>...</td>\n",
       "      <td>HOUSTON TX 77076-2027</td>\n",
       "      <td>0201</td>\n",
       "      <td>HARRIS</td>\n",
       "      <td>77076</td>\n",
       "      <td>7136445566</td>\n",
       "      <td>NaN</td>\n",
       "      <td>N</td>\n",
       "      <td>BOWERS</td>\n",
       "      <td>JAMES</td>\n",
       "      <td>male</td>\n",
       "    </tr>\n",
       "    <tr>\n",
       "      <th>4</th>\n",
       "      <td>Associate Auctioneer</td>\n",
       "      <td>10642</td>\n",
       "      <td>BELL</td>\n",
       "      <td>DEMSKY, JOHN EDWARD</td>\n",
       "      <td>NaN</td>\n",
       "      <td>NaN</td>\n",
       "      <td>NaN</td>\n",
       "      <td>NaN</td>\n",
       "      <td>2018-02-25</td>\n",
       "      <td>DEMSKY, JOHN EDWARD</td>\n",
       "      <td>...</td>\n",
       "      <td>BARTLETT TX 76511</td>\n",
       "      <td>0027</td>\n",
       "      <td>BELL</td>\n",
       "      <td>76511</td>\n",
       "      <td>2549852228</td>\n",
       "      <td>NaN</td>\n",
       "      <td>N</td>\n",
       "      <td>DEMSKY</td>\n",
       "      <td>JOHN</td>\n",
       "      <td>male</td>\n",
       "    </tr>\n",
       "    <tr>\n",
       "      <th>...</th>\n",
       "      <td>...</td>\n",
       "      <td>...</td>\n",
       "      <td>...</td>\n",
       "      <td>...</td>\n",
       "      <td>...</td>\n",
       "      <td>...</td>\n",
       "      <td>...</td>\n",
       "      <td>...</td>\n",
       "      <td>...</td>\n",
       "      <td>...</td>\n",
       "      <td>...</td>\n",
       "      <td>...</td>\n",
       "      <td>...</td>\n",
       "      <td>...</td>\n",
       "      <td>...</td>\n",
       "      <td>...</td>\n",
       "      <td>...</td>\n",
       "      <td>...</td>\n",
       "      <td>...</td>\n",
       "      <td>...</td>\n",
       "      <td>...</td>\n",
       "    </tr>\n",
       "    <tr>\n",
       "      <th>597811</th>\n",
       "      <td>Water Well Driller/Pump Installer</td>\n",
       "      <td>59930</td>\n",
       "      <td>TOM GREEN</td>\n",
       "      <td>ABEL, JUSTIN C</td>\n",
       "      <td>NaN</td>\n",
       "      <td>NaN</td>\n",
       "      <td>NaN</td>\n",
       "      <td>NaN</td>\n",
       "      <td>2018-01-23</td>\n",
       "      <td>ABEL, JUSTIN C</td>\n",
       "      <td>...</td>\n",
       "      <td>SAN ANGELO TX 76901-9716</td>\n",
       "      <td>0451</td>\n",
       "      <td>TOM GREEN</td>\n",
       "      <td>76901</td>\n",
       "      <td>3259496607</td>\n",
       "      <td>KP</td>\n",
       "      <td>N</td>\n",
       "      <td>ABEL</td>\n",
       "      <td>JUSTIN</td>\n",
       "      <td>male</td>\n",
       "    </tr>\n",
       "    <tr>\n",
       "      <th>597812</th>\n",
       "      <td>Water Well Driller/Pump Installer</td>\n",
       "      <td>59931</td>\n",
       "      <td>RUNNELS</td>\n",
       "      <td>GRAY, MATTHEW BRYAN</td>\n",
       "      <td>NaN</td>\n",
       "      <td>NaN</td>\n",
       "      <td>NaN</td>\n",
       "      <td>NaN</td>\n",
       "      <td>2018-01-23</td>\n",
       "      <td>GRAY, MATTHEW BRYAN</td>\n",
       "      <td>...</td>\n",
       "      <td>ROWENA TX 76875-2608</td>\n",
       "      <td>0399</td>\n",
       "      <td>RUNNELS</td>\n",
       "      <td>76875</td>\n",
       "      <td>3254422331</td>\n",
       "      <td>KLPW</td>\n",
       "      <td>N</td>\n",
       "      <td>GRAY</td>\n",
       "      <td>MATTHEW</td>\n",
       "      <td>male</td>\n",
       "    </tr>\n",
       "    <tr>\n",
       "      <th>597813</th>\n",
       "      <td>Water Well Driller/Pump Installer</td>\n",
       "      <td>59934</td>\n",
       "      <td>LAVACA</td>\n",
       "      <td>MAYER, DAVID W</td>\n",
       "      <td>NaN</td>\n",
       "      <td>NaN</td>\n",
       "      <td>NaN</td>\n",
       "      <td>NaN</td>\n",
       "      <td>2018-01-27</td>\n",
       "      <td>MAYER, DAVID W</td>\n",
       "      <td>...</td>\n",
       "      <td>YOAKUM TX 77995-6786</td>\n",
       "      <td>0285</td>\n",
       "      <td>LAVACA</td>\n",
       "      <td>77995</td>\n",
       "      <td>3612933168</td>\n",
       "      <td>P</td>\n",
       "      <td>N</td>\n",
       "      <td>MAYER</td>\n",
       "      <td>DAVID</td>\n",
       "      <td>male</td>\n",
       "    </tr>\n",
       "    <tr>\n",
       "      <th>597814</th>\n",
       "      <td>Water Well Driller/Pump Installer</td>\n",
       "      <td>59936</td>\n",
       "      <td>HOCKLEY</td>\n",
       "      <td>FRIESEN, FRANCISCO FEHR</td>\n",
       "      <td>NaN</td>\n",
       "      <td>NaN</td>\n",
       "      <td>NaN</td>\n",
       "      <td>NaN</td>\n",
       "      <td>2018-02-13</td>\n",
       "      <td>FRIESEN, FRANCISCO FEHR</td>\n",
       "      <td>...</td>\n",
       "      <td>LEVELLAND TX 79336-9124</td>\n",
       "      <td>0219</td>\n",
       "      <td>HOCKLEY</td>\n",
       "      <td>79336</td>\n",
       "      <td>8065980508</td>\n",
       "      <td>W</td>\n",
       "      <td>N</td>\n",
       "      <td>FRIESEN</td>\n",
       "      <td>FRANCISCO</td>\n",
       "      <td>male</td>\n",
       "    </tr>\n",
       "    <tr>\n",
       "      <th>597815</th>\n",
       "      <td>Water Well Driller/Pump Installer</td>\n",
       "      <td>59941</td>\n",
       "      <td>WILSON</td>\n",
       "      <td>BAUER, DAVID A</td>\n",
       "      <td>NaN</td>\n",
       "      <td>NaN</td>\n",
       "      <td>NaN</td>\n",
       "      <td>NaN</td>\n",
       "      <td>2018-02-16</td>\n",
       "      <td>BAUER, DAVID A</td>\n",
       "      <td>...</td>\n",
       "      <td>FLORESVILLE TX 78114-6076</td>\n",
       "      <td>0493</td>\n",
       "      <td>WILSON</td>\n",
       "      <td>78114</td>\n",
       "      <td>8303917338</td>\n",
       "      <td>W</td>\n",
       "      <td>N</td>\n",
       "      <td>BAUER</td>\n",
       "      <td>DAVID</td>\n",
       "      <td>male</td>\n",
       "    </tr>\n",
       "  </tbody>\n",
       "</table>\n",
       "<p>597816 rows × 22 columns</p>\n",
       "</div>"
      ],
      "text/plain": [
       "                                  LICTYPE LICNUMBER  BIZCOUNTY  \\\n",
       "0                    Associate Auctioneer      7326   ANGELINA   \n",
       "1                    Associate Auctioneer      7962     UPSHUR   \n",
       "2                    Associate Auctioneer      8406     WILSON   \n",
       "3                    Associate Auctioneer     10543     HARRIS   \n",
       "4                    Associate Auctioneer     10642       BELL   \n",
       "...                                   ...       ...        ...   \n",
       "597811  Water Well Driller/Pump Installer     59930  TOM GREEN   \n",
       "597812  Water Well Driller/Pump Installer     59931    RUNNELS   \n",
       "597813  Water Well Driller/Pump Installer     59934     LAVACA   \n",
       "597814  Water Well Driller/Pump Installer     59936    HOCKLEY   \n",
       "597815  Water Well Driller/Pump Installer     59941     WILSON   \n",
       "\n",
       "                         BIZNAME  BIZLINE1  BIZLINE2  BIZCITYSTATE  \\\n",
       "0           RISINGER, JIM MARVIN       NaN       NaN           NaN   \n",
       "1            WILLIAMS, JON ANDRE       NaN       NaN           NaN   \n",
       "2          GUEVARA, JUAN ANTONIO       NaN       NaN           NaN   \n",
       "3       BOWERS, JAMES BRISCOE II       NaN       NaN           NaN   \n",
       "4            DEMSKY, JOHN EDWARD       NaN       NaN           NaN   \n",
       "...                          ...       ...       ...           ...   \n",
       "597811            ABEL, JUSTIN C       NaN       NaN           NaN   \n",
       "597812       GRAY, MATTHEW BRYAN       NaN       NaN           NaN   \n",
       "597813            MAYER, DAVID W       NaN       NaN           NaN   \n",
       "597814   FRIESEN, FRANCISCO FEHR       NaN       NaN           NaN   \n",
       "597815            BAUER, DAVID A       NaN       NaN           NaN   \n",
       "\n",
       "        BIZTELEPHONE EXPIRATION                     OWNER  ...  \\\n",
       "0                NaN 2017-08-10      RISINGER, JIM MARVIN  ...   \n",
       "1                NaN 2017-12-29       WILLIAMS, JON ANDRE  ...   \n",
       "2                NaN 2017-09-26     GUEVARA, JUAN ANTONIO  ...   \n",
       "3                NaN 2017-11-04  BOWERS, JAMES BRISCOE II  ...   \n",
       "4                NaN 2018-02-25       DEMSKY, JOHN EDWARD  ...   \n",
       "...              ...        ...                       ...  ...   \n",
       "597811           NaN 2018-01-23            ABEL, JUSTIN C  ...   \n",
       "597812           NaN 2018-01-23       GRAY, MATTHEW BRYAN  ...   \n",
       "597813           NaN 2018-01-27            MAYER, DAVID W  ...   \n",
       "597814           NaN 2018-02-13   FRIESEN, FRANCISCO FEHR  ...   \n",
       "597815           NaN 2018-02-16            BAUER, DAVID A  ...   \n",
       "\n",
       "                    MAILCITYSTATE MAILCOUNTYCODE   MAILCOUNTY MAILZIP  \\\n",
       "0            NACOGDOCHES TX 75964           0347  NACOGDOCHES   75964   \n",
       "1                KILGORE TX 75662           0183        GREGG   75662   \n",
       "2                   POTH TX 78147           0493       WILSON   78147   \n",
       "3           HOUSTON TX 77076-2027           0201       HARRIS   77076   \n",
       "4               BARTLETT TX 76511           0027         BELL   76511   \n",
       "...                           ...            ...          ...     ...   \n",
       "597811   SAN ANGELO TX 76901-9716           0451    TOM GREEN   76901   \n",
       "597812       ROWENA TX 76875-2608           0399      RUNNELS   76875   \n",
       "597813       YOAKUM TX 77995-6786           0285       LAVACA   77995   \n",
       "597814    LEVELLAND TX 79336-9124           0219      HOCKLEY   79336   \n",
       "597815  FLORESVILLE TX 78114-6076           0493       WILSON   78114   \n",
       "\n",
       "         TELEPHONE LICSUBTYPE CEFLAG last_name first_name gender  \n",
       "0       9363665745        NaN      N  RISINGER        JIM   male  \n",
       "1       9039187899        NaN      N  WILLIAMS        JON   male  \n",
       "2              NaN        NaN      N   GUEVARA       JUAN   male  \n",
       "3       7136445566        NaN      N    BOWERS      JAMES   male  \n",
       "4       2549852228        NaN      N    DEMSKY       JOHN   male  \n",
       "...            ...        ...    ...       ...        ...    ...  \n",
       "597811  3259496607         KP      N      ABEL     JUSTIN   male  \n",
       "597812  3254422331       KLPW      N      GRAY    MATTHEW   male  \n",
       "597813  3612933168          P      N     MAYER      DAVID   male  \n",
       "597814  8065980508          W      N   FRIESEN  FRANCISCO   male  \n",
       "597815  8303917338          W      N     BAUER      DAVID   male  \n",
       "\n",
       "[597816 rows x 22 columns]"
      ]
     },
     "execution_count": 43,
     "metadata": {},
     "output_type": "execute_result"
    }
   ],
   "source": [
    "df"
   ]
  },
  {
   "cell_type": "markdown",
   "metadata": {},
   "source": [
    "## 30. We like our data to be in tidy binary categories\n",
    "\n",
    "* Combine the `mostly_female` into `female` \n",
    "* Combine the `mostly_male` into `male`\n",
    "* Replace `andy` (androgynous) and `unknown` with `NaN`\n",
    "\n",
    "you can get NaN not by making a string, but with `import numpy as np` and then using `np.nan`."
   ]
  },
  {
   "cell_type": "code",
   "execution_count": 44,
   "metadata": {},
   "outputs": [],
   "source": [
    "import numpy as np\n",
    "\n"
   ]
  },
  {
   "cell_type": "code",
   "execution_count": 45,
   "metadata": {},
   "outputs": [
    {
     "data": {
      "text/plain": [
       "male             229520\n",
       "female           148295\n",
       "unknown          129734\n",
       "mostly_female     42386\n",
       "mostly_male       26838\n",
       "andy              21043\n",
       "Name: gender, dtype: int64"
      ]
     },
     "execution_count": 45,
     "metadata": {},
     "output_type": "execute_result"
    }
   ],
   "source": [
    "df['gender'].value_counts()"
   ]
  },
  {
   "cell_type": "code",
   "execution_count": 46,
   "metadata": {},
   "outputs": [],
   "source": [
    "df['gender'] = df.gender.replace({'mostly_male':'male',\n",
    "                         'mostly_female':'female',\n",
    "                        'unknown' : 'NaN',\n",
    "                         'andy':'NaN'})\n"
   ]
  },
  {
   "cell_type": "code",
   "execution_count": 47,
   "metadata": {},
   "outputs": [
    {
     "data": {
      "text/plain": [
       "male      256358\n",
       "female    190681\n",
       "NaN       150777\n",
       "Name: gender, dtype: int64"
      ]
     },
     "execution_count": 47,
     "metadata": {},
     "output_type": "execute_result"
    }
   ],
   "source": [
    "df.gender.value_counts()"
   ]
  },
  {
   "cell_type": "markdown",
   "metadata": {},
   "source": [
    "## 31. Do men or women have more licenses? What is the percentage of unknown genders?"
   ]
  },
  {
   "cell_type": "code",
   "execution_count": 48,
   "metadata": {},
   "outputs": [
    {
     "data": {
      "text/plain": [
       "male      42.882425\n",
       "female    31.896269\n",
       "NaN       25.221306\n",
       "Name: gender, dtype: float64"
      ]
     },
     "execution_count": 48,
     "metadata": {},
     "output_type": "execute_result"
    }
   ],
   "source": [
    "df.gender.value_counts(normalize = True)*100"
   ]
  },
  {
   "cell_type": "code",
   "execution_count": null,
   "metadata": {},
   "outputs": [],
   "source": []
  },
  {
   "cell_type": "markdown",
   "metadata": {},
   "source": [
    "## 32. What are the popular unknown- or ambiguous gender first names?\n",
    "\n",
    "Yours might be different! Mine is a combination of actual ambiguity, cultural bias and dirty data."
   ]
  },
  {
   "cell_type": "code",
   "execution_count": 49,
   "metadata": {},
   "outputs": [
    {
     "data": {
      "text/plain": [
       "none       69098\n",
       "SPA         2124\n",
       "THANH       1552\n",
       "HEATING     1544\n",
       "AIR         1184\n",
       "TRANG       1143\n",
       "HONG        1027\n",
       "DUNG         988\n",
       "INC          919\n",
       "LINH         907\n",
       "Name: first_name, dtype: int64"
      ]
     },
     "execution_count": 49,
     "metadata": {},
     "output_type": "execute_result"
    }
   ],
   "source": [
    "df[df['gender'] == 'NaN'].first_name.value_counts().head(10)\n"
   ]
  },
  {
   "cell_type": "markdown",
   "metadata": {},
   "source": [
    "## 33. Manually check a few, too \n",
    "\n",
    "Using [a list of \"gender-neutral baby names\"](https://www.popsugar.com/family/Gender-Neutral-Baby-Names-34485564), pick a few names and check what results the library gives you."
   ]
  },
  {
   "cell_type": "code",
   "execution_count": 50,
   "metadata": {},
   "outputs": [
    {
     "data": {
      "text/plain": [
       "male    444\n",
       "Name: gender, dtype: int64"
      ]
     },
     "execution_count": 50,
     "metadata": {},
     "output_type": "execute_result"
    }
   ],
   "source": [
    "df[df['first_name'] == 'ALEX'].gender.value_counts().head(10)\n"
   ]
  },
  {
   "cell_type": "code",
   "execution_count": 51,
   "metadata": {},
   "outputs": [
    {
     "data": {
      "text/plain": [
       "male    201\n",
       "Name: gender, dtype: int64"
      ]
     },
     "execution_count": 51,
     "metadata": {},
     "output_type": "execute_result"
    }
   ],
   "source": [
    "df[df['first_name'] == 'CAMERON'].gender.value_counts().head(10)\n"
   ]
  },
  {
   "cell_type": "code",
   "execution_count": 52,
   "metadata": {},
   "outputs": [
    {
     "data": {
      "text/plain": [
       "female    197\n",
       "Name: gender, dtype: int64"
      ]
     },
     "execution_count": 52,
     "metadata": {},
     "output_type": "execute_result"
    }
   ],
   "source": [
    "df[df['first_name'] == 'CAM'].gender.value_counts().head(10)\n"
   ]
  },
  {
   "cell_type": "markdown",
   "metadata": {},
   "source": [
    "## 34. What are the most popular licenses for men? For women?"
   ]
  },
  {
   "cell_type": "code",
   "execution_count": 53,
   "metadata": {},
   "outputs": [
    {
     "data": {
      "text/plain": [
       "Apprentice Electrician                      95645\n",
       "Journeyman Electrician                      35508\n",
       "A/C Technician                              24713\n",
       "Master Electrician                          15769\n",
       "Cosmetology Operator                        13585\n",
       "Cosmetology Manicurist                      10697\n",
       "Barber, Class A                              9772\n",
       "Tow Truck Operator (Incident Management)     6849\n",
       "Tow Truck Operator (Consent Tow)             5780\n",
       "Legal Service Contract Sales Rep             5662\n",
       "Name: LICTYPE, dtype: int64"
      ]
     },
     "execution_count": 53,
     "metadata": {},
     "output_type": "execute_result"
    }
   ],
   "source": [
    "df[df['gender'] == 'male'].LICTYPE.value_counts().head(10)\n"
   ]
  },
  {
   "cell_type": "code",
   "execution_count": 54,
   "metadata": {},
   "outputs": [
    {
     "data": {
      "text/plain": [
       "Cosmetology Operator                114807\n",
       "Cosmetology Manicurist               24750\n",
       "Cosmetology Esthetician              17118\n",
       "Apprentice Electrician                4790\n",
       "Cosmetologist                         4601\n",
       "Legal Service Contract Sales Rep      4440\n",
       "Cosmetology Operator Instructor       4402\n",
       "Barber, Class A                       4098\n",
       "VSF Employee                          1761\n",
       "Property Tax Appraiser                1177\n",
       "Name: LICTYPE, dtype: int64"
      ]
     },
     "execution_count": 54,
     "metadata": {},
     "output_type": "execute_result"
    }
   ],
   "source": [
    "df[df['gender'] == 'female'].LICTYPE.value_counts().head(10)"
   ]
  },
  {
   "cell_type": "markdown",
   "metadata": {},
   "source": [
    "## 35. What is the gender breakdown for Property Tax Appraiser? How about anything involving Tow Trucks?\n",
    "\n",
    "If you're in need, remember your good friend `.fillna(False)` to get rid of NaN values, or `.na=False` with `.str.contains`."
   ]
  },
  {
   "cell_type": "code",
   "execution_count": 55,
   "metadata": {},
   "outputs": [
    {
     "data": {
      "text/plain": [
       "male      1458\n",
       "female    1177\n",
       "NaN        211\n",
       "Name: gender, dtype: int64"
      ]
     },
     "execution_count": 55,
     "metadata": {},
     "output_type": "execute_result"
    }
   ],
   "source": [
    "df[df['LICTYPE'] == 'Property Tax Appraiser'].gender.value_counts()"
   ]
  },
  {
   "cell_type": "code",
   "execution_count": 56,
   "metadata": {},
   "outputs": [
    {
     "data": {
      "text/plain": [
       "male      12979\n",
       "NaN        1292\n",
       "female      641\n",
       "Name: gender, dtype: int64"
      ]
     },
     "execution_count": 56,
     "metadata": {},
     "output_type": "execute_result"
    }
   ],
   "source": [
    "df.LICTYPE=df.LICTYPE.fillna('none')\n",
    "\n",
    "df.gender[df.LICTYPE.str.contains('Tow Truck')].value_counts()"
   ]
  },
  {
   "cell_type": "markdown",
   "metadata": {},
   "source": [
    "(By the way, what are those tow truck jobs?)"
   ]
  },
  {
   "cell_type": "code",
   "execution_count": null,
   "metadata": {},
   "outputs": [],
   "source": []
  },
  {
   "cell_type": "markdown",
   "metadata": {},
   "source": [
    "## 33. Graph them!\n",
    "\n",
    "And let's **give them titles** so we know which is which."
   ]
  },
  {
   "cell_type": "code",
   "execution_count": 57,
   "metadata": {},
   "outputs": [
    {
     "data": {
      "text/plain": [
       "<AxesSubplot:>"
      ]
     },
     "execution_count": 57,
     "metadata": {},
     "output_type": "execute_result"
    },
    {
     "data": {
      "image/png": "[encoded data removed]",
      "text/plain": [
       "<Figure size 432x288 with 1 Axes>"
      ]
     },
     "metadata": {
      "needs_background": "light"
     },
     "output_type": "display_data"
    }
   ],
   "source": [
    "df.gender[df.LICTYPE.str.contains('Tow Truck')].value_counts(ascending = True).plot(kind = 'barh')"
   ]
  },
  {
   "cell_type": "code",
   "execution_count": null,
   "metadata": {},
   "outputs": [],
   "source": []
  },
  {
   "cell_type": "markdown",
   "metadata": {},
   "source": [
    "## 34. Calcuate the supposed gender bias for profession\n",
    "\n",
    "I spent like an hour on this and then realized a super easy way to do it. Welcome to programming! I'll do this part for you."
   ]
  },
  {
   "cell_type": "code",
   "execution_count": 60,
   "metadata": {},
   "outputs": [
    {
     "data": {
      "text/plain": [
       "Apprentice Electrician    95645\n",
       "Journeyman Electrician    35508\n",
       "A/C Technician            24713\n",
       "Master Electrician        15769\n",
       "Cosmetology Operator      13585\n",
       "Name: LICTYPE, dtype: int64"
      ]
     },
     "execution_count": 60,
     "metadata": {},
     "output_type": "execute_result"
    }
   ],
   "source": [
    "# So when you do .value_counts(), it gives you an index and a value\n",
    "df[df['gender'] == 'male'].LICTYPE.value_counts().head()"
   ]
  },
  {
   "cell_type": "markdown",
   "metadata": {},
   "source": [
    "We did `pd.concat` to combine dataframes, but you can also use it to combine series (like the results of `value_counts()`). If you give it a few `value_counts()` and give it some column names it'll make something real nice."
   ]
  },
  {
   "cell_type": "code",
   "execution_count": 61,
   "metadata": {},
   "outputs": [
    {
     "data": {
      "text/html": [
       "<div>\n",
       "<style scoped>\n",
       "    .dataframe tbody tr th:only-of-type {\n",
       "        vertical-align: middle;\n",
       "    }\n",
       "\n",
       "    .dataframe tbody tr th {\n",
       "        vertical-align: top;\n",
       "    }\n",
       "\n",
       "    .dataframe thead th {\n",
       "        text-align: right;\n",
       "    }\n",
       "</style>\n",
       "<table border=\"1\" class=\"dataframe\">\n",
       "  <thead>\n",
       "    <tr style=\"text-align: right;\">\n",
       "      <th></th>\n",
       "      <th>LICTYPE</th>\n",
       "      <th>LICTYPE</th>\n",
       "      <th>LICTYPE</th>\n",
       "    </tr>\n",
       "  </thead>\n",
       "  <tbody>\n",
       "    <tr>\n",
       "      <th>Apprentice Electrician</th>\n",
       "      <td>95645.0</td>\n",
       "      <td>4790.0</td>\n",
       "      <td>NaN</td>\n",
       "    </tr>\n",
       "    <tr>\n",
       "      <th>Journeyman Electrician</th>\n",
       "      <td>35508.0</td>\n",
       "      <td>1025.0</td>\n",
       "      <td>NaN</td>\n",
       "    </tr>\n",
       "    <tr>\n",
       "      <th>A/C Technician</th>\n",
       "      <td>24713.0</td>\n",
       "      <td>877.0</td>\n",
       "      <td>NaN</td>\n",
       "    </tr>\n",
       "    <tr>\n",
       "      <th>Master Electrician</th>\n",
       "      <td>15769.0</td>\n",
       "      <td>393.0</td>\n",
       "      <td>NaN</td>\n",
       "    </tr>\n",
       "    <tr>\n",
       "      <th>Cosmetology Operator</th>\n",
       "      <td>13585.0</td>\n",
       "      <td>114807.0</td>\n",
       "      <td>NaN</td>\n",
       "    </tr>\n",
       "  </tbody>\n",
       "</table>\n",
       "</div>"
      ],
      "text/plain": [
       "                        LICTYPE   LICTYPE  LICTYPE\n",
       "Apprentice Electrician  95645.0    4790.0      NaN\n",
       "Journeyman Electrician  35508.0    1025.0      NaN\n",
       "A/C Technician          24713.0     877.0      NaN\n",
       "Master Electrician      15769.0     393.0      NaN\n",
       "Cosmetology Operator    13585.0  114807.0      NaN"
      ]
     },
     "execution_count": 61,
     "metadata": {},
     "output_type": "execute_result"
    }
   ],
   "source": [
    "# All of the values_counts() we will be combining\n",
    "vc_series = [\n",
    "    df[df['gender'] == 'male'].LICTYPE.value_counts(),\n",
    "    df[df['gender'] == 'female'].LICTYPE.value_counts(),\n",
    "    df[df['gender'].isnull()].LICTYPE.value_counts()\n",
    "]\n",
    "# You need axis=1 so it combines them as columns\n",
    "gender_df = pd.concat(vc_series, axis=1)\n",
    "gender_df.head()"
   ]
  },
  {
   "cell_type": "code",
   "execution_count": 62,
   "metadata": {},
   "outputs": [
    {
     "data": {
      "text/html": [
       "<div>\n",
       "<style scoped>\n",
       "    .dataframe tbody tr th:only-of-type {\n",
       "        vertical-align: middle;\n",
       "    }\n",
       "\n",
       "    .dataframe tbody tr th {\n",
       "        vertical-align: top;\n",
       "    }\n",
       "\n",
       "    .dataframe thead th {\n",
       "        text-align: right;\n",
       "    }\n",
       "</style>\n",
       "<table border=\"1\" class=\"dataframe\">\n",
       "  <thead>\n",
       "    <tr style=\"text-align: right;\">\n",
       "      <th></th>\n",
       "      <th>index</th>\n",
       "      <th>LICTYPE</th>\n",
       "      <th>LICTYPE</th>\n",
       "      <th>LICTYPE</th>\n",
       "    </tr>\n",
       "  </thead>\n",
       "  <tbody>\n",
       "    <tr>\n",
       "      <th>0</th>\n",
       "      <td>Apprentice Electrician</td>\n",
       "      <td>95645.0</td>\n",
       "      <td>4790.0</td>\n",
       "      <td>NaN</td>\n",
       "    </tr>\n",
       "    <tr>\n",
       "      <th>1</th>\n",
       "      <td>Journeyman Electrician</td>\n",
       "      <td>35508.0</td>\n",
       "      <td>1025.0</td>\n",
       "      <td>NaN</td>\n",
       "    </tr>\n",
       "    <tr>\n",
       "      <th>2</th>\n",
       "      <td>A/C Technician</td>\n",
       "      <td>24713.0</td>\n",
       "      <td>877.0</td>\n",
       "      <td>NaN</td>\n",
       "    </tr>\n",
       "    <tr>\n",
       "      <th>3</th>\n",
       "      <td>Master Electrician</td>\n",
       "      <td>15769.0</td>\n",
       "      <td>393.0</td>\n",
       "      <td>NaN</td>\n",
       "    </tr>\n",
       "    <tr>\n",
       "      <th>4</th>\n",
       "      <td>Cosmetology Operator</td>\n",
       "      <td>13585.0</td>\n",
       "      <td>114807.0</td>\n",
       "      <td>NaN</td>\n",
       "    </tr>\n",
       "  </tbody>\n",
       "</table>\n",
       "</div>"
      ],
      "text/plain": [
       "                    index  LICTYPE   LICTYPE  LICTYPE\n",
       "0  Apprentice Electrician  95645.0    4790.0      NaN\n",
       "1  Journeyman Electrician  35508.0    1025.0      NaN\n",
       "2          A/C Technician  24713.0     877.0      NaN\n",
       "3      Master Electrician  15769.0     393.0      NaN\n",
       "4    Cosmetology Operator  13585.0  114807.0      NaN"
      ]
     },
     "execution_count": 62,
     "metadata": {},
     "output_type": "execute_result"
    }
   ],
   "source": [
    "# Turn \"A/C Contractor\" etc into an actual column instead of an index\n",
    "gender_df.reset_index(inplace=True)\n",
    "gender_df.head()"
   ]
  },
  {
   "cell_type": "code",
   "execution_count": null,
   "metadata": {},
   "outputs": [],
   "source": [
    "# Rename the columns appropriately\n",
    "gender_df.columns = [\"license\", \"male\", \"female\", \"unknown\"]\n",
    "# Clean up the NaN by replacing them with zeroes\n",
    "gender_df.fillna(0, inplace=True)\n",
    "gender_df.head()"
   ]
  },
  {
   "cell_type": "markdown",
   "metadata": {},
   "source": [
    "## 35. Add new columns for total licenses, percent known (not percent unknown!), percent male (of known), percent female (of known)\n",
    "\n",
    "And replace any `NaN`s with `0`."
   ]
  },
  {
   "cell_type": "code",
   "execution_count": null,
   "metadata": {},
   "outputs": [],
   "source": []
  },
  {
   "cell_type": "markdown",
   "metadata": {},
   "source": [
    "## 35. What 10 licenses with more than 2,000 people and over 75% \"known\" gender has the most male owners? The most female?"
   ]
  },
  {
   "cell_type": "code",
   "execution_count": null,
   "metadata": {},
   "outputs": [],
   "source": []
  },
  {
   "cell_type": "code",
   "execution_count": null,
   "metadata": {},
   "outputs": [],
   "source": []
  },
  {
   "cell_type": "markdown",
   "metadata": {},
   "source": [
    "## 36. Let's say you have to call a few people about being in a profession dominated by the other gender. What are their phone numbers?\n",
    "\n",
    "This will involve doing some research in one dataframe, then the other one. I didn't put an answer here because I'm interested in what you come up with!"
   ]
  },
  {
   "cell_type": "code",
   "execution_count": null,
   "metadata": {},
   "outputs": [],
   "source": []
  },
  {
   "cell_type": "markdown",
   "metadata": {},
   "source": [
    "## Okay, let's take a break for a second.\n",
    "\n",
    "We've been diving pretty deep into this gender stuff after an initial \"oh but it's not great\" kind of thing.\n",
    "\n",
    "**What issues might come up with our analysis?** Some might be about ethics or discrimination, while some might be about our analysis being misleading or wrong. Go back and take a critical look at what we've done since we started working on gender, and summarize your thoughts below."
   ]
  },
  {
   "cell_type": "code",
   "execution_count": null,
   "metadata": {},
   "outputs": [],
   "source": []
  },
  {
   "cell_type": "markdown",
   "metadata": {},
   "source": [
    "If you found problems with our analysis, **how could we make improvements?**"
   ]
  },
  {
   "cell_type": "code",
   "execution_count": null,
   "metadata": {},
   "outputs": [],
   "source": []
  },
  {
   "cell_type": "code",
   "execution_count": null,
   "metadata": {},
   "outputs": [],
   "source": []
  },
  {
   "cell_type": "markdown",
   "metadata": {},
   "source": [
    "## PART FIVE: Violations\n",
    "\n",
    "### 37. Read in **violations.csv** as `violations_df`, make sure it looks right"
   ]
  },
  {
   "cell_type": "code",
   "execution_count": null,
   "metadata": {},
   "outputs": [],
   "source": []
  },
  {
   "cell_type": "markdown",
   "metadata": {},
   "source": [
    "### 38. Combine with your original licenses dataset dataframe to get phone numbers and addresses for each violation. Check that it is 90 rows, 28 columns."
   ]
  },
  {
   "cell_type": "code",
   "execution_count": null,
   "metadata": {},
   "outputs": [],
   "source": []
  },
  {
   "cell_type": "code",
   "execution_count": null,
   "metadata": {},
   "outputs": [],
   "source": []
  },
  {
   "cell_type": "markdown",
   "metadata": {},
   "source": [
    "## 39. Find each violation involving a failure with records. Use a regular expression."
   ]
  },
  {
   "cell_type": "code",
   "execution_count": null,
   "metadata": {},
   "outputs": [],
   "source": []
  },
  {
   "cell_type": "markdown",
   "metadata": {},
   "source": [
    "## 40. How much money was each fine? Use a regular expression and .str.extract\n",
    "\n",
    "Unfortunately large and helpful troubleshooting tip: `$` means \"end of a line\" in regex, so `.extract` isn't going to accept it as a dollar sign. You need to escape it by using `\\$` instead."
   ]
  },
  {
   "cell_type": "code",
   "execution_count": null,
   "metadata": {},
   "outputs": [],
   "source": []
  },
  {
   "cell_type": "markdown",
   "metadata": {},
   "source": [
    "## 41. Clean those results (no commas, no dollar signs, and it should be an integer) and save it to a new column called `fine`\n",
    "\n",
    "`.replace` is for *entire cells*, you're interested in `.str.replace`, which treats each value like a string, not like a... pandas thing.\n",
    "\n",
    "`.astype(int)` will convert it into an integer for you."
   ]
  },
  {
   "cell_type": "code",
   "execution_count": null,
   "metadata": {},
   "outputs": [],
   "source": []
  },
  {
   "cell_type": "markdown",
   "metadata": {},
   "source": [
    "## 42. Which orders results in the top fines?"
   ]
  },
  {
   "cell_type": "code",
   "execution_count": null,
   "metadata": {},
   "outputs": [],
   "source": []
  },
  {
   "cell_type": "markdown",
   "metadata": {},
   "source": [
    "## 43. Are you still here???\n",
    "\n",
    "I'm sure impressed."
   ]
  },
  {
   "cell_type": "code",
   "execution_count": null,
   "metadata": {},
   "outputs": [],
   "source": []
  }
 ],
 "metadata": {
  "kernelspec": {
   "display_name": "Python 3",
   "language": "python",
   "name": "python3"
  },
  "language_info": {
   "codemirror_mode": {
    "name": "ipython",
    "version": 3
   },
   "file_extension": ".py",
   "mimetype": "text/x-python",
   "name": "python",
   "nbconvert_exporter": "python",
   "pygments_lexer": "ipython3",
   "version": "3.8.2"
  }
 },
 "nbformat": 4,
 "nbformat_minor": 2
}
