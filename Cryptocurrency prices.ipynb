{
 "cells": [
  {
   "cell_type": "markdown",
   "metadata": {},
   "source": [
    "# Cryptocurrency prices\n",
    "\n",
    "* **Filename:**  `cryptocurrencies.csv`\n",
    "* **Description:** Cryptocurrency prices for a handful of coins over time.\n",
    "* **Source:** https://coinmarketcap.com/all/views/all/ but from a million years ago (I cut and pasted, honestly)\n",
    "\n",
    "### Make a chart of bitcoin's high, on a weekly basis\n",
    "\n",
    "You might want to do the cherry blossoms homework first, or at least read the part about `format=` and `pd.to_datetime`.\n",
    "\n",
    "*Yes, that's the entire assignment. It isn't an exciting dataset, but it's just dirty enough to make charting this a useful experience.*"
   ]
  },
  {
   "cell_type": "code",
   "execution_count": 1,
   "metadata": {},
   "outputs": [],
   "source": [
    "import pandas as pd \n",
    "\n",
    "df = pd.read_csv('cryptocurrencies.csv')"
   ]
  },
  {
   "cell_type": "code",
   "execution_count": 2,
   "metadata": {},
   "outputs": [
    {
     "data": {
      "text/html": [
       "<div>\n",
       "<style scoped>\n",
       "    .dataframe tbody tr th:only-of-type {\n",
       "        vertical-align: middle;\n",
       "    }\n",
       "\n",
       "    .dataframe tbody tr th {\n",
       "        vertical-align: top;\n",
       "    }\n",
       "\n",
       "    .dataframe thead th {\n",
       "        text-align: right;\n",
       "    }\n",
       "</style>\n",
       "<table border=\"1\" class=\"dataframe\">\n",
       "  <thead>\n",
       "    <tr style=\"text-align: right;\">\n",
       "      <th></th>\n",
       "      <th>date</th>\n",
       "      <th>open</th>\n",
       "      <th>high</th>\n",
       "      <th>low</th>\n",
       "      <th>close</th>\n",
       "      <th>volume</th>\n",
       "      <th>market_cap</th>\n",
       "      <th>coin</th>\n",
       "    </tr>\n",
       "  </thead>\n",
       "  <tbody>\n",
       "    <tr>\n",
       "      <th>0</th>\n",
       "      <td>12-Feb-18</td>\n",
       "      <td>8,141.43</td>\n",
       "      <td>8,985.92</td>\n",
       "      <td>8,141.43</td>\n",
       "      <td>8,926.57</td>\n",
       "      <td>6,256,440,000</td>\n",
       "      <td>137,258,000,000</td>\n",
       "      <td>BTC</td>\n",
       "    </tr>\n",
       "    <tr>\n",
       "      <th>1</th>\n",
       "      <td>11-Feb-18</td>\n",
       "      <td>8,616.13</td>\n",
       "      <td>8,616.13</td>\n",
       "      <td>7,931.10</td>\n",
       "      <td>8,129.97</td>\n",
       "      <td>6,122,190,000</td>\n",
       "      <td>145,245,000,000</td>\n",
       "      <td>BTC</td>\n",
       "    </tr>\n",
       "    <tr>\n",
       "      <th>2</th>\n",
       "      <td>10-Feb-18</td>\n",
       "      <td>8,720.08</td>\n",
       "      <td>9,122.55</td>\n",
       "      <td>8,295.47</td>\n",
       "      <td>8,621.90</td>\n",
       "      <td>7,780,960,000</td>\n",
       "      <td>146,981,000,000</td>\n",
       "      <td>BTC</td>\n",
       "    </tr>\n",
       "    <tr>\n",
       "      <th>3</th>\n",
       "      <td>9-Feb-18</td>\n",
       "      <td>8,271.84</td>\n",
       "      <td>8,736.98</td>\n",
       "      <td>7,884.71</td>\n",
       "      <td>8,736.98</td>\n",
       "      <td>6,784,820,000</td>\n",
       "      <td>139,412,000,000</td>\n",
       "      <td>BTC</td>\n",
       "    </tr>\n",
       "    <tr>\n",
       "      <th>4</th>\n",
       "      <td>8-Feb-18</td>\n",
       "      <td>7,637.86</td>\n",
       "      <td>8,558.77</td>\n",
       "      <td>7,637.86</td>\n",
       "      <td>8,265.59</td>\n",
       "      <td>9,346,750,000</td>\n",
       "      <td>128,714,000,000</td>\n",
       "      <td>BTC</td>\n",
       "    </tr>\n",
       "    <tr>\n",
       "      <th>...</th>\n",
       "      <td>...</td>\n",
       "      <td>...</td>\n",
       "      <td>...</td>\n",
       "      <td>...</td>\n",
       "      <td>...</td>\n",
       "      <td>...</td>\n",
       "      <td>...</td>\n",
       "      <td>...</td>\n",
       "    </tr>\n",
       "    <tr>\n",
       "      <th>2260</th>\n",
       "      <td>17-Feb-17</td>\n",
       "      <td>13.07</td>\n",
       "      <td>13.34</td>\n",
       "      <td>13.04</td>\n",
       "      <td>13.3</td>\n",
       "      <td>1,711,010</td>\n",
       "      <td>182,332,000</td>\n",
       "      <td>XMR</td>\n",
       "    </tr>\n",
       "    <tr>\n",
       "      <th>2261</th>\n",
       "      <td>16-Feb-17</td>\n",
       "      <td>13.62</td>\n",
       "      <td>13.62</td>\n",
       "      <td>12.91</td>\n",
       "      <td>13.1</td>\n",
       "      <td>3,256,190</td>\n",
       "      <td>189,926,000</td>\n",
       "      <td>XMR</td>\n",
       "    </tr>\n",
       "    <tr>\n",
       "      <th>2262</th>\n",
       "      <td>15-Feb-17</td>\n",
       "      <td>13.01</td>\n",
       "      <td>13.74</td>\n",
       "      <td>12.88</td>\n",
       "      <td>13.62</td>\n",
       "      <td>4,811,600</td>\n",
       "      <td>181,497,000</td>\n",
       "      <td>XMR</td>\n",
       "    </tr>\n",
       "    <tr>\n",
       "      <th>2263</th>\n",
       "      <td>14-Feb-17</td>\n",
       "      <td>12.2</td>\n",
       "      <td>13.2</td>\n",
       "      <td>12.11</td>\n",
       "      <td>12.99</td>\n",
       "      <td>4,166,850</td>\n",
       "      <td>170,135,000</td>\n",
       "      <td>XMR</td>\n",
       "    </tr>\n",
       "    <tr>\n",
       "      <th>2264</th>\n",
       "      <td>13-Feb-17</td>\n",
       "      <td>12.31</td>\n",
       "      <td>12.36</td>\n",
       "      <td>12.09</td>\n",
       "      <td>12.2</td>\n",
       "      <td>1,687,590</td>\n",
       "      <td>171,557,000</td>\n",
       "      <td>XMR</td>\n",
       "    </tr>\n",
       "  </tbody>\n",
       "</table>\n",
       "<p>2265 rows × 8 columns</p>\n",
       "</div>"
      ],
      "text/plain": [
       "           date      open      high       low     close         volume  \\\n",
       "0     12-Feb-18  8,141.43  8,985.92  8,141.43  8,926.57  6,256,440,000   \n",
       "1     11-Feb-18  8,616.13  8,616.13  7,931.10  8,129.97  6,122,190,000   \n",
       "2     10-Feb-18  8,720.08  9,122.55  8,295.47  8,621.90  7,780,960,000   \n",
       "3      9-Feb-18  8,271.84  8,736.98  7,884.71  8,736.98  6,784,820,000   \n",
       "4      8-Feb-18  7,637.86  8,558.77  7,637.86  8,265.59  9,346,750,000   \n",
       "...         ...       ...       ...       ...       ...            ...   \n",
       "2260  17-Feb-17     13.07     13.34     13.04      13.3      1,711,010   \n",
       "2261  16-Feb-17     13.62     13.62     12.91      13.1      3,256,190   \n",
       "2262  15-Feb-17     13.01     13.74     12.88     13.62      4,811,600   \n",
       "2263  14-Feb-17      12.2      13.2     12.11     12.99      4,166,850   \n",
       "2264  13-Feb-17     12.31     12.36     12.09      12.2      1,687,590   \n",
       "\n",
       "           market_cap coin  \n",
       "0     137,258,000,000  BTC  \n",
       "1     145,245,000,000  BTC  \n",
       "2     146,981,000,000  BTC  \n",
       "3     139,412,000,000  BTC  \n",
       "4     128,714,000,000  BTC  \n",
       "...               ...  ...  \n",
       "2260      182,332,000  XMR  \n",
       "2261      189,926,000  XMR  \n",
       "2262      181,497,000  XMR  \n",
       "2263      170,135,000  XMR  \n",
       "2264      171,557,000  XMR  \n",
       "\n",
       "[2265 rows x 8 columns]"
      ]
     },
     "execution_count": 2,
     "metadata": {},
     "output_type": "execute_result"
    }
   ],
   "source": [
    "df"
   ]
  },
  {
   "cell_type": "code",
   "execution_count": 3,
   "metadata": {},
   "outputs": [
    {
     "data": {
      "text/plain": [
       "date          object\n",
       "open          object\n",
       "high          object\n",
       "low           object\n",
       "close         object\n",
       "volume        object\n",
       "market_cap    object\n",
       "coin          object\n",
       "dtype: object"
      ]
     },
     "execution_count": 3,
     "metadata": {},
     "output_type": "execute_result"
    }
   ],
   "source": [
    "df.dtypes\n"
   ]
  },
  {
   "cell_type": "code",
   "execution_count": 4,
   "metadata": {},
   "outputs": [],
   "source": [
    "df.replace(',','', regex=True, inplace=True)"
   ]
  },
  {
   "cell_type": "code",
   "execution_count": 5,
   "metadata": {},
   "outputs": [
    {
     "data": {
      "text/html": [
       "<div>\n",
       "<style scoped>\n",
       "    .dataframe tbody tr th:only-of-type {\n",
       "        vertical-align: middle;\n",
       "    }\n",
       "\n",
       "    .dataframe tbody tr th {\n",
       "        vertical-align: top;\n",
       "    }\n",
       "\n",
       "    .dataframe thead th {\n",
       "        text-align: right;\n",
       "    }\n",
       "</style>\n",
       "<table border=\"1\" class=\"dataframe\">\n",
       "  <thead>\n",
       "    <tr style=\"text-align: right;\">\n",
       "      <th></th>\n",
       "      <th>date</th>\n",
       "      <th>open</th>\n",
       "      <th>high</th>\n",
       "      <th>low</th>\n",
       "      <th>close</th>\n",
       "      <th>volume</th>\n",
       "      <th>market_cap</th>\n",
       "      <th>coin</th>\n",
       "    </tr>\n",
       "  </thead>\n",
       "  <tbody>\n",
       "    <tr>\n",
       "      <th>0</th>\n",
       "      <td>12-Feb-18</td>\n",
       "      <td>8141.43</td>\n",
       "      <td>8985.92</td>\n",
       "      <td>8141.43</td>\n",
       "      <td>8926.57</td>\n",
       "      <td>6256440000</td>\n",
       "      <td>137258000000</td>\n",
       "      <td>BTC</td>\n",
       "    </tr>\n",
       "    <tr>\n",
       "      <th>1</th>\n",
       "      <td>11-Feb-18</td>\n",
       "      <td>8616.13</td>\n",
       "      <td>8616.13</td>\n",
       "      <td>7931.10</td>\n",
       "      <td>8129.97</td>\n",
       "      <td>6122190000</td>\n",
       "      <td>145245000000</td>\n",
       "      <td>BTC</td>\n",
       "    </tr>\n",
       "    <tr>\n",
       "      <th>2</th>\n",
       "      <td>10-Feb-18</td>\n",
       "      <td>8720.08</td>\n",
       "      <td>9122.55</td>\n",
       "      <td>8295.47</td>\n",
       "      <td>8621.90</td>\n",
       "      <td>7780960000</td>\n",
       "      <td>146981000000</td>\n",
       "      <td>BTC</td>\n",
       "    </tr>\n",
       "    <tr>\n",
       "      <th>3</th>\n",
       "      <td>9-Feb-18</td>\n",
       "      <td>8271.84</td>\n",
       "      <td>8736.98</td>\n",
       "      <td>7884.71</td>\n",
       "      <td>8736.98</td>\n",
       "      <td>6784820000</td>\n",
       "      <td>139412000000</td>\n",
       "      <td>BTC</td>\n",
       "    </tr>\n",
       "    <tr>\n",
       "      <th>4</th>\n",
       "      <td>8-Feb-18</td>\n",
       "      <td>7637.86</td>\n",
       "      <td>8558.77</td>\n",
       "      <td>7637.86</td>\n",
       "      <td>8265.59</td>\n",
       "      <td>9346750000</td>\n",
       "      <td>128714000000</td>\n",
       "      <td>BTC</td>\n",
       "    </tr>\n",
       "    <tr>\n",
       "      <th>...</th>\n",
       "      <td>...</td>\n",
       "      <td>...</td>\n",
       "      <td>...</td>\n",
       "      <td>...</td>\n",
       "      <td>...</td>\n",
       "      <td>...</td>\n",
       "      <td>...</td>\n",
       "      <td>...</td>\n",
       "    </tr>\n",
       "    <tr>\n",
       "      <th>2260</th>\n",
       "      <td>17-Feb-17</td>\n",
       "      <td>13.07</td>\n",
       "      <td>13.34</td>\n",
       "      <td>13.04</td>\n",
       "      <td>13.3</td>\n",
       "      <td>1711010</td>\n",
       "      <td>182332000</td>\n",
       "      <td>XMR</td>\n",
       "    </tr>\n",
       "    <tr>\n",
       "      <th>2261</th>\n",
       "      <td>16-Feb-17</td>\n",
       "      <td>13.62</td>\n",
       "      <td>13.62</td>\n",
       "      <td>12.91</td>\n",
       "      <td>13.1</td>\n",
       "      <td>3256190</td>\n",
       "      <td>189926000</td>\n",
       "      <td>XMR</td>\n",
       "    </tr>\n",
       "    <tr>\n",
       "      <th>2262</th>\n",
       "      <td>15-Feb-17</td>\n",
       "      <td>13.01</td>\n",
       "      <td>13.74</td>\n",
       "      <td>12.88</td>\n",
       "      <td>13.62</td>\n",
       "      <td>4811600</td>\n",
       "      <td>181497000</td>\n",
       "      <td>XMR</td>\n",
       "    </tr>\n",
       "    <tr>\n",
       "      <th>2263</th>\n",
       "      <td>14-Feb-17</td>\n",
       "      <td>12.2</td>\n",
       "      <td>13.2</td>\n",
       "      <td>12.11</td>\n",
       "      <td>12.99</td>\n",
       "      <td>4166850</td>\n",
       "      <td>170135000</td>\n",
       "      <td>XMR</td>\n",
       "    </tr>\n",
       "    <tr>\n",
       "      <th>2264</th>\n",
       "      <td>13-Feb-17</td>\n",
       "      <td>12.31</td>\n",
       "      <td>12.36</td>\n",
       "      <td>12.09</td>\n",
       "      <td>12.2</td>\n",
       "      <td>1687590</td>\n",
       "      <td>171557000</td>\n",
       "      <td>XMR</td>\n",
       "    </tr>\n",
       "  </tbody>\n",
       "</table>\n",
       "<p>2265 rows × 8 columns</p>\n",
       "</div>"
      ],
      "text/plain": [
       "           date     open     high      low    close      volume    market_cap  \\\n",
       "0     12-Feb-18  8141.43  8985.92  8141.43  8926.57  6256440000  137258000000   \n",
       "1     11-Feb-18  8616.13  8616.13  7931.10  8129.97  6122190000  145245000000   \n",
       "2     10-Feb-18  8720.08  9122.55  8295.47  8621.90  7780960000  146981000000   \n",
       "3      9-Feb-18  8271.84  8736.98  7884.71  8736.98  6784820000  139412000000   \n",
       "4      8-Feb-18  7637.86  8558.77  7637.86  8265.59  9346750000  128714000000   \n",
       "...         ...      ...      ...      ...      ...         ...           ...   \n",
       "2260  17-Feb-17    13.07    13.34    13.04     13.3     1711010     182332000   \n",
       "2261  16-Feb-17    13.62    13.62    12.91     13.1     3256190     189926000   \n",
       "2262  15-Feb-17    13.01    13.74    12.88    13.62     4811600     181497000   \n",
       "2263  14-Feb-17     12.2     13.2    12.11    12.99     4166850     170135000   \n",
       "2264  13-Feb-17    12.31    12.36    12.09     12.2     1687590     171557000   \n",
       "\n",
       "     coin  \n",
       "0     BTC  \n",
       "1     BTC  \n",
       "2     BTC  \n",
       "3     BTC  \n",
       "4     BTC  \n",
       "...   ...  \n",
       "2260  XMR  \n",
       "2261  XMR  \n",
       "2262  XMR  \n",
       "2263  XMR  \n",
       "2264  XMR  \n",
       "\n",
       "[2265 rows x 8 columns]"
      ]
     },
     "execution_count": 5,
     "metadata": {},
     "output_type": "execute_result"
    }
   ],
   "source": [
    "df"
   ]
  },
  {
   "cell_type": "code",
   "execution_count": 6,
   "metadata": {},
   "outputs": [
    {
     "data": {
      "text/plain": [
       "ETH      365\n",
       "XMR      365\n",
       "LTC      365\n",
       "XRP      365\n",
       "BTC      365\n",
       "MIOTA    245\n",
       "BCH      195\n",
       "Name: coin, dtype: int64"
      ]
     },
     "execution_count": 6,
     "metadata": {},
     "output_type": "execute_result"
    }
   ],
   "source": [
    "df.coin.value_counts()"
   ]
  },
  {
   "cell_type": "code",
   "execution_count": 29,
   "metadata": {},
   "outputs": [],
   "source": [
    "df_bitcoin = df.iloc[:365]"
   ]
  },
  {
   "cell_type": "code",
   "execution_count": 36,
   "metadata": {},
   "outputs": [
    {
     "name": "stderr",
     "output_type": "stream",
     "text": [
      "<ipython-input-36-fde652a037e9>:1: SettingWithCopyWarning: \n",
      "A value is trying to be set on a copy of a slice from a DataFrame.\n",
      "Try using .loc[row_indexer,col_indexer] = value instead\n",
      "\n",
      "See the caveats in the documentation: https://pandas.pydata.org/pandas-docs/stable/user_guide/indexing.html#returning-a-view-versus-a-copy\n",
      "  df_bitcoin['date'] = pd.to_datetime(df_bitcoin.date, format='%d-%b-%y', errors = 'coerce').dropna()\n"
     ]
    },
    {
     "data": {
      "text/plain": [
       "0     2018-02-12\n",
       "1     2018-02-11\n",
       "2     2018-02-10\n",
       "3     2018-02-09\n",
       "4     2018-02-08\n",
       "         ...    \n",
       "360   2017-02-17\n",
       "361   2017-02-16\n",
       "362   2017-02-15\n",
       "363   2017-02-14\n",
       "364   2017-02-13\n",
       "Name: date, Length: 365, dtype: datetime64[ns]"
      ]
     },
     "execution_count": 36,
     "metadata": {},
     "output_type": "execute_result"
    }
   ],
   "source": [
    "df_bitcoin['date'] = pd.to_datetime(df_bitcoin.date, format='%d-%b-%y', errors = 'coerce').dropna()\n",
    "df_bitcoin.date"
   ]
  },
  {
   "cell_type": "code",
   "execution_count": 37,
   "metadata": {},
   "outputs": [],
   "source": [
    "# I don't know why this won't work and I give up. "
   ]
  },
  {
   "cell_type": "code",
   "execution_count": 39,
   "metadata": {},
   "outputs": [
    {
     "name": "stderr",
     "output_type": "stream",
     "text": [
      "<ipython-input-39-412de3ea8221>:1: SettingWithCopyWarning: \n",
      "A value is trying to be set on a copy of a slice from a DataFrame.\n",
      "Try using .loc[row_indexer,col_indexer] = value instead\n",
      "\n",
      "See the caveats in the documentation: https://pandas.pydata.org/pandas-docs/stable/user_guide/indexing.html#returning-a-view-versus-a-copy\n",
      "  df_bitcoin[\"week\"]= df_bitcoin.date.dt.strftime(\"%W\")\n"
     ]
    }
   ],
   "source": [
    "df_bitcoin[\"week\"]= df_bitcoin.date.dt.strftime(\"%W\")"
   ]
  },
  {
   "cell_type": "code",
   "execution_count": 40,
   "metadata": {},
   "outputs": [
    {
     "name": "stderr",
     "output_type": "stream",
     "text": [
      "<ipython-input-40-f5244d52af66>:1: SettingWithCopyWarning: \n",
      "A value is trying to be set on a copy of a slice from a DataFrame.\n",
      "Try using .loc[row_indexer,col_indexer] = value instead\n",
      "\n",
      "See the caveats in the documentation: https://pandas.pydata.org/pandas-docs/stable/user_guide/indexing.html#returning-a-view-versus-a-copy\n",
      "  df_bitcoin['high'] = df_bitcoin['high'].astype(float)\n"
     ]
    }
   ],
   "source": [
    "df_bitcoin['high'] = df_bitcoin['high'].astype(float)"
   ]
  },
  {
   "cell_type": "code",
   "execution_count": 41,
   "metadata": {},
   "outputs": [
    {
     "data": {
      "text/plain": [
       "date          datetime64[ns]\n",
       "open                  object\n",
       "high                 float64\n",
       "low                   object\n",
       "close                 object\n",
       "volume                object\n",
       "market_cap            object\n",
       "coin                  object\n",
       "week                  object\n",
       "dtype: object"
      ]
     },
     "execution_count": 41,
     "metadata": {},
     "output_type": "execute_result"
    }
   ],
   "source": [
    "df_bitcoin.dtypes"
   ]
  },
  {
   "cell_type": "code",
   "execution_count": 48,
   "metadata": {},
   "outputs": [
    {
     "data": {
      "text/plain": [
       "<AxesSubplot:xlabel='week'>"
      ]
     },
     "execution_count": 48,
     "metadata": {},
     "output_type": "execute_result"
    },
    {
     "data": {
      "image/png": "[encoded data removed]",
      "text/plain": [
       "<Figure size 1440x720 with 1 Axes>"
      ]
     },
     "metadata": {
      "needs_background": "light"
     },
     "output_type": "display_data"
    }
   ],
   "source": [
    "df_bitcoin.groupby('week').high.sum().plot(figsize = (20, 10))"
   ]
  },
  {
   "cell_type": "code",
   "execution_count": 47,
   "metadata": {},
   "outputs": [
    {
     "data": {
      "text/plain": [
       "<AxesSubplot:>"
      ]
     },
     "execution_count": 47,
     "metadata": {},
     "output_type": "execute_result"
    },
    {
     "data": {
      "image/png": "[encoded data removed]",
      "text/plain": [
       "<Figure size 1440x720 with 1 Axes>"
      ]
     },
     "metadata": {
      "needs_background": "light"
     },
     "output_type": "display_data"
    }
   ],
   "source": [
    "df_bitcoin.high.plot(x = 'date', y= 'high', figsize = (20, 10))"
   ]
  },
  {
   "cell_type": "code",
   "execution_count": 127,
   "metadata": {},
   "outputs": [
    {
     "ename": "TypeError",
     "evalue": "Only valid with DatetimeIndex, TimedeltaIndex or PeriodIndex, but got an instance of 'RangeIndex'",
     "output_type": "error",
     "traceback": [
      "\u001b[0;31m---------------------------------------------------------------------------\u001b[0m",
      "\u001b[0;31mTypeError\u001b[0m                                 Traceback (most recent call last)",
      "\u001b[0;32m<ipython-input-127-cdbff0e67965>\u001b[0m in \u001b[0;36m<module>\u001b[0;34m\u001b[0m\n\u001b[0;32m----> 1\u001b[0;31m \u001b[0mdf_bitcoin\u001b[0m\u001b[0;34m.\u001b[0m\u001b[0mresample\u001b[0m\u001b[0;34m(\u001b[0m\u001b[0;34m'W'\u001b[0m\u001b[0;34m)\u001b[0m\u001b[0;34m.\u001b[0m\u001b[0mhigh\u001b[0m\u001b[0;34m.\u001b[0m\u001b[0msum\u001b[0m\u001b[0;34m(\u001b[0m\u001b[0;34m)\u001b[0m\u001b[0;34m.\u001b[0m\u001b[0mplot\u001b[0m\u001b[0;34m(\u001b[0m\u001b[0;34m)\u001b[0m\u001b[0;34m\u001b[0m\u001b[0;34m\u001b[0m\u001b[0m\n\u001b[0m",
      "\u001b[0;32m~/.pyenv/versions/3.8.2/lib/python3.8/site-packages/pandas/core/generic.py\u001b[0m in \u001b[0;36mresample\u001b[0;34m(self, rule, axis, closed, label, convention, kind, loffset, base, on, level, origin, offset)\u001b[0m\n\u001b[1;32m   8075\u001b[0m \u001b[0;34m\u001b[0m\u001b[0m\n\u001b[1;32m   8076\u001b[0m         \u001b[0maxis\u001b[0m \u001b[0;34m=\u001b[0m \u001b[0mself\u001b[0m\u001b[0;34m.\u001b[0m\u001b[0m_get_axis_number\u001b[0m\u001b[0;34m(\u001b[0m\u001b[0maxis\u001b[0m\u001b[0;34m)\u001b[0m\u001b[0;34m\u001b[0m\u001b[0;34m\u001b[0m\u001b[0m\n\u001b[0;32m-> 8077\u001b[0;31m         return get_resampler(\n\u001b[0m\u001b[1;32m   8078\u001b[0m             \u001b[0mself\u001b[0m\u001b[0;34m,\u001b[0m\u001b[0;34m\u001b[0m\u001b[0;34m\u001b[0m\u001b[0m\n\u001b[1;32m   8079\u001b[0m             \u001b[0mfreq\u001b[0m\u001b[0;34m=\u001b[0m\u001b[0mrule\u001b[0m\u001b[0;34m,\u001b[0m\u001b[0;34m\u001b[0m\u001b[0;34m\u001b[0m\u001b[0m\n",
      "\u001b[0;32m~/.pyenv/versions/3.8.2/lib/python3.8/site-packages/pandas/core/resample.py\u001b[0m in \u001b[0;36mget_resampler\u001b[0;34m(obj, kind, **kwds)\u001b[0m\n\u001b[1;32m   1268\u001b[0m     \"\"\"\n\u001b[1;32m   1269\u001b[0m     \u001b[0mtg\u001b[0m \u001b[0;34m=\u001b[0m \u001b[0mTimeGrouper\u001b[0m\u001b[0;34m(\u001b[0m\u001b[0;34m**\u001b[0m\u001b[0mkwds\u001b[0m\u001b[0;34m)\u001b[0m\u001b[0;34m\u001b[0m\u001b[0;34m\u001b[0m\u001b[0m\n\u001b[0;32m-> 1270\u001b[0;31m     \u001b[0;32mreturn\u001b[0m \u001b[0mtg\u001b[0m\u001b[0;34m.\u001b[0m\u001b[0m_get_resampler\u001b[0m\u001b[0;34m(\u001b[0m\u001b[0mobj\u001b[0m\u001b[0;34m,\u001b[0m \u001b[0mkind\u001b[0m\u001b[0;34m=\u001b[0m\u001b[0mkind\u001b[0m\u001b[0;34m)\u001b[0m\u001b[0;34m\u001b[0m\u001b[0;34m\u001b[0m\u001b[0m\n\u001b[0m\u001b[1;32m   1271\u001b[0m \u001b[0;34m\u001b[0m\u001b[0m\n\u001b[1;32m   1272\u001b[0m \u001b[0;34m\u001b[0m\u001b[0m\n",
      "\u001b[0;32m~/.pyenv/versions/3.8.2/lib/python3.8/site-packages/pandas/core/resample.py\u001b[0m in \u001b[0;36m_get_resampler\u001b[0;34m(self, obj, kind)\u001b[0m\n\u001b[1;32m   1433\u001b[0m             \u001b[0;32mreturn\u001b[0m \u001b[0mTimedeltaIndexResampler\u001b[0m\u001b[0;34m(\u001b[0m\u001b[0mobj\u001b[0m\u001b[0;34m,\u001b[0m \u001b[0mgroupby\u001b[0m\u001b[0;34m=\u001b[0m\u001b[0mself\u001b[0m\u001b[0;34m,\u001b[0m \u001b[0maxis\u001b[0m\u001b[0;34m=\u001b[0m\u001b[0mself\u001b[0m\u001b[0;34m.\u001b[0m\u001b[0maxis\u001b[0m\u001b[0;34m)\u001b[0m\u001b[0;34m\u001b[0m\u001b[0;34m\u001b[0m\u001b[0m\n\u001b[1;32m   1434\u001b[0m \u001b[0;34m\u001b[0m\u001b[0m\n\u001b[0;32m-> 1435\u001b[0;31m         raise TypeError(\n\u001b[0m\u001b[1;32m   1436\u001b[0m             \u001b[0;34m\"Only valid with DatetimeIndex, \"\u001b[0m\u001b[0;34m\u001b[0m\u001b[0;34m\u001b[0m\u001b[0m\n\u001b[1;32m   1437\u001b[0m             \u001b[0;34m\"TimedeltaIndex or PeriodIndex, \"\u001b[0m\u001b[0;34m\u001b[0m\u001b[0;34m\u001b[0m\u001b[0m\n",
      "\u001b[0;31mTypeError\u001b[0m: Only valid with DatetimeIndex, TimedeltaIndex or PeriodIndex, but got an instance of 'RangeIndex'"
     ]
    }
   ],
   "source": [
    "df_bitcoin.plot"
   ]
  },
  {
   "cell_type": "code",
   "execution_count": null,
   "metadata": {},
   "outputs": [],
   "source": []
  },
  {
   "cell_type": "code",
   "execution_count": null,
   "metadata": {},
   "outputs": [],
   "source": []
  }
 ],
 "metadata": {
  "kernelspec": {
   "display_name": "Python 3",
   "language": "python",
   "name": "python3"
  },
  "language_info": {
   "codemirror_mode": {
    "name": "ipython",
    "version": 3
   },
   "file_extension": ".py",
   "mimetype": "text/x-python",
   "name": "python",
   "nbconvert_exporter": "python",
   "pygments_lexer": "ipython3",
   "version": "3.8.2"
  }
 },
 "nbformat": 4,
 "nbformat_minor": 2
}
